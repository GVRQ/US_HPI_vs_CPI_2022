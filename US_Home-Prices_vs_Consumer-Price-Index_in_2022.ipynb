{
 "cells": [
  {
   "cell_type": "markdown",
   "id": "9e36e29a",
   "metadata": {},
   "source": [
    "# **HPI vs CPI in the US [2022].**"
   ]
  },
  {
   "cell_type": "markdown",
   "id": "2065ae3c",
   "metadata": {},
   "source": [
    "The goal of this project is to provide an overview of **U.S. Home Prices vs. Consumer Price Index in 2022**.\n",
    "\n",
    "**1. Business Problem**\n",
    "\n",
    "Housing prices across the country grow and decline at different rates during 2022. As a means of comparison, the S&P Case Shiller U.S. National Home Price Index (HPI) data is combined and graphed with the United States Consumer Price Index (CPI) data. 2022-Q3 & 2022-Q4 values are missing and need to be predicted to provide a complete overview of the U.S. Home Prices vs. Consumer Price Index in 2022.\n",
    "\n",
    "**2. Business Assumptions**\n",
    "\n",
    "* Will the CPI fall behind the growth or change in HPI during 2022?\n",
    "\n",
    "**3. Solution Strategy**\n",
    "\n",
    "My solution is to develop a data science project with machine learning forecasting of the Q3 & Q4 data to compare and analyze CPI & HPI performances during the entire year 2022.\n",
    "\n",
    "**Step 01. Data Description**: In this first section the data will be collected and studied. An initial data description will be carried out to know the data. Therefore some calculations of descriptive statistics will be made.\n",
    "\n",
    "**Step 02. Data Prediction**: In this section, Timeseries forecasting with machine learning models with linear regression algorithms will be created to assist the EDA. ML models will analyze 75 years of CPI data & 35 years of HPI data. Predictions for Q3 & Q4 2022 will be made.\n",
    "\n",
    "**Step 03. Data Analysis**: In this section, we will analyze actual data and predicted data to discover unique insights and trends. The difference between `Predicted HPI vs Actual HPI` and `Predicted CPI vs Actual CPI` will be analyzed. Data visualization will provide an accessible way to see and understand trends, outliers, and patterns in data.\n",
    "\n",
    "**Step 04. Conclusion**: This is a conclusion stage that provides insights needed to answer business questions and present the applicability of the EDA's results in the business context.\n",
    "____\n",
    "We will use open-sourced data from Federal Reserve Economic Data | FRED | St. Louis Fed (https://fred.stlouisfed.org).\n",
    "\n",
    "* CPI Data: CPIAUCSL: Consumer Price Index for All Urban Consumers - FRED\n",
    "* HPI Data: CSUSHPINSA: S&P/Case-Shiller U.S. National Home Price Index - FRED\n",
    "\n",
    "*Data is collected on October 4, 2022.*"
   ]
  },
  {
   "cell_type": "markdown",
   "id": "2e0a94dc",
   "metadata": {
    "heading_collapsed": true
   },
   "source": [
    "# Data imports"
   ]
  },
  {
   "cell_type": "code",
   "execution_count": 1,
   "id": "bfc03814",
   "metadata": {
    "hidden": true
   },
   "outputs": [
    {
     "name": "stdout",
     "output_type": "stream",
     "text": [
      "Requirement already satisfied: fbprophet in /Library/Frameworks/Python.framework/Versions/3.9/lib/python3.9/site-packages (0.7.1)\n",
      "Requirement already satisfied: Cython>=0.22 in /Library/Frameworks/Python.framework/Versions/3.9/lib/python3.9/site-packages (from fbprophet) (0.29.32)\n",
      "Requirement already satisfied: tqdm>=4.36.1 in /Library/Frameworks/Python.framework/Versions/3.9/lib/python3.9/site-packages (from fbprophet) (4.62.3)\n",
      "Requirement already satisfied: convertdate>=2.1.2 in /Library/Frameworks/Python.framework/Versions/3.9/lib/python3.9/site-packages (from fbprophet) (2.4.0)\n",
      "Requirement already satisfied: setuptools-git>=1.2 in /Library/Frameworks/Python.framework/Versions/3.9/lib/python3.9/site-packages (from fbprophet) (1.2)\n",
      "Requirement already satisfied: pandas>=1.0.4 in /Library/Frameworks/Python.framework/Versions/3.9/lib/python3.9/site-packages (from fbprophet) (1.4.0)\n",
      "Requirement already satisfied: pystan>=2.14 in /Library/Frameworks/Python.framework/Versions/3.9/lib/python3.9/site-packages (from fbprophet) (2.19.1.1)\n",
      "Requirement already satisfied: cmdstanpy==0.9.5 in /Library/Frameworks/Python.framework/Versions/3.9/lib/python3.9/site-packages (from fbprophet) (0.9.5)\n",
      "Requirement already satisfied: matplotlib>=2.0.0 in /Library/Frameworks/Python.framework/Versions/3.9/lib/python3.9/site-packages (from fbprophet) (3.5.1)\n",
      "Requirement already satisfied: holidays>=0.10.2 in /Library/Frameworks/Python.framework/Versions/3.9/lib/python3.9/site-packages (from fbprophet) (0.14.2)\n",
      "Requirement already satisfied: LunarCalendar>=0.0.9 in /Library/Frameworks/Python.framework/Versions/3.9/lib/python3.9/site-packages (from fbprophet) (0.0.9)\n",
      "Requirement already satisfied: numpy>=1.15.4 in /Library/Frameworks/Python.framework/Versions/3.9/lib/python3.9/site-packages (from fbprophet) (1.22.1)\n",
      "Requirement already satisfied: python-dateutil>=2.8.0 in /Library/Frameworks/Python.framework/Versions/3.9/lib/python3.9/site-packages (from fbprophet) (2.8.2)\n",
      "Requirement already satisfied: pymeeus<=1,>=0.3.13 in /Library/Frameworks/Python.framework/Versions/3.9/lib/python3.9/site-packages (from convertdate>=2.1.2->fbprophet) (0.5.11)\n",
      "Requirement already satisfied: hijri-converter in /Library/Frameworks/Python.framework/Versions/3.9/lib/python3.9/site-packages (from holidays>=0.10.2->fbprophet) (2.2.4)\n",
      "Requirement already satisfied: korean-lunar-calendar in /Library/Frameworks/Python.framework/Versions/3.9/lib/python3.9/site-packages (from holidays>=0.10.2->fbprophet) (0.2.1)\n",
      "Requirement already satisfied: pytz in /Library/Frameworks/Python.framework/Versions/3.9/lib/python3.9/site-packages (from LunarCalendar>=0.0.9->fbprophet) (2021.3)\n",
      "Requirement already satisfied: ephem>=3.7.5.3 in /Library/Frameworks/Python.framework/Versions/3.9/lib/python3.9/site-packages (from LunarCalendar>=0.0.9->fbprophet) (4.1.3)\n",
      "Requirement already satisfied: kiwisolver>=1.0.1 in /Library/Frameworks/Python.framework/Versions/3.9/lib/python3.9/site-packages (from matplotlib>=2.0.0->fbprophet) (1.3.2)\n",
      "Requirement already satisfied: packaging>=20.0 in /Library/Frameworks/Python.framework/Versions/3.9/lib/python3.9/site-packages (from matplotlib>=2.0.0->fbprophet) (21.3)\n",
      "Requirement already satisfied: pyparsing>=2.2.1 in /Library/Frameworks/Python.framework/Versions/3.9/lib/python3.9/site-packages (from matplotlib>=2.0.0->fbprophet) (2.4.7)\n",
      "Requirement already satisfied: cycler>=0.10 in /Library/Frameworks/Python.framework/Versions/3.9/lib/python3.9/site-packages (from matplotlib>=2.0.0->fbprophet) (0.11.0)\n",
      "Requirement already satisfied: fonttools>=4.22.0 in /Library/Frameworks/Python.framework/Versions/3.9/lib/python3.9/site-packages (from matplotlib>=2.0.0->fbprophet) (4.29.1)\n",
      "Requirement already satisfied: pillow>=6.2.0 in /Library/Frameworks/Python.framework/Versions/3.9/lib/python3.9/site-packages (from matplotlib>=2.0.0->fbprophet) (9.0.1)\n",
      "Requirement already satisfied: six>=1.5 in /Library/Frameworks/Python.framework/Versions/3.9/lib/python3.9/site-packages (from python-dateutil>=2.8.0->fbprophet) (1.16.0)\n"
     ]
    }
   ],
   "source": [
    "!pip install fbprophet"
   ]
  },
  {
   "cell_type": "code",
   "execution_count": 2,
   "id": "77f9393d",
   "metadata": {
    "hidden": true
   },
   "outputs": [],
   "source": [
    "import pandas as pd\n",
    "import matplotlib as plt\n",
    "import numpy as np\n",
    "import statsmodels.api as sm\n",
    "import pystan\n",
    "import seaborn as sns\n",
    "import matplotlib.pyplot as plt\n",
    "import statsmodels.graphics.tsaplots as sgt\n",
    "\n",
    "from matplotlib import pyplot as plt\n",
    "from statsmodels.tsa.stattools import adfuller\n",
    "from statsmodels.tsa.seasonal import seasonal_decompose\n",
    "from statsmodels.tsa.arima.model import ARIMA\n",
    "from fbprophet import Prophet\n",
    "from IPython.display import HTML, display\n",
    "\n",
    "import warnings\n",
    "warnings.filterwarnings(\"ignore\")"
   ]
  },
  {
   "cell_type": "markdown",
   "id": "bc59ee0c",
   "metadata": {},
   "source": [
    "# Data Description: CPI"
   ]
  },
  {
   "cell_type": "markdown",
   "id": "2837d1f5",
   "metadata": {},
   "source": [
    "## CPI: The Consumer Price Index"
   ]
  },
  {
   "cell_type": "code",
   "execution_count": 3,
   "id": "1a34de91",
   "metadata": {},
   "outputs": [],
   "source": [
    "try:\n",
    "    cpi_data = pd.read_csv(\"CPIAUCSL.csv\",parse_dates = True)\n",
    "except:\n",
    "    try:\n",
    "        cpi_data = pd.read_csv(r'/Users/Admin/Y_privat/CPI_HOUSE/CPIAUCSL.csv',parse_dates = True)\n",
    "    except:\n",
    "        cpi_data = pd.read_csv(\"https://fred.stlouisfed.org/graph/fredgraph.csv?bgcolor=%23e1e9f0&chart_type=line&drp=0&fo=open%20sans&graph_bgcolor=%23ffffff&height=450&mode=fred&recession_bars=on&txtcolor=%23444444&ts=12&tts=12&width=1168&nt=0&thu=0&trc=0&show_legend=yes&show_axis_titles=yes&show_tooltip=yes&id=CPIAUCSL&scale=left&cosd=1947-01-01&coed=2022-08-01&line_color=%234572a7&link_values=false&line_style=solid&mark_type=none&mw=3&lw=2&ost=-99999&oet=99999&mma=0&fml=a&fq=Monthly&fam=avg&fgst=lin&fgsnd=2020-02-01&line_index=1&transformation=lin&vintage_date=2022-10-03&revision_date=2022-10-03&nd=1947-01-01\",parse_dates = True)"
   ]
  },
  {
   "cell_type": "code",
   "execution_count": 4,
   "id": "f897edff",
   "metadata": {},
   "outputs": [],
   "source": [
    "cpi_data['DATE'] = pd.to_datetime(cpi_data['DATE'])\n",
    "cpi_data.rename(columns = {'DATE':'ds', 'CPIAUCSL':'y'}, inplace = True)"
   ]
  },
  {
   "cell_type": "code",
   "execution_count": 5,
   "id": "733c8af4",
   "metadata": {},
   "outputs": [
    {
     "data": {
      "text/html": [
       "<div>\n",
       "<style scoped>\n",
       "    .dataframe tbody tr th:only-of-type {\n",
       "        vertical-align: middle;\n",
       "    }\n",
       "\n",
       "    .dataframe tbody tr th {\n",
       "        vertical-align: top;\n",
       "    }\n",
       "\n",
       "    .dataframe thead th {\n",
       "        text-align: right;\n",
       "    }\n",
       "</style>\n",
       "<table border=\"1\" class=\"dataframe\">\n",
       "  <thead>\n",
       "    <tr style=\"text-align: right;\">\n",
       "      <th></th>\n",
       "      <th>ds</th>\n",
       "      <th>y</th>\n",
       "    </tr>\n",
       "  </thead>\n",
       "  <tbody>\n",
       "    <tr>\n",
       "      <th>count</th>\n",
       "      <td>908</td>\n",
       "      <td>908.000000</td>\n",
       "    </tr>\n",
       "    <tr>\n",
       "      <th>unique</th>\n",
       "      <td>908</td>\n",
       "      <td>NaN</td>\n",
       "    </tr>\n",
       "    <tr>\n",
       "      <th>top</th>\n",
       "      <td>1947-01-01 00:00:00</td>\n",
       "      <td>NaN</td>\n",
       "    </tr>\n",
       "    <tr>\n",
       "      <th>freq</th>\n",
       "      <td>1</td>\n",
       "      <td>NaN</td>\n",
       "    </tr>\n",
       "    <tr>\n",
       "      <th>first</th>\n",
       "      <td>1947-01-01 00:00:00</td>\n",
       "      <td>NaN</td>\n",
       "    </tr>\n",
       "    <tr>\n",
       "      <th>last</th>\n",
       "      <td>2022-08-01 00:00:00</td>\n",
       "      <td>NaN</td>\n",
       "    </tr>\n",
       "    <tr>\n",
       "      <th>mean</th>\n",
       "      <td>NaN</td>\n",
       "      <td>115.782100</td>\n",
       "    </tr>\n",
       "    <tr>\n",
       "      <th>std</th>\n",
       "      <td>NaN</td>\n",
       "      <td>81.955808</td>\n",
       "    </tr>\n",
       "    <tr>\n",
       "      <th>min</th>\n",
       "      <td>NaN</td>\n",
       "      <td>21.480000</td>\n",
       "    </tr>\n",
       "    <tr>\n",
       "      <th>25%</th>\n",
       "      <td>NaN</td>\n",
       "      <td>31.825000</td>\n",
       "    </tr>\n",
       "    <tr>\n",
       "      <th>50%</th>\n",
       "      <td>NaN</td>\n",
       "      <td>105.200000</td>\n",
       "    </tr>\n",
       "    <tr>\n",
       "      <th>75%</th>\n",
       "      <td>NaN</td>\n",
       "      <td>184.925000</td>\n",
       "    </tr>\n",
       "    <tr>\n",
       "      <th>max</th>\n",
       "      <td>NaN</td>\n",
       "      <td>295.620000</td>\n",
       "    </tr>\n",
       "  </tbody>\n",
       "</table>\n",
       "</div>"
      ],
      "text/plain": [
       "                         ds           y\n",
       "count                   908  908.000000\n",
       "unique                  908         NaN\n",
       "top     1947-01-01 00:00:00         NaN\n",
       "freq                      1         NaN\n",
       "first   1947-01-01 00:00:00         NaN\n",
       "last    2022-08-01 00:00:00         NaN\n",
       "mean                    NaN  115.782100\n",
       "std                     NaN   81.955808\n",
       "min                     NaN   21.480000\n",
       "25%                     NaN   31.825000\n",
       "50%                     NaN  105.200000\n",
       "75%                     NaN  184.925000\n",
       "max                     NaN  295.620000"
      ]
     },
     "execution_count": 5,
     "metadata": {},
     "output_type": "execute_result"
    }
   ],
   "source": [
    "cpi_data.describe(include='all')"
   ]
  },
  {
   "cell_type": "code",
   "execution_count": 6,
   "id": "45430eb7",
   "metadata": {},
   "outputs": [
    {
     "name": "stdout",
     "output_type": "stream",
     "text": [
      "Dataset Size: (908, 2)\n"
     ]
    }
   ],
   "source": [
    "print('Dataset Size:', cpi_data.shape)"
   ]
  },
  {
   "cell_type": "code",
   "execution_count": 7,
   "id": "79b63916",
   "metadata": {},
   "outputs": [],
   "source": [
    "def current_data(df):\n",
    "    print('**Data Type**')\n",
    "    print(df.info())\n",
    "    print('**5 rows**')\n",
    "    print(df.head())\n",
    "    print('-------------------------------------------------------------------------------------------------------------')\n",
    "    print('**Statistic data**')\n",
    "    print(df.describe(include = 'all'))\n",
    "    print('-------------------------------------------------------------------------------------------------------------')\n",
    "    print('**Number of duplicates**')\n",
    "    print(df.duplicated().sum())\n",
    "    print('-------------------------------------------------------------------------------------------------------------')\n",
    "    print('**Percentage of missing values**')\n",
    "    print((df.isna().sum()/len(df)*100))\n",
    "    print('-------------------------------------------------------------------------------------------------------------')\n",
    "    #print('**Number of unique values**')\n",
    "    #print(df.nunique())\n",
    "    #for column in df.columns:\n",
    "    #    print('\\n', 'Unique values:', column)\n",
    "    #    print(df[column].unique())"
   ]
  },
  {
   "cell_type": "code",
   "execution_count": 8,
   "id": "48d40253",
   "metadata": {},
   "outputs": [
    {
     "name": "stdout",
     "output_type": "stream",
     "text": [
      "**Data Type**\n",
      "<class 'pandas.core.frame.DataFrame'>\n",
      "RangeIndex: 908 entries, 0 to 907\n",
      "Data columns (total 2 columns):\n",
      " #   Column  Non-Null Count  Dtype         \n",
      "---  ------  --------------  -----         \n",
      " 0   ds      908 non-null    datetime64[ns]\n",
      " 1   y       908 non-null    float64       \n",
      "dtypes: datetime64[ns](1), float64(1)\n",
      "memory usage: 14.3 KB\n",
      "None\n",
      "**5 rows**\n",
      "          ds      y\n",
      "0 1947-01-01  21.48\n",
      "1 1947-02-01  21.62\n",
      "2 1947-03-01  22.00\n",
      "3 1947-04-01  22.00\n",
      "4 1947-05-01  21.95\n",
      "-------------------------------------------------------------------------------------------------------------\n",
      "**Statistic data**\n",
      "                         ds           y\n",
      "count                   908  908.000000\n",
      "unique                  908         NaN\n",
      "top     1947-01-01 00:00:00         NaN\n",
      "freq                      1         NaN\n",
      "first   1947-01-01 00:00:00         NaN\n",
      "last    2022-08-01 00:00:00         NaN\n",
      "mean                    NaN  115.782100\n",
      "std                     NaN   81.955808\n",
      "min                     NaN   21.480000\n",
      "25%                     NaN   31.825000\n",
      "50%                     NaN  105.200000\n",
      "75%                     NaN  184.925000\n",
      "max                     NaN  295.620000\n",
      "-------------------------------------------------------------------------------------------------------------\n",
      "**Number of duplicates**\n",
      "0\n",
      "-------------------------------------------------------------------------------------------------------------\n",
      "**Percentage of missing values**\n",
      "ds    0.0\n",
      "y     0.0\n",
      "dtype: float64\n",
      "-------------------------------------------------------------------------------------------------------------\n",
      "None\n"
     ]
    }
   ],
   "source": [
    "print(current_data(cpi_data))"
   ]
  },
  {
   "cell_type": "markdown",
   "id": "a0326ad9",
   "metadata": {},
   "source": [
    "- `cpi_data.csv` — 128 lines, 2 columns."
   ]
  },
  {
   "cell_type": "markdown",
   "id": "ced3dfa6",
   "metadata": {},
   "source": [
    "## CPI 2022 (January-August)"
   ]
  },
  {
   "cell_type": "code",
   "execution_count": 9,
   "id": "ffbe4123",
   "metadata": {
    "scrolled": false
   },
   "outputs": [
    {
     "data": {
      "text/html": [
       "<div>\n",
       "<style scoped>\n",
       "    .dataframe tbody tr th:only-of-type {\n",
       "        vertical-align: middle;\n",
       "    }\n",
       "\n",
       "    .dataframe tbody tr th {\n",
       "        vertical-align: top;\n",
       "    }\n",
       "\n",
       "    .dataframe thead th {\n",
       "        text-align: right;\n",
       "    }\n",
       "</style>\n",
       "<table border=\"1\" class=\"dataframe\">\n",
       "  <thead>\n",
       "    <tr style=\"text-align: right;\">\n",
       "      <th></th>\n",
       "      <th>ds</th>\n",
       "      <th>y</th>\n",
       "    </tr>\n",
       "  </thead>\n",
       "  <tbody>\n",
       "    <tr>\n",
       "      <th>900</th>\n",
       "      <td>2022-01-01</td>\n",
       "      <td>281.933</td>\n",
       "    </tr>\n",
       "    <tr>\n",
       "      <th>901</th>\n",
       "      <td>2022-02-01</td>\n",
       "      <td>284.182</td>\n",
       "    </tr>\n",
       "    <tr>\n",
       "      <th>902</th>\n",
       "      <td>2022-03-01</td>\n",
       "      <td>287.708</td>\n",
       "    </tr>\n",
       "    <tr>\n",
       "      <th>903</th>\n",
       "      <td>2022-04-01</td>\n",
       "      <td>288.663</td>\n",
       "    </tr>\n",
       "    <tr>\n",
       "      <th>904</th>\n",
       "      <td>2022-05-01</td>\n",
       "      <td>291.474</td>\n",
       "    </tr>\n",
       "    <tr>\n",
       "      <th>905</th>\n",
       "      <td>2022-06-01</td>\n",
       "      <td>295.328</td>\n",
       "    </tr>\n",
       "    <tr>\n",
       "      <th>906</th>\n",
       "      <td>2022-07-01</td>\n",
       "      <td>295.271</td>\n",
       "    </tr>\n",
       "    <tr>\n",
       "      <th>907</th>\n",
       "      <td>2022-08-01</td>\n",
       "      <td>295.620</td>\n",
       "    </tr>\n",
       "  </tbody>\n",
       "</table>\n",
       "</div>"
      ],
      "text/plain": [
       "            ds        y\n",
       "900 2022-01-01  281.933\n",
       "901 2022-02-01  284.182\n",
       "902 2022-03-01  287.708\n",
       "903 2022-04-01  288.663\n",
       "904 2022-05-01  291.474\n",
       "905 2022-06-01  295.328\n",
       "906 2022-07-01  295.271\n",
       "907 2022-08-01  295.620"
      ]
     },
     "execution_count": 9,
     "metadata": {},
     "output_type": "execute_result"
    }
   ],
   "source": [
    "cpi_data.tail(8)"
   ]
  },
  {
   "cell_type": "code",
   "execution_count": 10,
   "id": "34cbca8c",
   "metadata": {
    "scrolled": false
   },
   "outputs": [
    {
     "data": {
      "text/html": [
       "<div>\n",
       "<style scoped>\n",
       "    .dataframe tbody tr th:only-of-type {\n",
       "        vertical-align: middle;\n",
       "    }\n",
       "\n",
       "    .dataframe tbody tr th {\n",
       "        vertical-align: top;\n",
       "    }\n",
       "\n",
       "    .dataframe thead th {\n",
       "        text-align: right;\n",
       "    }\n",
       "</style>\n",
       "<table border=\"1\" class=\"dataframe\">\n",
       "  <thead>\n",
       "    <tr style=\"text-align: right;\">\n",
       "      <th></th>\n",
       "      <th>ds</th>\n",
       "      <th>y</th>\n",
       "    </tr>\n",
       "  </thead>\n",
       "  <tbody>\n",
       "    <tr>\n",
       "      <th>780</th>\n",
       "      <td>2012-01-01</td>\n",
       "      <td>227.842</td>\n",
       "    </tr>\n",
       "    <tr>\n",
       "      <th>781</th>\n",
       "      <td>2012-02-01</td>\n",
       "      <td>228.329</td>\n",
       "    </tr>\n",
       "    <tr>\n",
       "      <th>782</th>\n",
       "      <td>2012-03-01</td>\n",
       "      <td>228.807</td>\n",
       "    </tr>\n",
       "    <tr>\n",
       "      <th>783</th>\n",
       "      <td>2012-04-01</td>\n",
       "      <td>229.187</td>\n",
       "    </tr>\n",
       "    <tr>\n",
       "      <th>784</th>\n",
       "      <td>2012-05-01</td>\n",
       "      <td>228.713</td>\n",
       "    </tr>\n",
       "  </tbody>\n",
       "</table>\n",
       "</div>"
      ],
      "text/plain": [
       "            ds        y\n",
       "780 2012-01-01  227.842\n",
       "781 2012-02-01  228.329\n",
       "782 2012-03-01  228.807\n",
       "783 2012-04-01  229.187\n",
       "784 2012-05-01  228.713"
      ]
     },
     "execution_count": 10,
     "metadata": {},
     "output_type": "execute_result"
    }
   ],
   "source": [
    "cpi_data = cpi_data.query(\"ds >= '2012-01-01'\")\n",
    "cpi_data.head()"
   ]
  },
  {
   "cell_type": "markdown",
   "id": "f152b75d",
   "metadata": {
    "heading_collapsed": true
   },
   "source": [
    "# CPI Data Prediction"
   ]
  },
  {
   "cell_type": "markdown",
   "id": "63001e16",
   "metadata": {
    "heading_collapsed": true,
    "hidden": true
   },
   "source": [
    "## ML Prediction: CPI 2022 (September - December)"
   ]
  },
  {
   "cell_type": "markdown",
   "id": "ab875041",
   "metadata": {
    "hidden": true
   },
   "source": [
    "Machine Learning Model Prediction: PROPHET.\n",
    "Automatic Forecasting Procedure."
   ]
  },
  {
   "cell_type": "code",
   "execution_count": 11,
   "id": "2dea2a7d",
   "metadata": {
    "hidden": true
   },
   "outputs": [
    {
     "name": "stderr",
     "output_type": "stream",
     "text": [
      "INFO:fbprophet:Disabling weekly seasonality. Run prophet with weekly_seasonality=True to override this.\n",
      "INFO:fbprophet:Disabling daily seasonality. Run prophet with daily_seasonality=True to override this.\n"
     ]
    },
    {
     "name": "stdout",
     "output_type": "stream",
     "text": [
      "Initial log joint probability = -2.17949\n",
      "    Iter      log prob        ||dx||      ||grad||       alpha      alpha0  # evals  Notes \n",
      "      99       571.233    0.00033952       208.962           1           1      115   \n",
      "    Iter      log prob        ||dx||      ||grad||       alpha      alpha0  # evals  Notes \n",
      "     199       588.582     0.0435889       796.525           1           1      232   \n",
      "    Iter      log prob        ||dx||      ||grad||       alpha      alpha0  # evals  Notes \n",
      "     299        601.72     0.0028815       1278.37           1           1      341   \n",
      "    Iter      log prob        ||dx||      ||grad||       alpha      alpha0  # evals  Notes \n",
      "     399       605.298   0.000147478       100.688           1           1      451   \n",
      "    Iter      log prob        ||dx||      ||grad||       alpha      alpha0  # evals  Notes \n",
      "     499        607.21   0.000320719        223.07           1           1      563   \n",
      "    Iter      log prob        ||dx||      ||grad||       alpha      alpha0  # evals  Notes \n",
      "     599       607.651   0.000301765       197.853      0.9682      0.9682      685   \n",
      "    Iter      log prob        ||dx||      ||grad||       alpha      alpha0  # evals  Notes \n",
      "     611       607.717   3.13235e-05       114.711   2.673e-07       0.001      738  LS failed, Hessian reset \n",
      "     699        608.04    0.00234352       485.052      0.2269      0.8863      846   \n",
      "    Iter      log prob        ||dx||      ||grad||       alpha      alpha0  # evals  Notes \n",
      "     789       608.671    3.4396e-05        82.245   3.092e-07       0.001      987  LS failed, Hessian reset \n",
      "     799        608.68   3.53367e-05       58.2858      0.8169      0.8169      997   \n",
      "    Iter      log prob        ||dx||      ||grad||       alpha      alpha0  # evals  Notes \n",
      "     899       608.786   2.61402e-05       108.827      0.7336      0.7336     1117   \n",
      "    Iter      log prob        ||dx||      ||grad||       alpha      alpha0  # evals  Notes \n",
      "     999       609.404   0.000545826        189.87           1           1     1232   \n",
      "    Iter      log prob        ||dx||      ||grad||       alpha      alpha0  # evals  Notes \n",
      "    1099       609.525   1.28426e-05       70.4528           1           1     1353   \n",
      "    Iter      log prob        ||dx||      ||grad||       alpha      alpha0  # evals  Notes \n",
      "    1112       609.564   1.18017e-05       132.096   6.119e-08       0.001     1415  LS failed, Hessian reset \n",
      "    1199       609.602   1.98637e-05       53.4365      0.3787           1     1532   \n",
      "    Iter      log prob        ||dx||      ||grad||       alpha      alpha0  # evals  Notes \n",
      "    1261       609.617   3.36004e-07       61.9273   4.568e-09       0.001     1657  LS failed, Hessian reset \n",
      "    1276       609.617   1.10083e-08        69.785     0.01422      0.5121     1677   \n",
      "Optimization terminated normally: \n",
      "  Convergence detected: relative gradient magnitude is below tolerance\n"
     ]
    }
   ],
   "source": [
    "#Set the uncertainty interval to 95% (the Prophet default is 80%)\n",
    "m = Prophet(interval_width=0.95)\n",
    "m.fit(cpi_data)  # df is a pandas.DataFrame with 'y' and 'ds' columns\n",
    "future = m.make_future_dataframe(periods=4)\n",
    "predict = m.predict(future)"
   ]
  },
  {
   "cell_type": "code",
   "execution_count": 12,
   "id": "10618577",
   "metadata": {
    "hidden": true
   },
   "outputs": [
    {
     "data": {
      "text/html": [
       "<div>\n",
       "<style scoped>\n",
       "    .dataframe tbody tr th:only-of-type {\n",
       "        vertical-align: middle;\n",
       "    }\n",
       "\n",
       "    .dataframe tbody tr th {\n",
       "        vertical-align: top;\n",
       "    }\n",
       "\n",
       "    .dataframe thead th {\n",
       "        text-align: right;\n",
       "    }\n",
       "</style>\n",
       "<table border=\"1\" class=\"dataframe\">\n",
       "  <thead>\n",
       "    <tr style=\"text-align: right;\">\n",
       "      <th></th>\n",
       "      <th>ds</th>\n",
       "    </tr>\n",
       "  </thead>\n",
       "  <tbody>\n",
       "    <tr>\n",
       "      <th>128</th>\n",
       "      <td>2022-09-01</td>\n",
       "    </tr>\n",
       "    <tr>\n",
       "      <th>129</th>\n",
       "      <td>2022-10-01</td>\n",
       "    </tr>\n",
       "    <tr>\n",
       "      <th>130</th>\n",
       "      <td>2022-11-01</td>\n",
       "    </tr>\n",
       "    <tr>\n",
       "      <th>131</th>\n",
       "      <td>2022-12-01</td>\n",
       "    </tr>\n",
       "  </tbody>\n",
       "</table>\n",
       "</div>"
      ],
      "text/plain": [
       "            ds\n",
       "128 2022-09-01\n",
       "129 2022-10-01\n",
       "130 2022-11-01\n",
       "131 2022-12-01"
      ]
     },
     "execution_count": 12,
     "metadata": {},
     "output_type": "execute_result"
    }
   ],
   "source": [
    "future_dates = m.make_future_dataframe(periods=4, freq='MS')\n",
    "future_dates.tail(4)"
   ]
  },
  {
   "cell_type": "code",
   "execution_count": 13,
   "id": "a4236cd8",
   "metadata": {
    "hidden": true
   },
   "outputs": [
    {
     "data": {
      "text/html": [
       "<div>\n",
       "<style scoped>\n",
       "    .dataframe tbody tr th:only-of-type {\n",
       "        vertical-align: middle;\n",
       "    }\n",
       "\n",
       "    .dataframe tbody tr th {\n",
       "        vertical-align: top;\n",
       "    }\n",
       "\n",
       "    .dataframe thead th {\n",
       "        text-align: right;\n",
       "    }\n",
       "</style>\n",
       "<table border=\"1\" class=\"dataframe\">\n",
       "  <thead>\n",
       "    <tr style=\"text-align: right;\">\n",
       "      <th></th>\n",
       "      <th>ds</th>\n",
       "      <th>yhat</th>\n",
       "      <th>yhat_lower</th>\n",
       "      <th>yhat_upper</th>\n",
       "    </tr>\n",
       "  </thead>\n",
       "  <tbody>\n",
       "    <tr>\n",
       "      <th>128</th>\n",
       "      <td>2022-09-01</td>\n",
       "      <td>294.677919</td>\n",
       "      <td>292.191070</td>\n",
       "      <td>297.027195</td>\n",
       "    </tr>\n",
       "    <tr>\n",
       "      <th>129</th>\n",
       "      <td>2022-10-01</td>\n",
       "      <td>296.244891</td>\n",
       "      <td>293.934182</td>\n",
       "      <td>298.633494</td>\n",
       "    </tr>\n",
       "    <tr>\n",
       "      <th>130</th>\n",
       "      <td>2022-11-01</td>\n",
       "      <td>297.780750</td>\n",
       "      <td>295.335534</td>\n",
       "      <td>300.270481</td>\n",
       "    </tr>\n",
       "    <tr>\n",
       "      <th>131</th>\n",
       "      <td>2022-12-01</td>\n",
       "      <td>299.161645</td>\n",
       "      <td>296.577622</td>\n",
       "      <td>301.759742</td>\n",
       "    </tr>\n",
       "  </tbody>\n",
       "</table>\n",
       "</div>"
      ],
      "text/plain": [
       "            ds        yhat  yhat_lower  yhat_upper\n",
       "128 2022-09-01  294.677919  292.191070  297.027195\n",
       "129 2022-10-01  296.244891  293.934182  298.633494\n",
       "130 2022-11-01  297.780750  295.335534  300.270481\n",
       "131 2022-12-01  299.161645  296.577622  301.759742"
      ]
     },
     "execution_count": 13,
     "metadata": {},
     "output_type": "execute_result"
    }
   ],
   "source": [
    "forecast = m.predict(future_dates)\n",
    "forecast[['ds', 'yhat', 'yhat_lower', 'yhat_upper']].tail(4)"
   ]
  },
  {
   "cell_type": "markdown",
   "id": "b69e400f",
   "metadata": {
    "hidden": true
   },
   "source": [
    "Prophet returns a large DataFrame with many interesting columns, but we subset our output to the columns most relevant to forecasting. These are:\n",
    "\n",
    "* **ds**: the datestamp of the forecasted value\n",
    "* **yhat**: the forecasted value of our metric (in Statistics, yhat is a notation traditionally used to represent the predicted values of a value y)\n",
    "* **yhat_lower**: the lower bound of our forecasts\n",
    "* **yhat_upper**: the upper bound of our forecasts"
   ]
  },
  {
   "cell_type": "markdown",
   "id": "74c372e2",
   "metadata": {
    "hidden": true
   },
   "source": [
    "A variation in values from the output presented is to be expected as **Prophet relies on Markov chain Monte Carlo (MCMC)** methods to generate its forecasts.\n",
    "\n",
    "MCMC is a stochastic process, so values will be slightly different each time.\n",
    "\n",
    "Prophet also provides a convenient function to quickly plot the results of our forecasts as follows:"
   ]
  },
  {
   "cell_type": "code",
   "execution_count": 14,
   "id": "54b03685",
   "metadata": {
    "hidden": true
   },
   "outputs": [
    {
     "data": {
      "image/png": "iVBORw0KGgoAAAANSUhEUgAAAsgAAAGoCAYAAABbtxOxAAAAOXRFWHRTb2Z0d2FyZQBNYXRwbG90bGliIHZlcnNpb24zLjUuMSwgaHR0cHM6Ly9tYXRwbG90bGliLm9yZy/YYfK9AAAACXBIWXMAAAsTAAALEwEAmpwYAACD9ElEQVR4nOzdeXydZZn/8c9z1uxb06RJukJK99I2pQstWLYBUVEpIshPHMSpoo6MuIwjOm4IKoOCUtG6gKIDroCjbAoUaUlbCKWFFrovadK02ZeTc86z3b8/0oamSUvaZmna7/v1Qu055zm5Tx4M39xc93VZxhiDiIiIiIgAEBjsBYiIiIiInEwUkEVEREREDqGALCIiIiJyCAVkEREREZFDKCCLiIiIiBwiNNgLOBH5+fmMHTt2sJdxSnEch3A4PNjLkGOk+zb06J4NTbpvQ5Pu29AzUPds586d1NXVdXt8SAfksWPH8vLLLw/2Mk4p1dXVFBcXD/Yy5Bjpvg09umdDk+7b0KT7NvQM1D2bPXt2j4+rxEJERERE5BAKyCIiIiIih1BAFhERERE5hAKyiIiIiMghFJBFRERERA6hgCwiIiIicggFZBERERGRQyggi4iIiIgcQgFZREREROQQCsgiIiIiIodQQBYREREROYQCsoiIiIjIIRSQRUREREQOoYAsIiIiInIIBWQRERERkUMoIIuIiIjIoPF8Q9L1BnsZXSggi4iIiMig2VIbY0d9fLCX0YUCsoiIiIgMioZ2m437W/GNGeyldKGALCIiIiIDzvF81lW3kBo6+eLoybciERERETnlbalrw3Z9Uk6ngJxIJJgzZw5nn302U6ZM4Wtf+xoAO3bsYO7cuZSWlvLBD34Q27YBSCaTfPCDH6S0tJS5c+eyc+fO/lqaiIiIiAyihnabnQ1xhqWFB3spPeq3gByNRnn22WdZt24dr776Kk8++SSrVq3iP//zP/nsZz/L1q1byc3N5Re/+AUAv/jFL8jNzWXr1q189rOf5T//8z/7a2kiIiIiMkgcz2ddVQvZ0RCWZQ32cnrUbwHZsiwyMjIAcBwHx3GwLItnn32Wq666CoCPfOQjPProowA89thjfOQjHwHgqquu4plnnsGcZAXbIiIiInJittS24Xg+KeHgYC/liPq16MPzPGbMmEFBQQGXXHIJZ555Jjk5OYRCIQBGjhxJVVUVAFVVVYwaNQqAUChEdnY29fX1/bk8ERERERlAje02Oxvj5J2kpRUHhfrzzYPBIK+++ipNTU28//3v58033zzh91y2bBnLli0DoKamhurq6hN+T3lLbW3tYC9BjoPu29CjezY06b4NTbpvJwffGNZVtWBZ0Jx4a482ZrtEElGq/dbOxwb7nvVrQD4oJyeHCy64gPLycpqamnBdl1AoxJ49eygpKQGgpKSEyspKRo4cieu6NDc3M2zYsG7vtWTJEpYsWQLA7NmzKS4uHoiPcFrR93Ro0n0benTPhibdt6FJ923wbatrI5gVYnh6tMvjgYRDbmYKxSMyuzw+mPes30osamtraWpqAiAej/P3v/+dSZMmccEFF/DHP/4RgF/96le8973vBeCKK67gV7/6FQB//OMfufDCC0/awm0RERER6b22pMum2hh5qZEujxtj+N2r1dTF7EFaWc/6bQd57969fOQjH8HzPHzf5+qrr+bd7343kydP5pprruErX/kKM2fO5MYbbwTgxhtv5MMf/jClpaXk5eXx8MMP99fSRERERGSAGGPYUNNCWihIMNB18/P/Nu7jp6t2k5US5vwzu1cODJZ+C8jTp09n7dq13R4/44wzWLNmTbfHU1JS+MMf/tBfyxERERGRQVDVlKCh3aEgo2tpxc6Gdr733DZmFGfx4bKRg7S6np18o0tERERE5JSQcDze2N9KbmrXrhW263PrE28SDQX4rwtLu+0sDzYFZBERERHpF5tq27AsCAe7Rs6lL+5kU22Mr15yFsMzIke4evAoIIuIiIhIn6trS7KnKU5OStfd4xd3NvDbV6r4wNlFLDqJ6o4PpYAsIiIiIn3K9Xxeq2klJyXcpStZXczm609v5sxhadx83rhBXOHRKSCLiIiISJ/a0dCO7XYdJ22M4Vt/30ws6XH75RNJCZ2mo6ZFRERE5PTSmnDZWhfrNk76/zbuY+XORv594VjOHJY+SKvrHQVkEREREekTvm/YuK+F1FCQwCGlFTWtSe56fjuzSrK5esbJP9VQAVlERERE+kR1c0fP48yUt0ZtHCyt8I3hv/9lfJfgfLJSQBYRERGRE1bbluS1mpZuPY///FoNq3c3cfPCcYzMTh2k1R2bfpukJyIiIiKnPmMMuxvjvF7TQm5qpEvP46rmBHe/sJ05o3NYPL1oEFd5bBSQRUREROS4eL7hzf2t7GyIk58eJXTIRDzfGL75980ELIv/vnh8l3Zvh0q6hkjo5Cq7UEAWERERkWOWdD3WVbXQGLcpzIh0C8B/fq2Gij3NfOXi8YzISunxPVoTLpnRIGNy0wZiyb2mGmQREREROSYrV77If3z566xa9SL56dFu4Xh/W5IfrdjBnFE5vHdKYY/vkXA9HN9n5sjsbqOoB5t2kEVERESk18rLy7n4kouxkzbhSIT7HnqU6WVzOp83xvDdZ7fh+oYvX1TaY2mF5xuaEy5zR+eSFjn54ujJFddFREREZFCVl5dzxx13UF5e3uNjT/3jWeykje97uI5NRfmKLtc/u7We57fX8/F5YxiZ071rhTGGunabyYWZDEuP9PvnOR4nX2QXERERkUFRXl7ORRddhG3bRCIRnnnmGYAuj9381W8TjoRxHQiFI5TNX9h5fUvC4XvPbWXC8HQ+NKukx6/R0O4wKjuFMbknb8s3BWQRERERAWD58uXYto3nedi2zfLlywG6PLZ3fx33PfQYFeUrKJu/sEt5xY9W7KQp7nDP+6Z26WhxUFvSJT0SZFJh5hG7WpwMFJBFREREBIBFixYRiUQ6d4sXLVoE0PlYKBxm4XnnM71sTpdgDFCxp4lHXq/hw2UlTCzI6PbejueTcD0WjBtG6CQ7lHc4BWQRERERAWD+/Pk888wzLF++nEWLFjF//nwA/v73f/Dbx55g8uz5zDxnbrfrqpoTfOWJTZRkpfDxeWO6PW+Mob7dYUZxFhnRkz9+nvwrFBEREZEBM3/+/M5gfFDBWdN5zw1nUpAR7fb6/W1JPvmn17A9nx+9fyop4WC31zS0O4zOSaE4u+d+yCebk3t/W0REREQG1Z7GOJtr28jvoeNEU9zhU39+jca4ww/fN5XS/PRur4nZLinhIBNP8rrjQykgi4iIiEiPatuSrK9pIT89SuCwcNuWdPn0I69T3ZzkB++dzJQRmd2ud31Dm+0xoyTrpBsGcjQqsRARERGRbprjDhWVTeSmhLt1pEg4Hv/x2Aa21sW46z2TKRuZ0+N7NLTbTCnMJCslPAAr7jtDJ8qLiIiIyIBot11eqmwiIxoiEuoaF40xfPPvW1i/t4XbLpvAgnF5R3gPj8xoiFE9DAs52Skgi4iIiEgnYwzrqlsIWpDaw4G7371azdOba/nkuWO5+KzhR3yflqTD5BGZBHroh3yyU0AWERERkU4N7Q6N7U6PZRGvVjfzgxd2cP4ZeVw/e+QR36Mp7lCUmUJe2sk5SvrtKCCLiIiICNCxe7ypto2MaPed4/qYzX/97U2KMqN8418mdDu0d5DnG2zPZ0IPw0KGCgVkEREREQGgMe7Q1O6QHunax8H1DV9+4k1aki53vnsymSlH7vPQGHcozU8nfQgMBDkSBWQRERERwRjD5v1tpEe67x7/eOVOKvY08+WLShk/vHuv44Ns1ycYsBibl9afS+13CsgiIiIiQlPcoaHd7jYK+rmtdfy6Yg9XTS/iXZMKj/4eCYdJBRlDqudxT4b26kVERESkT2ypi3UrrdjV2M7Xn97MlMJMbjn/jKNe3xS3GZYWoShraIyTPpqhWxwiIiIiIiesvLycJ/7+DNmlM1l03oLOx+OOxxf/+gahgMV33zWxWz/kQ7UlXUKBAGeXZA3Jtm6HU0AWEREROU2Vl5dz0UUXkbRtwuEw9z30GNPL5mCM4fZntrC9vp0fvX8qI46yK5xwPZKuz7nj8oiGutcvD0UqsRARERE5TS1fvhzbtvE9D9dxqChfAcAf1u/liTdr+cS5Y5g3JveI17u+oTnhUjYqp1vt8lCmgCwiIiJymlq0aBGhcIRAMEgoHKFs/kJe39vC95/fznnj8rjhnFFHvNY3hrqYzfQRWQxLH5oDQY7k1In6IiIiInJMJpxdxrd/8Xt2rFtD2fyFTJ11Dtc/9CrD0iN849KzjjgMBKA2ZnPmsHRG5qYO4IoHRr/tIFdWVnLBBRcwefJkpkyZwj333APAunXrmD9/PtOmTeM973kPLS0tndfccccdlJaWMmHCBJ566qn+WpqIiIjIac8Yw5v72zhn7jxu+PQtTC+bwzNb6nhzfxufPHdMj6OmD6qNJSnJTuGso/REHsr6LSCHQiHuuusuNm7cyKpVq1i6dCkbN27kYx/7GN/5znd47bXXeP/738+dd94JwMaNG3n44YfZsGEDTz75JJ/85CfxPK+/liciIiJyWtvfmqQp/tbUPNfzue/FXZw5LI3LJhQc8bqGdof8tAhTR5waHSt60m8BuaioiFmzZgGQmZnJpEmTqKqqYvPmzZx//vkAXHLJJfzpT38C4LHHHuOaa64hGo0ybtw4SktLWbNmTX8tT0REROS05fsdu8fZhxyse2zDPnY3xfnUgrEEjxB8mxIOaZEgZ5dkH/E1p4IBOaS3c+dO1q5dy9y5c5kyZQqPPfYYAH/4wx+orKwEoKqqilGj3ioEHzlyJFVVVQOxPBEREZHTyt6WBO2OR0q4oy1bwvH42erdnF2cxXnj8nq8pjXhErIsykZmD/lJeW+n3w/ptbW1sXjxYu6++26ysrL45S9/yWc+8xm+9a1vccUVVxCJHNupx2XLlrFs2TIAampqqK6u7o9ln7Zqa2sHewlyHHTfhh7ds6FJ921o0n3ryvMNr1Q1kxIM0JTo2AV+eEMDdTGbWxcU0ly/v9s1SdfH9nymF2XRUGv3+xoH+571a0B2HIfFixdz3XXXceWVVwIwceJEnn76aQA2b97M3/72NwBKSko6d5MB9uzZQ0lJSbf3XLJkCUuWLAFg9uzZFBcX9+dHOC3pezo06b4NPbpnQ5Pu29Ck+/aWnQ3tRLJC5GdEAWhJOPxu43YWjsvjvMlju73e8XzsuMMFY/PITj3ywb2+Npj3rN/2x40x3HjjjUyaNIlbbrml8/H9+zt+K/F9n9tuu41PfOITAFxxxRU8/PDDJJNJduzYwZYtW5gzZ05/LU9ERETktNNuu2za30beIUH3Vy/voS3p8qlzx3Z7vW8M9e02M0uyBzQcD7Z+20FeuXIlDz74INOmTWPGjBkA3H777WzZsoWlS5cCcOWVV3LDDTcAMGXKFK6++momT55MKBRi6dKlBIOnxrhCERERkcHm+YZ11S1EghahAzXE+9uSPLy2mssmFjC+h5ZtdTGbs4ZnHHXU9Kmo3wLywoULMcb0+NzNN9/c4+O33nort956a38tSUREROS0tbUuRnl5OdtfXU3Z/IVML5vDj1bsxGD4xPwx3V5fH7MZkRnlzGGnZq/jo9EkPREREZFTXG1bkv/7x/N85cYP4Dg24XCEz//0zzzxpsMN54yiJLvrDnFrwiU9EmRq0anb6/hoTu0eHSIiIiKnubjj8WpVC1vXrsJxbHzPw3Ecfraukfz0CDecM6rL6z3fkPA8ZpSc+u3cjuT0/NQiIiIipwHfN7xW3ULAgrkLziMcjhAMBglMvYj9ZPDpBWNJi3Q989UYdxifn0569PQtNDh9P7mIiIjIKay8vJw//+1pRkyZzaKFC8gpm8N9Dz1K+Ysv8vtgGSNzM7l8UteR0q7nY1kWo3LSBmnVJwcFZBEREZFTTHl5ORdddBHJpE04EuG+hx5letkcppfN4YVEAc0vVXL3ojMIWF3rixsSDlMKM4mETu8ig9P704uIiIicgp577jmSSRvf93Adm4ryFQBUNSf47St7eOfEAqYVZXW5Jun6pASDlGSnDsaSTyoKyCIiIiKnmIll8wlFwgSDQULhCGXzO9rvfv/57QQsi39fOLbbNc0Jh4kF6QRPw64Vh1OJhYiIiMgppC3pkjp6Mkt/+yivrl7Z2fP4yTf38/z2em4+bxwFB8ZMHxR3PDKjIQozT6+BIEeigCwiIiJyivB9w4aaFlJDQWaeM5eZ58wFOibi3bl8G9NGZPKhmSXdrmtJuMwZnXNa9jzuiUosRERERE4Re5rjNLQ7ZKa8tQdqjOE7z24l7nh87V/O6lZC0ZZ0GZYeZlh6ZKCXe9JSQBYRERE5BbTbLhv3tZKXGu7y+FObalm+rZ5PzB/L2Lyu7duMMcQcjwkFmViWdo8PUkAWERERGeKMMbyxr41wIEDokOl39YeUVlw3q3tpRXPCpSgzSs5hofp0p4AsIiIiMsTtb02yrzXZJei+XWmFbwy25zN+eMZAL/ekp4AsIiIiMoTZrs/rNa3ddoGf3lzLc0corQBoijuMyU0l4zQeKX0kCsgiIiIiQ9jW+jY83xANdS2t+N5z25h6hNIKzzd4xjBuWPpALnXIUEAWERERGaKa4g476+PkpfW+tAKgMe5Qmp9Oajg4kMsdMhSQRURERIYgzze8treFzGioSweKg6UVH58/hnE9lFa4nk/Ashid0/056aCALCIiIjIE7Wpop812SYu8tQt8sLRiSmEm180a2eN1DQmHCQXpREKKgUei74yIiIjIENOWdHmzto1hqW8N9zDG8J3nOkorvn7pWYR6KK1otz3SQkFKslMHcrlDjgKyiIiIyBDiHyitSAsFu9QX/+KpVTy3tZ4rRgV6LK3wfEOr7XJ2SXaPdcnyFgVkERERkSFkT3OcpnjXcdKrV6/mJxX7Yd9W/vKfV7O+Yk236+rjNhOGp2soSC8oIIuIiIgMEZ3jpNMiXR7/+apdkJ4Hz/wEz05QUb6iy/OtCZfslDBj89TWrTcUkEVERESGAGMMG2taiQQDXeqLdza0s54iAm88S7B2G6FwhLL5Czufdz2fhOsxvShLpRW9pNEpIiIiIkNAdXOC/W02hZnRzseMMfzP8m2khoPc9q+XsWVaJmXzFzK9bE7na+rbHaYVZWpi3jHQd0pERETkJNduu2yoae0yEATg+W31rNrdxOffcQYLZ5awcP7cLs83JRwKMqOMzFHXimOhEgsRERGRk5jr+aytaiEctAgH34puCdfjrue3c+awNK46u7jH6zzPMGVEZpdBIvL2FJBFRERETlLGGN7Y10os6ZKV0nX3+Fcv7WFva5IvXnBmjz2PG+IOkwozNE76OCggi4iIiJykdjfGqWxOdCutqGyK8+uX9/AvZw2nbGROt+vaki7ZqWENBDlOCsgiIiIiJ6GGdpuN+1oZlhbpUiLhej5feWIT0VCA/zh/XLfrfGOIOR5TCjMJqGvFcVFAFhERETnJxB2PV/Y0kxUNdSuf+Nnq3WzY18p14+BvDyztNhSksd3hjLx0sjUQ5Lipi4WIiIjIScT1fF6taiZgQcph9cNrq5q5/6VKFhYG+OVnFuM4NuFwhPseepTpZXNIuj6hYIAz87uPmpbe0w6yiIiIyEnCGMOm2jZaDky+O1RrwuWrT26iOCuFSXUv4Tg2vufhOnbn5LymuMOUwowu3S7k2Om7JyIiInKS2NMUZ1dDnGFp3csjvvvcVmrbktx22QTmn3su4XCEYDDYOTmvKW5TlBWl4JBBInJ8VGIhIiIichJoiju8XtPKsPRIt77FT7y5nyc31fKJ+WOYWpQFRXO476FHqShfQdn8hUyaMZvWpMukQvU87gsKyCIiIiKDLOF4VFQ29Xgor7Ipznee3crZxVnccM6ozsenl83pHCm9ry3JzOKsbjXLcnxUYiEiIiIyiDzfsK66Geh+KC/p+nzpb28QtCy+fdkEgj20bWuKOxRmRBmRlTIg6z0d9FtArqys5IILLmDy5MlMmTKFe+65B4BXX32VefPmMWPGDGbPns2aNR2tSYwxfOYzn6G0tJTp06fzyiuv9NfSRERERE4a2+pjNMYdcnpoy3b3P7ezqTbG1y89q8cA7Ho+nm+YrHHSfarfAnIoFOKuu+5i48aNrFq1iqVLl7Jx40a++MUv8rWvfY1XX32Vb37zm3zxi18E4IknnmDLli1s2bKFZcuWcdNNN/XX0kREREROCvUxmy21MYalRbo99/fNtfxh/V4+XFZCTuM27r/3+916Hte3O0wuzNQ46T7WbzXIRUVFFBUVAZCZmcmkSZOoqqrCsixaWloAaG5upri4GIDHHnuM66+/HsuymDdvHk1NTezdu7fzPUREREROJUnX49WqZnJSQwSs7nXHt/1jC9NGZHJeSi03Xfv+bj2PmxMOwzMilOSotKKvDcghvZ07d7J27Vrmzp3L3XffzaWXXsrnP/95fN/nxRdfBKCqqopRo94qPB85ciRVVVUKyCIiInLKMcawsaYVgyEldOS649svn8iTv/7xWz2P6eh5PHnGbBzPMEWlFf2i3wNyW1sbixcv5u677yYrK4uvfOUr/OAHP2Dx4sX8/ve/58Ybb+Qf//hHr99v2bJlLFu2DICamhqqq6v7a+mnpdra2sFeghwH3behR/dsaNJ9G5pOxvu2vzXJlro2hqVFaIp1fe77q/axqTbGN99RTKrdzIRJkwmHwjhAKBRmwqTJ7K6qZnx+Ok11Lk2D8QH62WDfM8sYY/rrzR3H4d3vfjeXXnopt9xyCwDZ2dk0NTVhWRbGGLKzs2lpaeHjH/84ixYt4tprrwVgwoQJLF++/Kg7yLNnz+bll1/ur+WflqqrqzvLXmTo0H0benTPhibdt6HpZLtvrQmXFTvqyUsNEzps4t2f1u/ljme3csM5o/jUgrGdj6+vWNPZ83j05Jlkp4QoG5Vzyu4eD9Q9O1KW7LdDesYYbrzxRiZNmtQZjgGKi4t5/vnnAXj22WcZP348AFdccQW//vWvMcawatUqsrOzVV4hIiIipxTH81lX3UxaONgtHK+rbuHO5ds4d2wun5g/pstz08vmcMOnb2HyjNm46lrR7/qtxGLlypU8+OCDTJs2jRkzZgBw++2387Of/Yybb74Z13VJSUnpLJe4/PLLefzxxyktLSUtLY3777+/v5YmIiIiMuCMMWzc10q77TEsvWvXitq2JF/860ZGZEa57Qj9jqGja8X0oizSIpr11p/67bu7cOFCjlS9UVFR0e0xy7JYunRpfy1HREREZFDtaoxT1ZSgMDPa5XHb9fniX9+g3fFYeuU0dm5Y21lOcXBSHnQMBClQ14oBoV8/RERERPpZQ7vNxn2t5Kd373d85/JtvFbTynfeNZH2XRu46dr3dWvp5ni+SisGkEZNi4iIiPSjdtulorKZ7JRQt9KJf2yu5ZHXa/jX2SO5ePxwKspXvNXSzelo6eYbQ327zdnFKq0YKArIIiIiIv3E9XzWVrUQCtCt33FtW5I7nt3KlMLMzkN5ZfMXEg5HCAaDhMIRyuYvpK7d5sxhGT2Ompb+oV9DRERERPrJpto22pJut9IKYwzf/PsWEq7PNy87q7OjxfSyOdz30KNvtXSbMpPMSIizhqcPxvJPWwrIIiIiIv2guinOzoY4hRnd647/tH4v5bsa+eIFZzImN63Lc9PL5jC9bA5xxyPp+kwvziJwhK4W0j9UYiEiIiLSx9qSLuv3tjAsLdztUN2uxnZ+8MIO5o/J5QPTe5754PqG1qRL2agcUsLBHl8j/UcBWURERKQPddQdN5MaDhI+bBiI6xv++8nNRIMB/vuS8T12pPCNoS5mM2VEJjmp4YFathxCAVlERESkD725v4122yMj2r2S9eerd7FhXyv/dVEpwzOi3Z73jWF/m83EgnRGH1Z6IQNHNcgiIiIifaSqKc6uxp7rjst3NvKL1ZW8e1IBl5w1vPPx9RVrqChfwcx5CxgxYQYTC9I5Mz9jIJcth1FAFhEREekDsaTL6zUt5PdQd1zTmuQrT77JmflpfOnC0s7H11es6RwMEgqH+c2f/sqZky8a6KXLYVRiISIiInKCfN/wek0LkWCgs2XbQY7n819/ewPXN3z3XZO6HLo7dDCI5zhsXbdmoJcuPVBAFhERETlBlU1xGtodslK6H6q754UdvFbTylcvGd+tpVvHYJAwwWCQSCTCokWLBmjFcjQqsRARERE5AW1Jlzf2tZKX1r3u+O+ba3n41WqunVnMxeOHd3t+4tmzufOBP9G89VUuuvAC5s+fPxBLlrehgCwiIiJynHzfsKGmhWgoQOiwYR57muJ86+9bmF6UyWcWjuvx+qaEw+LLLqA4+/KBWK70kkosRERERI7TkUorPN/w309tJhiwuP3ySd36IQPEbJesaIgRmSkDtVzpJQVkERERkeMQO0ppxYMVe1i/t4X/vOBMRmR273dsjKHN9pg8IlNjpE9CCsgiIiIix+GN/W1Eeiit2FIb4yflu7hofD6XTuhedwzQnHApzoqS20O4lsGngCwiIiJyjBrabfa3Jsg+rLTCdn3++6lNZKeE+K8LS3scJe35BsfzOWu4hoGcrBSQRURERI6BMYY3alrJjHZv6bZs1S621MX4ysXjyUnt/jxAY9xh/PB00iLqlXCyUkAWEREROQb7W5O0JF3SIsEuj6+rbuHXFXt439QRnHfGsB6vXb2qnD/9/EdUv7luIJYqx0m/uoiIiIj0kucbNu5vIyula4Rqijt89ck3GZEZ5bPn99zS7ZWXVnPL9VfiOg6/+fFdPPPMM+p7fJLSDrKIiIhIL1U3x0k4Pimht3aPXc/nP//2BnUxm9svn0R6D6UTxhhWvPA8ruPgeR62bbN8+fIBXLkcCwVkERERkV5wPJ9NtTFyU7sG4DuXb6NiTzNfveQspo7I7PHa+nabyy6+kEgkorHSQ4BKLERERER6YXdjO75vugz9+MO6av70Wg0fmT2Sd04s6PG65kTHIJGL33kRY595huXLl7No0SKVV5zEFJBFRERE3kbc8dha107uIZ0pXqps4n+Wb2PhuDw+ee7YHq+rWLOaVStf4Pr3X0Zw7ELmz5+vYDwEKCCLiIiIHIUxhjf3tRIKQPDAUJC9LQm+9Lc3GJObxm2XTeh8/FDrXl7Nv/+/9+E5Dg//5Ps6lDeEqAZZRERE5Cj2tSbZ25IkJ/WtqXdLV+4k4frcdcVkMqI97zeueOGfOpQ3RCkgi4iIiBxB0vV4vaa1S2nF1roYT22q5ZoZxYzKST3CdT4z5y4gqkN5Q5JKLERERESOYNP+NowxREJv7Sne9+Iu0iJBrp89sstr11esoaJ8BbPmLaBwwtl88PILma1DeUOSArKIiIhID+rakuxpilOQEe187PWaVp7fXs8n5o8hO+WtXeX1FWu46dr34Tg24XCYn/3uLxRMvoQCHcobklRiISIiInIY2/VZv7eV7NQwlvXWAbwfv7iTnNQQ184s7vL6ivIVOI6N73k4jsPO19YM9JKlDykgi4iIiBzCGMOWujZcr+vEvJcrm1izu4kbzhndbVpe2fyFhMMRAgfqjS++8MKBXrb0IZVYiIiIiBxie32MnQ3tFB5SWmGM4ccv7qQgI8JV04u6XTO9bA53/PIP7HptDR98z2UqqxjiFJBFREREDtjTGOfN/W0UZES7lFas3NnI+r2tfPmiUqKhQOeBvLL5C5leNof6mM35Cxcw44OX99gTWYYWBWQRERERYH9rgvU1LeSnRwkcEo493/DjlTsZmZ3CFZMLDzuQF+HOX/2R2XPmMb04S+H4FKEaZBERETntNcUdKvY0k5sSJnRYyH1obRWb62J8asFYQsHAYQfybF5b8yKzRmYTDipWnSr67U5WVlZywQUXMHnyZKZMmcI999wDwAc/+EFmzJjBjBkzGDt2LDNmzOi85o477qC0tJQJEybw1FNP9dfSRERERDrFki4v7W4kKxrq0u8YYHdjnPte3MX5Z+Rx8fh8oOuBvHA4zLVXXEr0kMN8MvT1W4lFKBTirrvuYtasWbS2tlJWVsYll1zC7373u87XfO5znyM7OxuAjRs38vDDD7Nhwwaqq6u5+OKL2bx5M8Gg/oYTERGR/rOlro2AZZES7po5fGP41j82Ew5a/NeFpZ01ydPL5nDfQ4/y/PPP86H3XsYF5583GMuWftRvAbmoqIiioo5TnpmZmUyaNImqqiomT54MdJwG/f3vf8+zzz4LwGOPPcY111xDNBpl3LhxlJaWsmbNGp0CFRERkX7THHeobk5SkBHp9twf1+9lbVUL/33JeIYf0tECYOyUmUwvm0PZqJwBWqkMpAEpltm5cydr165l7ty5nY+98MILFBYWMn78eACqqqoYNWpU5/MjR46kqqpqIJYnIiIip6ktdTFSw4EuHSsAqpoT/GjFDuaPyeU9kwu7XRd3fUrz0wdqmTLA+r2LRVtbG4sXL+buu+8mKyur8/GHHnqIa6+99pjfb9myZSxbtgyAmpoaqqur+2ytArW1tYO9BDkOum9Dj+7Z0KT7NjQd6b61Jhx27G0lLy1MU9tbjxtj+PozVWAMn56VQ3P9/i7XtdseaZEgsUaPWGN/rvz0Ndj/X+vXgOw4DosXL+a6667jyiuv7HzcdV3+/Oc/U1FR0flYSUkJlZWVnX/es2cPJSUl3d5zyZIlLFmyBIDZs2dTXFzc7TVyYvQ9HZp034Ye3bOhSfdtaDr8vhljqNzdSEFhOhnRrnHoD+uqWVvTzpcuLGXCmO5DQey2JGVj88hJDffrmk93g/n/tX4rsTDGcOONNzJp0iRuueWWLs/94x//YOLEiYwcObLzsSuuuIKHH36YZDLJjh072LJlC3PmzOmv5YmIiMhprDHu0BBzuoXjddUt3PX8ds4dk8uV00Z0u6414TI8PapwfIrrtx3klStX8uCDDzJt2rTOVm633347l19+OQ8//HC38oopU6Zw9dVXM3nyZEKhEEuXLlUHCxEREelzxhje3N9GerRrzqhtS/LFv25kRGaU2945ocuwkIPaHY8ZI7MHaqkySPotIC9cuBBjTI/PPfDAAz0+fuutt3Lrrbf215JEREREqI/ZNLU7FGa+1ZnCdn2++Nc3aHc8ll45jayUrjvE6yvWUL7in8xdcB45ky8d6CXLANOoaRERETlt+L7hjf1tZKV0jUB3Lt/GazWtfOddE7t1p+gcLW3b/ObH32fyM8+oDe0pTjMRRURE5LSxrzVBW9Il9ZChIH9av5dHXq/hhnNGcfH44d2uqShfgWPb+L6HbdssX758AFcsg0EBWURERE4Lrufzxv4YOYeUT+xsaOfO5ds4d2wun5g/psfrZsxdQDgSJhgMEolEWLRo0QCtWAaLSixERETktLCnOYHteWQfUl7x01W7CActvv4vZxEMdD+UB1A8aQa/e/QJNr5SzqJFi1RecRpQQBYREZFTXtL12Ly/jdzUt0ZKb62L8ffNddxwzijy0rqPmgZojNuMyIgy81/ewXsvXTRAq5XBphILEREROeXtqI9jgNAhu8Q/XbWL9EiQ/1fWfTAZQNL1AYspRZndRlHLqU0BWURERE5pccdje0OMvLS3ao/f3N/Gc1vr+dDMErJTug/9MMbQGLc5uziLaEhzGU43CsgiIiJySqtsaicaDHQZ/PHT8l1kRUNcN6v77vH6ijUsvft/aN7+OsMzot2el1OfapBFRETklNXQbrO/zeGM3Lciz+t7W3hhRwOfPHdMt1HTHT2P34tjO/zuJz9gnHoen5a0gywiIiKnpKTr8WpVC5mRYJca4p+U7yInNcQHZxR3u+alF1/AsR31PD7NKSCLiIjIKccYw4a9rfjGJxJ6K+6srWpm1e4mri8bRXok1O2aM2bMIxKNqOfxaU4lFiIiInLK2d0Yp6Y1SWFmlKZYx2O+Mdz1/HYKMiJcfXZRt2sa2h0uu+A8FjzzDMuXL1fP49OYArKIiIicUloSDhv3tTIsvWtv4//buI8397dx22UTSAl37UzRlnRJiwSZWJBBqGi+gvFpTiUWIiIicspwPJ+1e5pJjwS79DxuS7osXbmT6UVZXDpheLdrEq7HjJJsQkFFI1FAFhERkVOEMYY397WSdP1u9cW/XFNJQ7vD595xRrehHw1xhymFWd06WsjpSwFZRERETgl7mxPsbkp0GQgCsKfF5n/XVvGeyYVMGZHZ5bmk67P99Vf41X0/oLy8fCCXKycx/aokIiIiQ14s6fJaTSvD0sLddoh/+kotkWCATy0Y2+26VavKufXGD+DYNt+ORHhGfY8F7SCLiIjIEOf5hvV7W4gGA4QPqyFetauR8j0xPjpnFPmHHdpLuj5vVJTj2Daep77H8hYFZBERERnSttXHaEo4ZKZ0/Rfjtuvz/ee3U5wR5kMzu4+Ubk44XHHpxUQi6nssXanEQkRERIas+pjNltoYBRmRbs/dV76L7Q3t3LaouMuwEOjYPU4JBzn/onfwjPoey2EUkEVERGRI6hgl3UxOaojAYXXHL1c28ZuKPVw5bQTzRmZ0u7Y54TCjOItgwGL+fPU9lq5UYiEiIiJDjuP5vLKnGSxICXUd+tGScPjaU5sYlZvKZ88/o9u1CdcjNRykMDNloJYrQ4wCsoiIiAwp7oFhIG1Jj5yUri3djDHc8exW6todbrtsAqmHTcxbX7GGn/3w+7TtfJ1AoOuus8hBbxuQf/SjH9HY2DgQaxERERE5Ks83rKtuoTHudOt3DPDEm7X8fXMdH583msmFXXser69Yw03XvpcHf/hdrr7icvU9liN624C8b98+zjnnHK6++mqefPJJjDEDsS4RERGRLnzf8HpNC/vbkt1atgFUNyf47nNbmVGcxUdmj+r2/MvlK3BsB99XSzc5urcNyLfddhtbtmzhxhtv5IEHHmD8+PF8+ctfZtu2bQOxPhERERGMMbyxv5Xq5iQFGdFuzzuez1eefBOAb146gWAP5RPjZ8xVSzfplV7VIFuWxYgRIxgxYgShUIjGxkauuuoqvvjFL/b3+kRERESobIqzs6Gd4endyyoA7n5hB+v3tvLVi8dTnN398F3C9Th79lye/vvf+da3vqWJeXJUb9vm7Z577uHXv/41+fn5fOxjH+POO+8kHA7j+z7jx4/ne9/73kCsU0RERE5TLQmHDTVt5KdHu42RBnjyzf387tVqrptVwsVnDe/xPZrjLrNHZVMwfgHnLVzQ30uWIe5tA3JDQwN//vOfGTNmTJfHA4EAf/3rX/ttYSIiIiLOgY4V6ZEAoR7KJrbWxbjtH1uYUZzFvy8Y2+359RVrePapx7no0ssZPumSAVixnAreNiB/4xvfOOJzkyZN6tPFiIiIiBxkjOGNfa0kXZ9hPRzKa0u6fPGvb5AeCfKdd00iFOxaOdrRteJ9OHaSP/1qGRNUViG9pD7IIiIiclKqakpQ2ZTosZ2bbwzfeHozVc1xvvOuSeSnR1hfsYb77/0+6yvWAFBRvgLHtvF9X10r5Jho1LSIiIicdFoTLq/XtJCfFu5Wd2yM4c7ntvHctnr+4/xxzCzJfmu32LEJhyPc99CjTJg1j3AkguvY6lohx0Q7yCIiInJS8XzD+upmUsPBbmUTxhi+//x2/rB+Lx8uG8l1M0uAA7vFjo3vebiOzZqVLzDh7Nk8+fTTfOELX1DXCjkm2kEWERGRk8r2+hittsvw9K79jo0x3PPCDh56tZprZxbzmYVjO3eXy+YvJByO4GITCkc4c+Y8phdnMWLiQs468wyKi4sH46PIEKWALCIiIieNprjDlroYww87lGeMYenKnfzmlSquPruIW84/g9deeYmK8hWUzV/I9LI53PfQo1SUr2D8zHlccP4CRmR174cs0hsKyCIiInJScD2fdVXNZEZCBA6rO/756t088PIeFk8bwRcWnclrr7zUreZ4etkczppehu0ZJhZkDtKnkFNBv9UgV1ZWcsEFFzB58mSmTJnCPffc0/ncj370IyZOnMiUKVO6TOO74447KC0tZcKECTz11FP9tTQRERE5CW2pi5FwfdIiwS6P/3N7PT9dtZuJVi3vzG7AsqxuNccV5SvwjaE54XJ2SRaRkI5ZyfHrtx3kUCjEXXfdxaxZs2htbaWsrIxLLrmEffv28dhjj7Fu3Tqi0Sj79+8HYOPGjTz88MNs2LCB6upqLr74YjZv3kwwGHybryQiIiJDXUO7zY6GdoYfaNd2sHRi+PjpfPXxjVj7t7Pp91/iU0st7nvo0W41x2XzF1Ibsxk/PJ28tO49k0WORb8F5KKiIoqKigDIzMxk0qRJVFVV8bOf/YwvfelLRKMdhfcFBQUAPPbYY1xzzTVEo1HGjRtHaWkpa9as0YlTERGRU5zj+ayraiE7GuL1Q0onQtFURn7hIRzXhcfvxNgJ3GCQivIV3PDpWzprjsvmL2T0lJlkR0OcOSx9sD+OnAIG5N8/7Ny5k7Vr1zJ37lw2b97MCy+8wNy5c3nHO97BSy+9BEBVVRWjRo3qvGbkyJFUVVUNxPJERERkEP3xyed48L4fsHl9RZfSCWfONWxvNXxsUgqR9gaCwWDnbjHA9LI53PDpWzhrehkYmFqURaCHcdQix6rfD+m1tbWxePFi7r77brKysnBdl4aGBlatWsVLL73E1Vdfzfbt23v9fsuWLWPZsmUA1NTUUF1d3V9LPy3V1tYO9hLkOOi+DT26Z0OT7lvfW7FqNf/6oQ/hOjb/++Pv88nP/xfhUBj7jDmYWVdw/jCHK8vOYuJ9v+TVijXMKJvD6DFjaKrbB4DvQ1PCYXpRJg21To9fQ/dt6Bnse9avAdlxHBYvXsx1113HlVdeCXTsDF955ZVYlsWcOXMIBALU1dVRUlJCZWVl57V79uyhpKSk23suWbKEJUuWADB79mz1NewH+p4OTbpvQ4/u2dA0VO6bMebAf4Nl0W0a3cnA9w3PrnoF13HwfR/XdbAdl2898ChffamdogyL71y7iEgowLkXXca5F13W7T32tSU5Z1wmY/PSjvq1hsp9k7cM5j3rt4BsjOHGG29k0qRJ3HLLLZ2Pv+997+O5557jggsuYPPmzdi2TX5+PldccQUf+tCHuOWWW6iurmbLli3MmTOnv5YnIiJySvF8Q3VznM21MRzPYFlgMFhAJBRkXF4aBRkR0iJv/4/+8vJyli9fzqJFi/r1LFB1c4KzZr41DjoUjjBr3gJ+tjuNYNjj7g/MPGo3ivqYzYiMKGNyU/ttjXJ66reAvHLlSh588EGmTZvGjBkzALj99tv56Ec/ykc/+lGmTp1KJBLhV7/6FZZlMWXKFK6++momT55MKBRi6dKl6mAhIiJCxyG2uOPheIa0SJCUUKBzR9gYQ33MZkNNK+2OT25qiPBh45lt12fz/jbe2Af56WHG5KaRmRLqfJ9DAzHARRddhG3bRCKRfhvRnHA8Nu5rZcH8+V0O21WmjWHV7s188YIzGZl95ODbFHdIj4aYVpx1Uu6Oy9DWbwF54cKFnf9653C/+c1venz81ltv5dZbb+2vJYmIiJz0kq5HzPZoSbg0xh2a4g5J1wMsjOnYGQ5aFnlpEYalR6htS1IXs8mKhijI6Lm9WSQUYFio47mY7fJKVTPGGEIBi8o31vKpa9+P43QE4muv+zC2beN5HrZt89Q/nmXSjNm4nk8oGCAnNXxCn+9gGB85ZTZFE88mFAwwvWwO08vm0NBu89lfVzC9KJOrphcd8T3aki7BgEXZyOxuvwyI9AVN0hMRERlkbUmXnQ3t1MZsEk5HGA5YkBIKkBYKkBXt+o9rzzfEbJf6mE0kGKAgI9rrr7XttVc6d2unzDyHP65YgW3b+L5H0rapaU0QCocxQCgcJrt0Bqt2NQAWvjGU5qdTOiz9uLpFlJeXd+5OB8Nh7vvfR8mdPbfz+e8/v52Y7fGVi8d3m6R3UNzxsD3DuWNzSQnr3zRL/1BAFhERGUT7WhK8Wt1MKBAgIxLsFoZ7EgxYpEdCpB/jPIz1FWu6jWeet/A8frX0rs4a4KuuuY6rrrmuM0RPL5vTee3L5Ss4c8Zczl9wLtOKs4iGji2gLl++vHN32gCvrFrJ2QcC8oodDTy5qZYl80ZzxhF6GduuT1vSZd7YPNJ78X0SOV76u0tERGQQ+L5hW32MzbUx8lLD/TYa+dCpdF3GM2P3OHDjYCA++N8H3+PQYH3nA3+gZdZcZo3MPqaSi4XnnU8oHMHQ8T4H+xnHbJc7nt3KGXlp/OvsUT1e63o+jQmHc0blnHCZh8jbUUAWEREZYLbr8/reFva1JSnIiByxnOBEHR5sP/e127uNZwY6a4CP5PBgvemV1cw8Zx7lOxuYOiKTkTmpb3tQzvcNWWdM5Tu//ANbX13dJYz/+MVd7G9N8ourz+7xFwXPN9S125xdlM3wYygnETleCsgiIiIDKOl6rNndRMLxj6l2+HgcHmybGxt63C1+O2XzF3YL1qnhIOFggNdqWmmKO0wszDzqgbnNtTGqmhOct3AB5y1c0Pn4hppWfv9qNR84u4jpxVndrjPGUBtLMrEgg5Fq5yYDRAFZRERkgLiez9qqZmzXIy/tGAuIe+HQcorpZXN6DLZvt1vck+llc3oM1qGARUF6hL0tSZoSLjNLssk4rDa4vLycRx5/moJJs1m08Nwuz7m+4fZntjAsPcInzx3b49eujTmMy0s7Yl2ySH9QQBYRERkAvm94bW8LzXGX/GM9XdcLPR3AmzrrHH7420dYv3rlMe0Y9+RIwdqyLIalR2hLuqzcUc+UEZmEAgHabY/yVeXc+IErcGybcKRjTYe+xx/XVbOpNsZ3Lp/YLVgD1MVsRmRGmFiQqV7HMqAUkEVERPqZMYZNtW3sbU1S2E9lFc+++BLJyz4PheNJhsJ87IU4/gsrABiXdz51rbk0ba9nVg+7vH0hIxoiGgrwek0r1oE2dcufW45zoIWc63QcCjwYkPe3JbmvfBfnjsnlovH53d6vKeGQnRpiWlHWcbWUEzkRCsgiIiL9bFdjnO317RQeYZDHkRhjSLg+7bZH3PHIT4909v49WE4xY94CXrdK+L2ZDiPbsTavJODZXPquKxg1sgQDvLa3lUdfr+F3r1YTtGB6cRbvOHMYF5yZT0l2Sp99znAwwPD0t34BOPe883nwx9/vbCF38FAgdPQ8dj3DFy84s9vusOP5+L5hRnE2IQ0CkUGggCwiItJP2m2X6uYEm+tiDE+PvG2ZQGVTnOe31/PPbQ1srm2j3fHwDxlKGwpYTC7MZFQoxtM//hZuvAWqh2EKbM47I4/35kfYkZbTYzmF7fqs39vC6t1NrNjRwN3/3MHd/9zBWfnpLCodxsSCDPLTI+SnR8hLixAKWMQdj70tCfa2JKmN2cwbncOIrN4H6iPVLq/c0cA/ttRx07ljGJnT/eBdQ7vD2cVZGgQig0YBWUREpA95vqGh3WZnQzt1MZuAZTEsLULwCGUCCcfjgZcreWZLHTsa4gCMz0/nnZMKyIyGSAsHSY8Eqa3axdotlTS3FfN4q495z5c73iDWyKWBrdz2nn/FsiwWnTu3x68TCQWYPSqH2aNy+NSCsexpirN8Wz3PbavnZ6t2c0gOxwLSIkFittflPXJSQ9zz3qlMGZHZ7UDgkRxeu5xwPb63fBtjclP58KyR3V7fknDIT49Q3Ic72yLHSgFZRETkOHi+YUdDjN0NcQwdoRI6OjN4xpAWDr5tG7fKpjhf/OsbbKmLMWdUDounF3H+uGHUbV1PRflfOsPn+oo13P0fi9/qZ/zfd3DPL/8XNyOf8I41fPCB3x7zIbaROan8v7KR/L+ykTTFHfY0J6iL2dTFbOpjNi1Jl/y0CEVZUUZkRQlZFrc+sYmP/3E9n5gQ4L5PLe5yIPDgOt8uNN/34i6qmhP8ZPG0bj2PPb+jpOSc0TqUJ4NLAVlEROQYtSQcXqtuocV2yUsJd4Y5AwQsejX44/lt9XztqU0ELIu73zuFhePygJ67URzezzjeVM9P7/zWgTB68wl1pwDISQ33ajrdLz54Njc/+jr3bGiD0gWY1//ROZEP6Lbuw9f1x3XV/PaVKj4wvYjZo3K6vX993GbC8Ix+OUQociz0d6CIiEgvGWPYXhdjU22MtHCAgvRj70jh+oaflu/i/pcqmVSQwXffNYm6reu5/29HHgfdV/2MT1R+eoSfXjWdTz60io3/8hms9FyC6/56xHUfur7nt9XzveXbWDguj88tOrPbe7fbHhmREGPy0gbyI4n0SAFZRETkCBzPJ+54xB2f5rjD1uoWrIwww9LCR6wpPtyhZQdnTJ3Fpx5axYYmwztGBLj9qrPZtO7ltx0HfaTDboMhIxriFx8+l88+XM6qBR9m3OXXkz52CmXQ4xhrgNf3tvDlJ95kYkEGd1w+kdBh3ztjDK1Jl3PH5fX6+yrSnxSQRUREDvB9Q0vSpT6WpKo5Sbvj0lFdbAgHAlhAwTG0aju0XCKUXUjux+5hnx3CevYnrNr8TzaN714+caRx0IOxY3wk4WCAH37oXB59vYalK3fyod+u5UMzi/nBbx5hw5quQ0kqm+L8x182kJ8e4QdXTCG1h84UDXGHsXmpvSrzEBkICsgiInJa83xDU9yhqjlOTWsSzzcELYuMaKhLT1+Aptix9eTtDL/ZRdhXfp3apIX1l9swOypwg8GTqnziWAUsiyunFXFhaT4/WrGDByuqeCojwoVT38tfGn1+98SbxB2PN/a1YQz88H1TGNbDBEHX87GAM/M1SlpOHgrIIiJy2jn4r/T3tiSpbIrjeIaUkEVOSu9LJ3qjbP5CgqOn47/zC+C7/Ouwffx270bcYHDAyidcz8czEA31z8CNnNQwX73kLN43dQT/s3w7/7dxH6nhIKnhAKmhIKNzU/n3BWMZk9tzbXFD3GXqiAyiIfU8lpOHArKIiJxWYkmX12taaGh3CAUsslLC3Wpij9eh9cZTZ53DxkAJ5spvkGPi/Nc5eVy04D0snFbar+UTCdcjbnu4vsFgkRIOEAla1LbZGAwByyIaDJARDfZpK7VpRVn86toZx3RN3PFIjwQpzu4+LERkMCkgi4jIaWNvc5z1e1uJBK237VF8rLrUG+eVcManl/Jms2HB2Fy+cem8zvra4w3DxnSM8jhSqHV9Q327TUYkxNhhaeSkhMmIhjqn0bmeT8z2iNku+1qT7G1NkhEJkh4ZvCjQknCYO0YH8+Tko4AsIiKnPMfz2bS/jV2NcYalhQkH+77coKJ8BbZjYyZdiP2OG9nW7PKViyfy3imFx7RTe7D8I+EaOi4zB4aQWBjTsSucHgl0CbbNCQfb9ZlSmMmonFQCPQTOUDBAdmqA7NQwxdmpjIs7bNjbwv62JLmpR/+eJFyPdtsDLHJTQ32y89yccCjMTOmxLllksCkgi4jIKcP3DUnPx3Z9HM/H8Q3ttseepjhJ16cwI9JnZQXb62M88PIeGtsdXN+nKW0O/L8fwrBRWHte59vvn8WFU0f0+v2MMTQnXGzPpzAjysz8dFLDAYKWRcCyCAQsXM+nPmazszHO/rYkAcvC8w3DMyJMHp1J+jEM2MhJDTN/bB7VzQne2N+Kc+Bw4qF8A2DIjIY4Y1gaMdujqjnJ8PTwCX0ffdMxMW9OQcZxv4dIf1JAFhGRIcmYju4TzQmX5rhDS9Kl3XY5kOnAsrDoCH2p4SAZfbRT2ZJwWLZqN39YV01qOMiY3DTCQYuc7CymlI4mr3kH118zixmz5/b6PZviDrZnGJmTwtjcNDJTev7HcygYoDArhcKsFNptl5qWJCmhAEXZKccVWAMBi5G5qQzPjNDQ7mAM+MYHwPchNRIkKyXUeYDO9w0WLew5wZDc2O5Qmp+uiXly0tLfmSIiMqT4vqG2LcnWuhgtCZdAwCIlFCASDDAsre92iA/n+Yb/29zEA+u305p0ef/UEZyf3sDml589rPvEwqO+z6Fs16ch7lCYGWVSQcYx7QCnRUKckd83/xiPhoIUZb19F4lAwGLKiCw4gZDcbnuEQwHGHqGrhcjJQAFZRESGBM83VDfH2VrXTsL1yIyGKMjs24N2h/ONYUNNK89sqePZrXVUtySZVZLN5xedQWL3Rm669v2dE/Due+jRXh++M8bQEHcIWBZlI7MpzIz2W7DvaycSkm3Xp91xmT82j0g/tZ0T6QsKyCIictJrbLd5bW8rMcclJxom6wglCL1xaCu2ngKt5xvWVbfwzNY6nttax/42m1DAYt6YXP5tRh7vnnkmlmVx/++6TsCrKF/Rq4DseD717Q5jclM5a3jGkAyKh4bkyuYEuSnht/0cnt/xS8E5o7LJStHEPDm5KSCLiMhJy3Z9tta3sbM+3rFjnH5iO8aHtmI7dNf3lZdW89fy12gpmMT6liAN7Q5BfKYPC/HvCydw3rg8tr/+Civ+8SdeM5cxvWxOjxPwevN5GhMOZSOzGZGVckKfZbAFAhZTi7IYnhFlQ00rrUmX3LQwgR52k40x1MVsJhVkUJA5tD+3nB4UkEVE5KS0vzXBa3tb8XxDwQl0nzh0x7hz9POBXd9/vriaR3a6/N+mekibAJXtTMpwaXnqZ3jb1rARn39/6FG2v76zI1jbSX778590ButjmYCXdH2aEw6zR2afMiHRsixGZKWQlxZhe307OxpipIQCpISChIJWZ1iub3cYlZPCuGGqO5ahQQFZREROKq7ns7m2jZ0N7eSkRk5oRPLhO8af+9rthMIR3OIzMTPezYP+DLxKF2q2wOt/J7B7Hdnz5uG/+U+M5+EGg1SUrwDoCNa+j+u8VU7R26EfCdejOeFyzqgchvfxgJKTQSQUYGJhBkVZUbbVxzoGkiQ8XM/HYJGbFmJSYeaQqbMWUUAWEZGTRmvCZV11MzHboyDjxA+uHb5jvKHeYfSXfs/WFkNqEK48u4RpgVq+9uP/wXU6SiUufOcVrF2zqlvpRDgcwTmGcoqDEo5Ha9Jl3phc8tJO7aEY2alhZo3M6fyz5xtc3ycUCGhangwpCsgiIjLojDFUNSV4vaaF1HCQ/OPsWXz4AbyDdcLOiHH4C67jMX8iBX6Y/7xgFO+eXEhqOAicQcFhpRKlEyd3K52476FHWfHMkyy86LJed6toituAxbyxeZ2jpk8nwYBFMPD27eNETjYKyCIiMmjaki77W5PsaoqTcDzyUsOEjmMMdH3M5rEVFfz04b/gpeUQ2PRPzt7okJGdw6gDO8ZZYfi3c8/gymlF3co2Di+V6Kl0YnrZHEaPGUNOfuHbrsfzDXXtNgXpEaYWZZESVkgUGUoUkEVEZEB5vmFfa4IdDe20JFyCAYusaIistxmScXB3eNa8BQwbP53/W/kqL27ZS0NKAfvipuNFUy6C5n34xrC7vo38QCqR1HQ+PS2fD84oPrBj3Hccz6fd8QgHAoSDFqGARdLzaYo7TCzIYFxeOgGVFogMOQrIIiIyYBrabV7f20rM9siKBino5YG19RVrWHLr7bjj5kDTXlhhdzyRSCWw42U+sGgO47MD/M9NH8JLxgmFI9z50KNML5vVb5+lKW7jGyjJTiHh+MQcj+akS9iymD8275SvNxY5lSkgi4hIv4s7Hpv2t1LdnCQrJURBxtHD46G1xFNmnsMPV+zCvexz0FaPVbWRMSk2u174C2b/TqxggILSL3Pl+26h9Ld/6nXbteN1cDx0cVaUSYWZXconjDEYg3aNRYY4BWQREek3Bw/fbdjXSihAr/oZH9qaLZSayZT/+g2vmhEE1j8Jy39GOBTiQ1+7nbv+VoMbDHTpKtHbtmvHwzeG5oSLcbwDvYy7d9mwLAt1MhMZ+votIFdWVnL99dezb98+LMtiyZIl3HzzzXz961/nZz/7GcOHDwfg9ttv5/LLLwfgjjvu4Be/+AXBYJAf/vCHXHrppf21PBER6WcJx2NDTSv7WpMMS+v94bvO1mwpWdjv/Spr6z0+/44zmXzee6mYNeyonSb6g+sbmuMOnjEUZkaYfUYe0ZAO3YmcyvotIIdCIe666y5mzZpFa2srZWVlXHLJJQB89rOf5fOf/3yX12/cuJGHH36YDRs2UF1dzcUXX8zmzZsJBvVDSERkqNnXkmD93lYClqEw8+3rjA8tqSibv5Bg0Vn47/w8pGTymclhrplZApS8baeJvpRwO/oXB6wAZ+anUZKdSkOtp3Aschrot4BcVFREUVERAJmZmUyaNImqqqojvv6xxx7jmmuuIRqNMm7cOEpLS1mzZg3z58/vryWKiEgf8n1Dc8JhV2M71c2JXk/B61JSEY7y/jv/gPngd0k3Np+fmc573jFvAFbf0ZEiZnvYno8FZERDTC3MojArSvg4Ws+JyNA1IDXIO3fuZO3atcydO5eVK1dy77338utf/5rZs2dz1113kZubS1VVFfPmvfVDcOTIkT0G6mXLlrFs2TIAampqqK6uHoiPcNqora0d7CXIcdB9G3pOpXuWcDwa2h2qWxLYrk84ZJERDhFPQryH129ct5ZXK9Ywo2wOk8+eyYpnnsSxk/ip2diX/Qe/2+Fx7sh0PjfvTLJTgjTV7eufhRtIuD4J1wcgHLQYlh6hKDVMeiRIOOhBPEntIR/iVLpvpxPdt6FnsO9ZvwfktrY2Fi9ezN13301WVhY33XQTX/3qV7Esi69+9at87nOf45e//GWv32/JkiUsWbIEgNmzZ1NcXNxfSz9t6Xs6NOm+DT1D+Z65nk9Du8POxnbq220CVpSCwpwed1oPLZ8A+MJNH8VxbMLhCPc99CgLLryUXz9Tgb9oCYSiXF8a4t/fNfOEx0wfieP5NCVcwJCfGqEkK4XctDDpb9OH+aChfN9OZ7pvQ89g3rN+DciO47B48WKuu+46rrzySgAKC9+aQPRv//ZvvPvd7wagpKSEysrKzuf27NlDSUlJfy5PRESOgev5tNke1S1x9jQl8HxIjwSO2sv40PKJcDjCu6+6puMAnufhYPPHla+xu6AM952fJ58Yny3L4NLz+qekwvMNTXGHQMBiamEmBZlRIr0oARGR00+/BWRjDDfeeCOTJk3illtu6Xx87969nbXJjzzyCFOnTgXgiiuu4EMf+hC33HIL1dXVbNmyhTlz+u/whYiIHF3c8WhNuDTEbepjNq0JD4MhEgyQkxIm2Itev50dKTwPFxsMhCJRnDGzMXM+wOP+GIrbbb50YSnvnVLYL7W+nm9oTbrYnk9pfjpjctMUjEXkqPotIK9cuZIHH3yQadOmMWPGDKCjpdtDDz3Eq6++imVZjB07lp/+9KcATJkyhauvvprJkycTCoVYunSpOliIiAwwYwyNcYddDe3UtCaxLAgHAqSGg+Snh3vVw/jQ1mtl8xcSDkdwsQlGU8la+AFyx17JvrihKNXi4+eN57IJw3vdAu4g3xjaki4J18eywMLCABiwLIPh4DoNoUCAgowIpfnppEXU/l9E3l6//aRYuHAhxphujx/sedyTW2+9lVtvvbW/liQiIj0wxhCzPRpiNtsa2kk4HqmhIMPT336ox6EOL6e476FHmV42h3t+8wj/u2oLG8JjuH+Ly1nD0/nshaO44Mz8Xu1CH6o54ZB0DcEAjMiMUpSVQiQYwDMGzzf4piM8R4IBoqGOv9SBQkSOlX6VFhE5zRhjSLo+rUmX2rYkNS1Jkr4hAGRFQ2T18rDa4Q4vp6goX0F7/nhue82ixh/D9LxMvjpnNAvG5h7XAbzaWJLh6VHG5qWRnRI65l1nEZHeUkAWETnFJV2PloTbWU/cFHdxPYMBoiGL9EiQ7D4Im13KKdKyeS1/LksfeZ2xuan8+MqpnDMq57g7U9TFbAozokwvzj7mXWcRkWOlgCwicgpyPJ/GdofKpji1bUkMFqEApISCZEVDfRYyD685vu+hR3lk5XpWhiewYp/P9WUj+fj8Mb0aGHIk9TGbYWlhhWMRGTAKyCIipxDX89lc10ZlYwLfQFo4QP4x1hL3VpcJeNFU/u2e37MukcUKfwJj01K5631nMa0o64S+RkO7Q05qmBklCsciMnAUkEVEThGO57N2TzONcYe8tDCBfhq0cVBF+QrszALMpAuxJ1/A0jdc8tPbWDJvNB+ZPeqEdo2NMTTEHTKjIWaOzFa9sYgMKAVkEZFTQMLxqNjTTMx2yU+P9MvXWF+xhpdfXMGwaedSFRnBk5E5mA+fA55LYGcF/37FAq69aA6hE9zp7ehU4VOUFWVyYZa6UIjIgFNAFhEZ4tptl5crm3F8n2FpfRuOjTHsaU7w1xdf5f5HnsQffTa86hCgklkjs3nHiDZSdq3lvH89n+llJzbcqTXh0u56jMiIUjo8nayUcB99ChGRY6OALCIyhDXHHSr2NBMAcvooULq+4Z/b63nizf2sr26hvt3peKJ0PlS+hlX+EDe8cyE3XXXzgSvOPaGvl3A8mhMuwzMizByZTXaqgrGIDC4FZBGRIag57rCtLsa+tiTpkSDpfTAhrqHd5pHXa/jz+r3sa7NJx2Z6QQqL5pWS2rSL2z52I56TJBSOsODcL5zw13N9Q2PcJhoKMmd0DsP66TChiMixUkAWERkifN/QknTZWhejti1JSihwzNPuDlcfsynf1chfX9nKK3UuPgGm5FjUP/492reu5pVQiH976FGmnz+PkQ890qWl2/EyxtCUcPB8mFiQyaicVHWoEJGTigKyiMhJyvMNbUmXloRDbZtNXbuN50NqKEBBRvS433d7fYwnN9Xy4s5G3tzf1vFgrBG2rCS88RkmXnw+b2wpx3gervGpKF/B9LI5nX8dL2MMTXEHx4dROSmcmZ9Oajh43O8nItJfFJBFRE5CccejorKJNtvDwpASCpKbevyt23xjWLmjgYderWbN7iaCFkwvzuJT546ldvVf+cPP/xvjufjBIJjzOyfihcIRyuYvPKHPcmgwHp2Twti8NNKPc5y1iMhA0E8oEZGTTFvS5aXdTYBh+Am0bLNdn231MV6pauGP66upbEpQkBHhU+eO5f3TRpBz4DDc+mAZj/0ojIshFI7wrquu4V1XXXPC5RS+MbQkHGxPwVhEhhb9pBIROYk0xx3W7G4iErTIiB57N4eKPU38deN+Nu1vY1tDO55vAJg2IpNPvHMMF5Xmdxu6cXBE9OGB+ESCcXPCwfYMY3JSFYxFZMjRTywRkZNEQ7vNS7sbSY+Ejqs297ENNdz+jy1kRENMLszk3LG5TCzIYGJBBiNzUjtft75iTY9h+ET7GB8spbD9jmA8blgaaX3QXUNEZKDpJ5eIyCDzfMP2+hhb6mJkp4RICR1bODbG8PPVu/npqt3MG53Dd9896Yht39ZXrOGma9+H49iEwxHue+jRPgnGzQkX2/MZmZPKGdoxFpEhTj/BREQGUXPcYf3eFmK2y/D0yDEfwnN9w3ef3cojr9fwrkkFfPXi8d1KKA5VUb4Cx7HxPQ8Xu7NDxfEwpqPtXMLxKc6OUpqfQYaCsYicAvSTTERkEHi+YXNtG9vqYqRHggxPP/a2bU1xh68/vZkVOxr46JxR3DR/zNv2RC6bv/CEO1S4fkeNsecbirNSGDcsTWOhReSUooAsIjKAfN+wvy3J2qpmItkh8o9j17ih3eY3FVX8YX01SdfnSxeWctX0oiO+/vCa454O5B0u4XrEbA/fdBzyswADGAPBQIBxeWmMzElVH2MROSUpIIuIDJCGdps3alppTriEg1aXXeOeDs4d7tmVq/nty7t5wxqBa+Cc/ADjGl7jLCcKFPX4PkeqOT78axhjiNkecdfDGIuslCBnDc8g7bAAbFmQkxomfJQyDhGRoU4BWUSkD3m+Iel6OJ7B8Xxc32C7PvvbbPa3JciMhinMjNKUfCtg9hRifWP4W/k6wqOnUhfMYe3uehptwB9OYPPz/Nv8cTzwjS/wkmPzyI86rgG6vc/b1Rz7xtAcd3B8Q0FGlLOGp5ObFiFFO8MichpTQBYROQbGGBzPYHt+x1+uT5vt0pr0aIk7xB0Py7IwGMAC07HrmhIKUJiZAnQE4hXPPMnCiy5jetmcbiH2sT/+gb8kRmHGzIQdHsNT6sl36mla/ghm22qstjrWtZ3fLfgC3R47Us2x63cEYx/D6NxURuek6YCdiMgB+mkoItJL+1sTvF7Tiu0ZOCQAhwIQDgaIhgJvGzI7d4vtJL/9+U+476FHu4TYYEYuK3IXYEI5sPznBDav4OpPfoqyhQu5aenfcZ2OoHvhO69g7ZpV3YLv4WH48Jrjs6aXsb/NJhS0ODM/jZLsVO0Wi4gcRgFZRORtJByPTbVt7GmKk5MaJjvl+ANl526x7+M6Hbu8N3z6Fu576FH++eJq/hGdSU3cEHriLsymFUcMutPL5lA6cXK3uuWeDuBNnXUOY6bMJOn6GGBGcSbDM6JHbQcnInI6U0AWETkCYww1LR27xpYFhRnRt22j9nYO7hY7h+385p05jb+vt2hot7nn/VNIXfjlt51219Nhu+llc5gy8xzijkddzMY3ELRgRFaU0blpZKeETvgziIic6hSQRUR60Bx32FzbRm3MJq8PuzYc3Ak+tAb5yTf3851ntxIMWNy3eDpTR2TC6OMb/RyzXdodj8LMFErTI2SmhMiIhAgEFIpFRHpLAVlE5BDttsu2+nYqG+OkhYMUZhz7AI/DHd56bXrZHEaPGUMgI49bn3iTpzbVMr0oi29edhYjs1OP++u0Jlx8YMHYYWSm6Me7iMjx0k9QETkt1cds4o5LMBDAAizLoiXhsK0uRjhoUZAR6ZNShCP1IX61pp07V+2krt3hE/PH8K/njCJ0Aru8TXGHUMBi3ugc0iL60S4iciL0U1RETivGGLbXx3hzf4xQwMIYc2BMnEUgAHlpEYInEFQP3y0+tIWbE/T53coN/Gx3GuW7Ghmdm8ovr57MlBGZJ/SZGuM2qaEgZaNy1JFCRKQPKCCLyGnD8w0ba1qobEpQkHHsI57fTk+7xbPmLSA4Yjxm/EL8SYt4ys+isD7Gh6flseT8iSc0qtnzDQ1xm9zUMDNLcoiE1JVCRKQvKCCLyGkh6Xqsq2qhIW73WfkEwMpVq3nlpTXMmD2H115ejR0IYzJzscecze0rqmlIHYHzwe8RwKcsP8T1Cycxd3QurQ37jzscG2NoTrg4ns/44emMyU1TyzYRkT6kgCwipzTH82mKO2ysacX1fYann9ihO883vFbTwortDfx9YxVV7QaYwa9W28BM+MRvgI4xInVhmD86l9mjsjl/XB65aZET/jzttkdr0qU4O8pZwzNUbywi0g/0k1VETinGGOKOR1PcYW9Lkto2G4MhPRIkJ/X4A2pDu82df32ZF6oTJAgTDFiMMM1YKx7BxFuxgiEWXvxORo49g5qdW7lk5llcsnDuCe1UtyVd4o7f8QfLYAGZKWHmjc0lrw/CtoiI9EwBWUSGNN83tNkurQmXuphNfcwm6flYFqSFg+Snh084pD5YsYffvFxJ0vVhyypCuyq4+2tfJC00nJuWPt45/vmGr918oHfxuSf8uepjNunREDMKMkgJB4mGAkSDAfUzFhEZAArIIjIkuZ5PTUuSLXWxjkAMpIQCpEdDZPdBiEy6Pr9fV80DL1XSnHA502pg+4NfxdRXYoJB3nhpQeeI6MMn3p0IYwx17Tb5aRHOLsnuswElIiLSewrIIjKkOJ5PdXOCLXUxHN8nJxomq4+HYrywvZ7bn95IbQKm5losvXImduVGblpahxsMdhkR3dO45+PlG0NtzGZUdgqTR2SdULs5ERE5fv22NVFZWckFF1zA5MmTmTJlCvfcc0+X5++66y4sy6Kurg7o2DX5zGc+Q2lpKdOnT+eVV17pr6WJyBBkjKGqKc7z2+p5c38bGZEgBenR42pttr5iDfff+33WV6zp8vjuxjg3P/o6n/3LRuqq92D9+Wts+fbV2JUbO0dEf+JzX+4c9tGXbNents2mND+dqUUKxyIig6nfdpBDoRB33XUXs2bNorW1lbKyMi655BImT55MZWUlTz/9NKNHj+58/RNPPMGWLVvYsmULq1ev5qabbmL16tX9tTwRGUJaEy4b97VQH3PISwufUNnB+oo1fOLa9+Gk5hL6w1+58b++TWrBaNZu3sk/a1wiwQALArt58be3YBwbNxikonxF505xXwdj3xga2x2CAYtZI7MZkZXSp+8vIiLHrt8CclFREUVFRQBkZmYyadIkqqqqmDx5Mp/97Gf53ve+x3vf+97O1z/22GNcf/31WJbFvHnzaGpqYu/evZ3vISIDx3Z92h2PtqSD60MoAMFAgIBlEQpYpIYDpISCfX5gzBiDbzpaqfnG4PmGqpYE2+pipIaCFGaeWIs2gNUvrsS+5GYYfy4O8JM3XXhzO7g2bF6Jv+Zh3vGFL/JyMIjrdy2n6GttSZeY4zEuL40zh6Vr0IeIyEliQGqQd+7cydq1a5k7dy6PPfYYJSUlnH322V1eU1VVxahRozr/PHLkSKqqqroF5GXLlrFs2TIAampqqK6u7v8PcBqpra0d7CXIceiL+xZ3PKqbEzTGHRzX7xi/jNUxhRne+k8DltXxeHo0RHZKiNy0MJnR3v048Y0hZnsd4TDp4vgG2/OxXR/XP/hlTJevn5USwrOgqe34PtvGdWt5tWINZ549h6ciM6HUgtW/J1yzic9//nPs3lDB//74Lozv4waD1FTt5s77fsmrFWuYUTaH0WPG0FS37/i+eA9sz6euto7hvqE0L40Mz6Nuf2ufvb/0H/2MHJp034aewb5n/R6Q29raWLx4MXfffTehUIjbb7+dp59++rjfb8mSJSxZsgSA2bNnU1xc3FdLlQP0PR2aTuS+NcUdNuxuJJCSQkFWsFclDL4x2K5PzPVpiPuMCEUZPzyDzB4OzMWSLk1xh5rWJHWxJMaECARSiKQFiAQs0gIWwQN/9bX1FWv4wk0fxU7Px8QnEc5N51OTQxAeR9n8DzO9bA7rR+Tyx5/f29mubeFFlzG9bA7nXnRZn64l4Xq0JFzSwkFmZKcy5cwxats2BOln5NCk+zb0DOY969eA7DgOixcv5rrrruPKK6/ktddeY8eOHZ27x3v27GHWrFmsWbOGkpISKisrO6/ds2cPJSUl/bk8EQH2tyao2NNMVjREyjGMPg5YFinhYOc1TQmHFTvqGZWTyri8NBzfUBdLsqcpQdz1CdDRhi0vLUKgj8Y890ZF+Qrs4Wdi3v0lMIYrrI3ccOnH4dL5na85eACvL9u1HSpmu8Rsj7RwkJkl2RRkRKmpsRWORUROUv0WkI0x3HjjjUyaNIlbbrkFgGnTprF///7O14wdO5aXX36Z/Px8rrjiCu69916uueYaVq9eTXZ2tuqP5aRnuz5v7m+lvt0hPy3MsPQIGdEQ6ZHQkOhCsKcxzvqaFnJTwidc/5qdEsYYQ01rgsqmOAChgEVGJNTr8otjlXA9nttaT8Dq+PrZKSGqt27klVdeITpuBg3hPF4Oz8F84Bxo2EPk8e/yrp8u6/G9jucAnjGGlqSL4xkiQYtIKEAk2FGrbbs+LUkH30BeWoQJwzMYnhFVKBYRGQL6LSCvXLmSBx98kGnTpjFjxgwAbr/9di6//PIeX3/55Zfz+OOPU1paSlpaGvfff39/LU2kT9THbNZVt+D6PtnREPUxh+qWJL4BC0MkGCAtGiI1FCAtEiQrJXzUDgyO59OWdPFNR/nCwf8OBSzSI0FSw8GjToQzxtCW9GiK2+xrS5IWDlKQESU7tevXTLoeMdujrs1mS10b+WkRQn00jMKyLHJPYJzzsWhLutzylw28UtXSw7NTYatLZng/M0flscBvJie4nwU/XdYnu8OO59OccPGNYWROKrmpIVoTHo1xh4a4gzEQDQWYUJBJQUaEtIhazouIDCX99lN74cKFGGOO+pqdO3d2/m/Lsli6dGl/LUekz7iez9a6drY3xMhOCZEd6giEmcEAmYe+zje4vk9T3KMuZuP47WCgODtKSXYqualhPGNoijtUNSfY15rEN+ZACDZYWBgMxnT8ORSwGJYe6ShROPA1fA70B66P8UZbHbbnE7QsUsIBWhIuuxrjBCyL/PQIkaBFXbtDwvEAi4AFw9OjQ2Kn+3BNcYfPPPo6m/a38fV/OYspIzJpjjv8+U9/4oknn8A4NoH9W/nwx27ko1fccuCqExv/bA4cLmx3PFJCQSYUZDAiM9qtLMWYjkOHkWDghEZci4jI4NG2hkgvGWNoaHfYUNNK3PEYnn70WtpQwCIUCHb5f5lvDPUxm6rmBOFgoLOdWWooSF5a+Kjv5/mG1oRLXZuN4UCTB8CyIN5uU5gVItRD2O3YWXYxBtLCAbL6qdxhoNTFbD7159eobIpz53smc/4ZwzqfCyyYyjP3fqXzsN3sc0+8Pdtbu8VQkBFhyojMjl9SjvCLhWVZREO9r+UWEZGTz9D+J6XIAGmOO2yqbaOuzSYrJUR++vGVEQQsi6yUMFl0BN6ARa93GYMBi4xoiIweWgE3tfccjqHj/TP6KBSvr1jT5SDb4X8+3vfprT3Ncf79kdepi9nc/d4ppNRu4f57f9X5Pn152M71fBriDtFQkPH56RRlp5B6DIcYRURk6FJAFjkCx/OJ2R47G2JUNydJj/TNoIqDhlppw/qKNdx07ftwHJtwOMLnvnY7d33jy51/7u345cPfpzfX7WtN8sDLlTz6eg3RYICl758Ge9/s8X36YtpdU9zB9Q1TRmQyMjtVB+tERE4zCsgiByRdj/qY3XHQqt0hlvQwBw7bFWRETqt6Usfz+dlTq3l+y35yh+WTm5fHzi3VJBd9Ahr24Ox5jWee+D8cx8b3PFzsznHMPTl0x7iifEWP1/W0O/38i6upLJjFC/s7Di1eMbmQj84ZRVFWCvf/uef3ORFJ16cx7lCUGWXSiEztGIuInKYUkOW0Z7s+lU3tbKtrxzOGlFDHGOXhGcdXRtFT+UBvShOOt+ygL7UlXf702l4eXLOTJhtocbHqd1NQYjDRYTBqGky+AB9YZ3mQOx9r5ysEt73YOY65p896cKc3FIly1ZfugotugsLxeJFUfmON4Bc/eqHj8GDgHHg+jvXCPzGeB4HpsMfmHSURPvfOMuq2rufJX/8fZfMXUjZ/IeFwBBf7mMdBG2NojHd0oTCmY2qfhUU4GGD2yGwKMqOn1S9EIiLSlQKynLYcz6eyMc7WuhgA2anhI9bxHs2hgRDo9q/9D3+sp9KEnq4byJDcFHf41ct7+PNre4nZHiOtZpofuRuzo4JAMMhVn/syN3z6FtZXrOGFF1cRKT2HmlAhKyJzqT9zLunvvIndqWPwX17Npz70/i6f46UXV2AXTsCUzsceP5//bc4hMr2EEaaJ4vw8igoL2L7hVda9vAJ8F8sKUDR6DNV7KsFJEnjzeaYu+Tfqtoa7fY+Op97Y9Xzq2x1G56ZSnJ1C0LIIHZjiFw4Ghlzpi4iI9D0FZDkt1bUlWb+3FcfzyTmGYHy03dFwOMK7r7qm27/2B7o89uwTf3nb1xyp7KCvJRyPh9ZW88DLlbTbHqVWPR+aOYIxGQXctHQjbjDYZXf28Ppec/F4Xq1u4Qf/3M7Xn97McGLYBeMxla/jjJjIXSsq2R06B7P4HHASBHa9wifefT4fumhOl/Zo63MbuWnpzZ3dJ/713bdz1yPf7/zzkUozbvj0Lcf0fWm3PVptl+lFWZTkpGiXWEREeqSALKcV2/XZXNvG7sY42akhslN6X0bR0+GyF18sxz5zPibZjhNrIGFFCYUjeIf9a/9DSwEufOcVrF2zqltpwOHlAsdzmK23XN/w1437WLZqF/vbbGbkBdiw9HNs27+d7xzD7qxlWcwsyeaBa2bw1KZafvDcJsxVt0Eyhh9NZ6sF54/LZ3ywCXfzBubdcEGP79VT94nSiZO7ff3jLakAaGi3CQUDLBibR3Zq+Ni/aSIictpQQJZTjnvIlLNgwCJgWQQti7jj8npNG67n9+rQ3eG7t4fuYDppqdy7YidvBGZhLp0FdAzt+BsQ+tTlpJsERdmp/KE2mxGZUa7+/p/wd7zCReeec8Twd3hAvP/e7/f6EJrjGdZXt7C2upm1VS3sb0syf0wuF5TmM7kwg4Bl4RvDq1Ut/H1zLc9sraOh3WHqiExuu2wi6x79Bev3bz/u3dmAZfHOiQVcUDqMH/x1NRt2tXPRxGyuvWgOKQd7Al86/6jvcfjudE9/7k1oNwemECZcj7jj0zGvyFCYGWXKiKwTHqktIiKnPgVkGTIOjlJubLeJhoNEQwFSQgGioQC+geaEQ3VzguqWxIEew1bnASzo+N9ZKb3bNe5p97Zs/kJCuUU409+FP/US1poIF5+Rz5y0Zja//iqFZ51NSuFo9rXa7GtNsq8tyatVzeyP2Xi+Aabz8psh/sVU8i9nTeeGsjm4vmFXYzs76tvZ4RWxf/IV/G+Nw9I/rmdvZA7+x34JxsczPr8PDeePP12BHW8nPT2NzPR0goGO4LutLkbS65hcOSY3lWFpEX7zShW/enkPBRkRZhRn80pVM3Uxm2gowLQcmJfYzOLSqZw9MpvQCRx4O1RKKMh/ve/EJtYdTbcSD2OojTkELDAYMBZWAIKWRW5qmDG5EbJSQqRHQgrGIiLSawrIctKLJV1qYza7G+PEbLdz2tyhgShgWbieTzQUIDf16BPpjuRorchefLEce8YV+B/5MZbxWVAY4rOXzWRMblrHxRfMO+L7er6hpjXJ89vqeXpzLT9asZMfrdjJyOwU9rclsb23RrJnRUPkpoXJTQ0zoTiP0iyLun37yC0oxDeweuUL+Fg0B0NMnT2P9MxsfGN41/hs5pUWMaM4i7y0jl8AWhIOL+xo4Lmt9bxU2cTZxVlcclY+uc07+Oz/6zhI98y9b5Vu9NWAjYFijGF/zGZMbioThnfskqtfsYiI9AUFZDkpxR2PurYku5vitCQ6QnFmNERBD2PkOlp1ndjgjZ6GYITDERzLxTr7ch62ZtFWsYd3TSrgpvljGJGV0uv3DgYsSrJT+NCsEj40q4Q9zXH+sbmODTWtXFCazxl5aYwblsbY3NSjTry7/97vs/rx/wHPwwoGOe+sL3PD9bcA0FS3j5z8/C6vz0oJ865JhbxrUuGB8P8kRcULqVizssfSjb4YsDFQDu4cj8pOYVJBpoKxiIj0KQVkGRCO59PY3vGvwoMHWmp1lEB0BFzPGHzfkHR9djfFaYo7BCyLjEiwx1B8qIBlHSijOH6H7xhXN7Ry1V1/4vFtrTSSylmF2Xz2/HFMKsw8sS8EjMxO5V/PGXXM1x1v398jhf8TLacYTLXtNiOzU5gyIkvhWERE+pwCsvS7pOvxyp5mGuM2AetAHeghtcFgOJhwLSC9F6G4LxxaUtFZXzymDP+sBTzgTYRtLqX5w7h1/ljecUbeoLcE620ZxNEOF7rYNDc2DLlyioMcz6ch7lCicCwiIv1IAVn6VdzxeLmyCdv1KMzofVlCXztS/2I7NYfAP99kzKXXY1//YwBGpVu8a/poLhqfz7i8tEFbc0/ergziSIcLD98x7k05hTGGmO3hGUMoYBEKBAgHreOq7+4t1/MJBqxuv4y0JV3aHY9IMMDE4RmMyUtTOBYRkX6jgCz9JpZ0WVPZhDGGnNTjG9vcFw4PjUv/9xH+8OJGkotv6xh3DLS2tvHpBVO4sDSf0bmpg7bWE3WkYRrHsmPs+YbmhIPrGwoyoqSFg8Qdj7jr0ZzwcP2O1mmRYICMaOi4pg8eKuF4tCY9DJASDmB7Psbv2n1keHqUKSMyyUuLKBiLiEi/U0CWftGScFizu4lwwCIjZWCHMhy1f/G4s/nPFU3UU4oV3gMvPEB458t8d9nPmF527HXBJ4P1FWtY8cyTLLzosiPWKfdmx9j1fJoSLhYwKjeV0TmppPdwaNB2fVoSDvvbkuxtSeL4PkHLIiuldxMJjTG0Ox4Jx8c70Hpv6ohMhmVESA0HMcbgeAbb83E8n0gw0OM6RERE+ov+qSN9JpZ0aWx3qGpJUN9ukxkJkRYJvv2FfainEoOzZi8gMOE8/BnvwR8xnmCKxW2LzmJEW4S1BVMom//xIVWHe6jOz2sn+e3Pf9LrCXiH8o2hsd3BsmBiQQZFWSlH7RkcCQXIz4iSnxFlUmFHb+rqlgS7GuN4xicrGnprOAgdU/ts1yfuePh09KfOTQ0zLi+NvLRIt/BrWRaRkKW+xSIiMmgUkOW4uJ5Pu+PRbns0JRz2t9qdPYrTI0EK0t9+Ul1/WP3iSuzsYsywMdgjp/C5F5poJBUuu4VMklw1PsTH3znvwE5nATNmzx3wNfalzt1x38d1jn0CXnPCIen6jMtLZ9ywVKKhY/uFxrIsMlNCTEjJ4IxhadS2Jdla187+NhvL6uhTHQlZZKWEKMlOITctTGY0RCio8CsiIicvBWTpNWMM9TGbN/e30Zb0DtSIGsKBAGnhgek80RR32NnYTlPcpSnu0BR32Lyzks3VdbRHc6n1ZmOum92x3kQbo/LSuW7SaM4uzmLqiEzCfRzMfGNoSbg4hwz7ALAsCFodu63RYKDfAuHBkgoHm1A4zPQ5C3A8HwuO+DV9Y2hNuiQcn4LMKBMLMo7af7m3wsEAxdmpFGWl0JJwCQYsUkL999lFRET6iwKy9Eos6fLm/jb2tSbJSgkxPGNgDt0lXI9Xq1pYvbuJNbsb2VQb6/4iJwnNLQSa3uA9F55HcZpF85a1XHRxWb/tECddn5akg4XFyOwU8g/75cAYQ5vt0hJ3aU66JOMuBkMkGCArJdRjJwjfGBKOj2/Mgb86HrN4q3d00Oro8JBwPWzPp2jiDO584I+sfeEfzLvwUqbMnI3jG1zfkIg7gEVKyCI9EsLzDS3JjnWUZKcyKieVnNS+rw+3LIvsfnhfERGRgaKALEflej47G9vZUhsjEgxQmNk/u8QJx6NiTzNb62NUNSeoak5Q3ZKguiWJ53e0GTu7OIv3jwniVm5k1tlTOWfWTP7ywH38/J7b8A9Mlxs1McwNn74FLpvf52t0fUNrwsHxDOnREFMLsyjIjPaqVtb1fFqTLlXNCfY0JcAyZERCGAPtjodvIBiAvLQw4UCASDBAMGARClgYOg7GJTyfpOvj+T5FmSkMS4+QEQ1y6YR3sve8GRQXF3f5mrbr05xw2NeapKY1STBgMbEggxFZ0WMupRARETmdKCBLj4wx7G9NsmFfG47nMywtckKjnA9/b9szVDXHeXFXI+U7G1lb1Yx9oEwhIwSjh2UwsSCD6ZkOVtUbvGveVKLBBDddexWOY/P0gQN48849l1/9qP+mwnWGYr9j93dUbhqFmVGyU0LHVGMdCgbITYuQmxbhrOEZ1MeS7GyME7QsxuSmkpMWJiMS6tMWZpFQgOEZUYZnRJlcaLAsBn3YiYiIyFCggCzdtCQc3tjXSn27Q05KmOyUE/vbZEttjDue3cKe5gQJxyfhduyYHnTGsDQuGBHg2fu+gVv1Bo5x+fxDjwJOZyD+ezjCu6+65oR7/PaWbwwNB0Zjjz4QirOifRNgI6EARdmpFGUPXL9l9Q4WERHpPQVkATom3rUlXbbXxWhtDpIaClKYEe3WU/hYGGN45PUa/mf5NjKjIRadOYzUcJDUcIDGfdU07t7KO8smcMGCMu6/9/v8fUcFxvNwg0EqylcAdAnEGI67x++xaIo72J5hXF7acXV2EBERkaFNAfkU43gd/WaTrk/AsoiGAkRDgc7uDcYYEq5PwvFIuD4N7Tb722ySjg8WJNttiosjBCyrx57CvQ2ibUmX25/ZytOba5k3OodvXjaBvLSOg33rK9Zw0xc7doZXHmUcMnQNxO+66hreddU1fb5bDB2H7tptF9szjMiMclYfdXYQERGRoUcJYIizXZ+6WJLqlgQtcRfb9zHGwrIAc3BcL4QCHUG53fYwdPSntSyIBC3SwkGyDoTBpvhbHRZ6GlvcmzHFL1U28d3ntlLdnOBT547lI+eM5PVXXuKxA8H2WMYh9/RYXwXj1oRLwvUASI+GGJ2bxvCMjjphEREROX0pIA9Bvm9oSjhUNsbZ25oAIC0cJD0aIvsItaaeb/B8w7C0cK8PavW0q9tTyYUxhg01rTy1qZa/b6mjLmZTmBHhp1dNZ0ZJdred6M997fZel0r0dfkEdATjuOsxPD3K1KJMMlNCKqMQERGRTgrIQ4Q5MJCipjXJnqY4tueTEgowLC3SY0/dwx3so3ssppfN6bKDC7Dkv76FW3gWgdeeZPoCBz+awb7WBPvabMJBiwVj87hswnAWnpHXOW748B3j5saGfjlYdzTGdIxEPhiMZ4zM7pcewCIiIjL0KSCfZNptF8+nc1iEAZraHXY1xUk4HqGARVY0RCg4MOHu4A6u4/n8271/xr38i+Am8eOtVDa0ccaoTMakukxp38GVcyYwb+5k1les4aGfPNgZfnvaie6PneHDJV2fmO3i+oaAZZGfHmFGvoKxiIiIHJ0C8knC8w1b62Jsr2/vqB8+UCcMhsCBUJzVy0Njx9t5Yn3FGlY88yQLL7qsy3X7WpN86W9v8LopJLj2L5gXfkU4FOLOhx4FEtx07Qc6D9x97mu3c9c3vtztYF9f7hjbrt/jjrgxhpjdsUtsjEVGNMi4YWnkpUUO/FKhkcciIiLy9hSQTwKxpMv6vS00Jxzy03tXMnEkx9t5ovM6O8lvf/6Tzutermziy0+8ScLx+c67JlJwXpSKc4o6g+79936/S/nEs0/8pceDfSe6Y2y7Pi1JF98YUsNBXMfg+v6BZ63O/8xPj3DW8HRy0iKkhlVXLCIiIsdOAXmQ1bQkWFfdQiRoMTz9xMc4H6nzxOG7yof/ufM638d1bJa/uIY/1mXz+Bv7GZubyk+vmsy4vDRgeJege3j5xIXvvIK1a1ad8GS7g+3o2h0PzxhSQ0EmFGQwPD1C+oGddPfA6OWk52MMZKdol1hEREROnAJyP4k7Hq53YLwvYFkdXdeSB0Jda8KlKeFQ25ZkWFqks0/x8Tg07B6p88ThXSQOL4M4eJ0dDsCcD/CQORtrcy0fmT2Sj84ZRXqk579VeiqfKJ04+bjKKWzXp+1ADTZATlqYs3JSyUsLkxntPto5FAwQCgZIP+7vnIiIiEh3Csj9YE9jnNdrWjjQjBiwOPi/OhjCgQCRYIDCjGiv2671pKeSisMD69uVQax+cSWz3n8Dl33njzy9q524FeXi8cP51LljKc5Oeds1HF4+0VM5hesb2m2XgGURCnT8FQhYxB2PdtvHYEgLBxmbl8aw9AiZ0dAJ/dIgIiIicrwUkPuQ5xs27W9lR0Oc/LTwgPzr/oryFdiOjUnNwckfxQMrN1M0fT4tpZfjOKnUbKpl+LRzCaVm4No2gdwRnHHRB3m5OYLJLMAfOZVf+JP46R9fwwKmj8jhsxdMYOqIzD5bY1vSpd3xGZWTguMbkgcm+SU9n9zUMGcOSyc3LUzaEXapRURERAZSvyWSyspKrr/+evbt24dlWSxZsoSbb76Zr371qzz22GMEAgEKCgp44IEHKC4uxhjDzTffzOOPP05aWhoPPPAAs2bN6q/l9bm44/FqVTPNCYfCjMgJ7Qr31rb6GFsK52H+7X5Iy8EH/ulD2oZ9ZKaEePLN2rd2rZc8CIAP/G8zcNGnsDCMzQiw4KxiZo3MZkZxFn5bAzn5fROOjTHUtzukRYIsGJdLVoraq4mIiMjJr98CcigU4q677mLWrFm0trZSVlbGJZdcwhe+8AW+9a1vAfDDH/6Qb37zm/zkJz/hiSeeYMuWLWzZsoXVq1dz0003sXr16v5aXp9xPZ+aliRv1rZhQZ8ctDuatqTL05treez1fWzY10ooYFE2Ko+Mxu3MmTKeC+fOJD+9I6AnXI/KxgS7GtvZ2RgHYERmlMLMKIUZUQoyI53DPA5qauubdSZcj6a4yxnD0hifn67DcyIiIjJk9FtALioqoqioCIDMzEwmTZpEVVUVkydP7nxNLBbr3Gl97LHHuP7667Esi3nz5tHU1MTevXs73+NkY7s+1S0JttTFcH2fnGiYSKj/QmBNa5KH11bxp3VVxD0oSbP47PlncPnE4eSmRYAF3a5JCQUZPzyd8cMH5hib63W0YnN9QzQUYM7oHIZn9O8vDCIiIiJ9bUCKPnfu3MnatWuZO3cuALfeeiu//vWvyc7O5rnnngOgqqqKUaNGdV4zcuRIqqqqugXkZcuWsWzZMgBqamqorq4eiI/Qxd6WBLsa4hggMxokErBoj0P7Cb7vvjaHPa02KaHAgb8smhMej2xq4vldrR1tMDa/iPXKY9TW72TcT+7Hap9J04l+4UO0NTX06nXGgOP52L6P63UcRAwFYERmCjlpYTIiQZyWeqpb+m5tcmS1tbWDvQQ5RrpnQ5Pu29Ck+zb0DPY96/eA3NbWxuLFi7n77rvJysoC4Nvf/jbf/va3ueOOO7j33nv5xje+0ev3W7JkCUuWLAFg9uzZFBcX98u6j2Zbop4RRTlE+3DH+K8b93HHM7tIHuxxdoj0SJBrZ5YQWPc4v33ifzCehxcMsumNjZx70WV9toaDcvILj/hcx4E7j2DAIjclTHY0RHZqiIxoqMdWbDJwBuP/C3JidM+GJt23oUn3begZzHvWrwHZcRwWL17Mddddx5VXXtnt+euuu47LL7+cb3zjG5SUlFBZWdn53J49eygpKenP5Z2QY42BRxr/7Hg+339+O39Yv5dZJdksmTcaxzMkXI+442NZcN64PDKiIdanz+H3P4qc8BCO41Ufs0kJB1kwLk9hWERERE5Z/RaQjTHceOONTJo0iVtuuaXz8S1btjB+/Higo+544sSJAFxxxRXce++9XHPNNaxevZrs7OyTtv74WB1p/PO+1iRf+tsbvFbTyofLSvjUgnGEAkcOnT0N5RgInm+oi9mU5KQwuTBT/YlFRETklNZvAXnlypU8+OCDTJs2jRkzZgBw++2384tf/IJNmzYRCAQYM2YMP/nJTwC4/PLLefzxxyktLSUtLY3777+/v5bWr4wx3PmXcsp3NlA6IpeyCWPZvHI9djQTkxrGySvm/pWbSdnmsqI6gR8M8513TeTi8cN79f49DeHoTwdLKiaPyGRMbqp2jUVEROSU128BeeHChRhjuj1++eWX9/h6y7JYunRpfy1nQDiez+d/V87K/T40tFKZCPHc3u3ABLjx50BHH+IXfGBXDPZvJ/z8zyg498fA8G5lGEcqyxgIrYmOYJyfEeHskmxyUtXDWERERE4PGl3WB9ZXrGHli+WszCjjzWaDVf4QpvwhAsEg19/y38x73/W8uO4NqrdvZs60Cex9fQ0P3PNNjOfhB4NUlK8A6FKG8bmv3c5d3/hyt7KM/mSMoc12sduSDM+IMmOkgrGIiIicfhSQT9D6ijV84uNLsC//T7Btrshp4Km1j+IGg4TCEc4/dx7TR+Uwe9R8YH7HNVkB/veww3YV5StwHBvf83CxefaJv3T5c0X5il4HZMfzidkelgXRYIBIKEDgKKURCdejLenhG0NOSpgZY/PIVjAWERGR05QC8jEqLy/nN39+nLJ5C8k+YyrfX7Eb++rvgecQ+PPXGXXt+972IN2RDtuFw2+F5gvfeQVr16zqVccKYwwx2yPh+vjGkBIOUpKTgvGhOenSFHfwDla7dLQs7vgfxsJgSI+EmFyYQUFmlPr9nsKxiIiInNYUkI9BeXk5F17yLyRHlfGzPZmYYpuQVUhg+/Ow6mHC7Q2dgfftdnsPf01Pobl04uQjBm3PN8Rsl4TrE7As8tMjjB8eJTslTHq06201xmB7PknXx/MNvgHfGDzfkBoOkpWilm0iIiIiBykgH4Ply5eTuPDTMP5caKrh3EAl3/y3D7B7Y5SKqWknfJiup9B8+Pu12x5ttkswEKA4K8qIzCjZqeGjtl6zLItoKEg0FDzutYmIiIicLhSQj8GiRYuI/OyTOBv+Qbh6Ix976BFyUsPk9FHrtYOlEpEDdcOHitkuMbuj/OGcUTnkpkUIHqVnsoiIiIgcHwXkYzB//nyW//bHPPDnxymbd1ufdpVwfUN9u83w9AgJ16e5ze6oFTYdwTk3LcyU0VnkpYVVDiEiIiLSjxSQj9H8+fNxC88i1IchNeF4NCdcphZlMiqnYxiH6/m0Ox5tSZeUcJDcVAVjERERkYGggDzImhIOGDh3XF6XnsOhYICsYICsFHWUEBERERlICsj9pDnh4HgGw8H+ahYYAwd3gQ0YDMPSIkwvziIlrAN0IiIiIicDBeQ+Zoyhtt1meFqEEVlRQoGOIR0Bq6ObhGV1lBZbloUFZERDOmwnIiIichJRQO5DvjHUxWxG5aQyqTBTwVdERERkCFJA7iOub6iLJRk/PIPx+ek6UCciIiIyRCkg94Gk69MYd5g6IosxeWmDvRwREREROQEKyCfAGEPD/2/v3kKi3Pcwjj+ztOXelWansRjWLuiw1dFx0NQKMSwM1k1hXXSEIKOboIuggm4qKCzqorqMuoiKuoosOtCBKIsgsnNURCRZiVmmadl2zN++iORtbVg78515m5nvBwQZ9c/vx8PAM++8Ml0Rpfh8KvlXpkYPTfN6JAAAAAwQBfkndX/pVWtXj/7I/Kf+7R/KxzgDAAAkCAryT/hN0n96TcV/ZMqf/g+vxwEAAICLKMg/ITsrXelpqfo99TevRwEAAIDLKMg/YeSQ370eAQAAAFHCJVAAAADAgYIMAAAAOFCQAQAAAAcKMgAAAOBAQQYAAAAcKMgAAACAAwUZAAAAcKAgAwAAAA4UZAAAAMCBggwAAAA4UJABAAAABwoyAAAA4EBBBgAAABwoyAAAAIADBRkAAABw8JmZeT3Ezxo1apTGjx/v9RgJpaWlRaNHj/Z6DPQTucUfMotP5BafyC3+xCqzhoYGvX379n8ej+uCDPdNmTJFN2/e9HoM9BO5xR8yi0/kFp/ILf54nRm3WAAAAAAOFGQAAADAgYKM76xcudLrEfATyC3+kFl8Irf4RG7xx+vMuAcZAAAAcOAKMgAAAOBAQQYAAAAcKMgJrrGxURUVFcrNzVUwGNTu3bslSa2traqsrNSkSZNUWVmp9+/fS5IeP36sadOmKS0tTTt37uw75/PnzyopKVFBQYGCwaA2btzoyT7Jwq3cJGn8+PHKz89XOBzWlClTYr5LsnArsydPnigcDvd9ZWRkaNeuXV6slBTcfK7t3r1beXl5CgaDZBZl/c3t8OHDCoVCys/P1/Tp03X37t2+s5YvXy6/36+8vDxPdkkWbmUWsz5iSGivX7+2+vp6MzP78OGDTZo0yR4+fGhr1661mpoaMzOrqamxdevWmZlZc3Oz3bhxwzZs2GA7duzoO6e3t9c6OjrMzKy7u9tKSkrs+vXrMd4mebiVm5nZuHHjrKWlJbYLJCE3M/ump6fHsrKyrKGhITZLJCG3crt//74Fg0H7+PGjRSIRmzVrlj19+jT2CyWJ/uZ27do1a21tNTOz06dPW0lJSd9Zly9ftvr6egsGgzHeIrm4lVms+ghXkBPc2LFjVVhYKElKT09XTk6OXr16pdraWi1btkyStGzZMh0/flyS5Pf7VVxcrEGDBn13js/n09ChQyVJkUhEkUhEPp8vdoskGbdyQ+xEI7OLFy9qwoQJGjduXNTnT1Zu5fbo0SOVlpZq8ODBSk1N1YwZM3Ts2LGY7pJM+pvb9OnTNXz4cEnS1KlT9fLly76zysvLNWLEiNgukITcyixWfYSCnEQaGhp0+/ZtlZaWqrm5WWPHjpUkjRkzRs3Nzf/37798+aJwOCy/36/KykqVlpZGe2Ro4Ln5fD7Nnj1bRUVF2rt3b7THhQae2TdHjx7VokWLojUm/mIgueXl5amurk7v3r3Tp0+fdPr0aTU2NsZi7KTX39z279+vP//8M9ZjwmGgmcWij6S6fiJ+SZ2dnZo/f7527dqljIyM737m8/l+6NVXSkqK7ty5o7a2NlVVVenBgwfcsxVlbuR29epVBQIBvXnzRpWVlcrOzlZ5eXm0Rk56bmQmSd3d3Tpx4oRqamqiMSb+YqC55eTkaP369Zo9e7aGDBmicDislJSUaI4M9T+3S5cuaf/+/bp69Wosx4SDG5nFoo9wBTkJRCIRzZ8/X0uWLNG8efMkSVlZWWpqapIkNTU1ye/3//B5mZmZqqio0NmzZ6MyL75yK7dAICDp61vDVVVVunHjRvSGTnJuPtfOnDmjwsJCZWVlRW1efOVWbtXV1aqvr9eVK1c0fPhwTZ48OapzJ7v+5nbv3j2tWLFCtbW1GjlypCczJzu3M4tmH6EgJzgzU3V1tXJycrRmzZq+x+fMmaMDBw5Ikg4cOKC5c+f+7TktLS1qa2uTJHV1den8+fPKzs6O2tzJzq3cPn78qI6Ojr7vz507x1X/KHErs2+OHDnC7RUx4GZub968kSS9ePFCx44d0+LFi6MzNPqd24sXLzRv3jwdPHiQFy4ecSuzmPUR1//tD7+Uuro6k2T5+flWUFBgBQUFdurUKXv79q3NnDnTJk6caLNmzbJ3796ZmVlTU5MFAgFLT0+3YcOGWSAQsPb2drt7966Fw2HLz8+3YDBomzdv9nizxOZWbs+ePbNQKGShUMhyc3Nty5YtHm+WuNzKzMyss7PTRowYYW1tbV6ulBTczK2srMxycnIsFArZhQsXvFwr4fU3t+rqasvMzOz73aKior6zFi5caGPGjLHU1FQLBAK2b98+r9ZKaG5lFqs+wkdNAwAAAA7cYgEAAAA4UJABAAAABwoyAAAA4EBBBgAAABwoyAAAAIADBRkAEtCmTZu0c+dOr8cAgLhEQQYAAAAcKMgAkCC2bt2qyZMnq6ysTE+ePJEk7dmzR7m5uQqFQlq4cKHHEwJAfEj1egAAwMDV19fr6NGjunPnjnp6elRYWKiioiJt27ZNz58/V1paWt/HswIA/h5XkAEgAdTV1amqqkqDBw9WRkaG5syZI0kKhUJasmSJDh06pNRUrokAwI+gIANAAjt16pRWrVqlW7duqbi4WD09PV6PBAC/PAoyACSA8vJyHT9+XF1dXero6NDJkyfV29urxsZGVVRUaPv27Wpvb1dnZ6fXowLAL4/32wAgARQWFmrBggUqKCiQ3+9XcXGxfD6fli5dqvb2dpmZVq9erczMTK9HBYBfns/MzOshAAAAgF8Ft1gAAAAADhRkAAAAwIGCDAAAADhQkAEAAAAHCjIAAADgQEEGAAAAHCjIAAAAgMN/AQy7FSWr1Z5lAAAAAElFTkSuQmCC\n",
      "text/plain": [
       "<Figure size 720x432 with 1 Axes>"
      ]
     },
     "metadata": {},
     "output_type": "display_data"
    }
   ],
   "source": [
    "fig1 = m.plot(forecast)"
   ]
  },
  {
   "cell_type": "markdown",
   "id": "d0626976",
   "metadata": {
    "hidden": true
   },
   "source": [
    "## Insights"
   ]
  },
  {
   "cell_type": "code",
   "execution_count": 15,
   "id": "71d0e1d8",
   "metadata": {
    "hidden": true,
    "scrolled": true
   },
   "outputs": [
    {
     "data": {
      "image/png": "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\n",
      "text/plain": [
       "<Figure size 648x432 with 2 Axes>"
      ]
     },
     "metadata": {},
     "output_type": "display_data"
    }
   ],
   "source": [
    "fig2 = m.plot_components(forecast)"
   ]
  },
  {
   "cell_type": "markdown",
   "id": "4feb7d98",
   "metadata": {
    "hidden": true
   },
   "source": [
    "The first plot shows that Consumer Price Index has been linearly increasing over time.\n",
    "\n",
    "The second plot shows peak months for Consumer Price Index: February and October."
   ]
  },
  {
   "cell_type": "markdown",
   "id": "e5f01caa",
   "metadata": {
    "hidden": true
   },
   "source": [
    "Adding ChangePoints to Prophet\n",
    "\n",
    "* Changepoints are the datetime points where the time series have abrupt changes in the trajectory.\n",
    "\n",
    "* By default, Prophet adds 25 changepoints to the initial 80% of the data-set.\n",
    "\n",
    "Let’s plot the vertical lines where the potential changepoints occurred."
   ]
  },
  {
   "cell_type": "code",
   "execution_count": 16,
   "id": "6fec289c",
   "metadata": {
    "hidden": true
   },
   "outputs": [
    {
     "data": {
      "image/png": "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\n",
      "text/plain": [
       "<Figure size 720x432 with 1 Axes>"
      ]
     },
     "metadata": {},
     "output_type": "display_data"
    }
   ],
   "source": [
    "from fbprophet.plot import add_changepoints_to_plot\n",
    "fig = m.plot(forecast)\n",
    "a = add_changepoints_to_plot(fig.gca(), m, forecast)"
   ]
  },
  {
   "cell_type": "markdown",
   "id": "b8fa5e52",
   "metadata": {
    "hidden": true
   },
   "source": [
    "We can view the dates where the chagepoints occurred."
   ]
  },
  {
   "cell_type": "code",
   "execution_count": 17,
   "id": "6316f1aa",
   "metadata": {
    "hidden": true
   },
   "outputs": [
    {
     "data": {
      "text/plain": [
       "4     2012-05-01\n",
       "8     2012-09-01\n",
       "12    2013-01-01\n",
       "16    2013-05-01\n",
       "20    2013-09-01\n",
       "24    2014-01-01\n",
       "28    2014-05-01\n",
       "32    2014-09-01\n",
       "36    2015-01-01\n",
       "40    2015-05-01\n",
       "44    2015-09-01\n",
       "48    2016-01-01\n",
       "53    2016-06-01\n",
       "57    2016-10-01\n",
       "61    2017-02-01\n",
       "65    2017-06-01\n",
       "69    2017-10-01\n",
       "73    2018-02-01\n",
       "77    2018-06-01\n",
       "81    2018-10-01\n",
       "85    2019-02-01\n",
       "89    2019-06-01\n",
       "93    2019-10-01\n",
       "97    2020-02-01\n",
       "101   2020-06-01\n",
       "Name: ds, dtype: datetime64[ns]"
      ]
     },
     "execution_count": 17,
     "metadata": {},
     "output_type": "execute_result"
    }
   ],
   "source": [
    "m.changepoints"
   ]
  },
  {
   "cell_type": "code",
   "execution_count": 18,
   "id": "7eaec325",
   "metadata": {
    "hidden": true
   },
   "outputs": [],
   "source": [
    "pred_2022 = forecast[['ds', 'yhat']].tail(12)"
   ]
  },
  {
   "cell_type": "code",
   "execution_count": 19,
   "id": "c339ff52",
   "metadata": {
    "hidden": true
   },
   "outputs": [
    {
     "data": {
      "text/html": [
       "<div>\n",
       "<style scoped>\n",
       "    .dataframe tbody tr th:only-of-type {\n",
       "        vertical-align: middle;\n",
       "    }\n",
       "\n",
       "    .dataframe tbody tr th {\n",
       "        vertical-align: top;\n",
       "    }\n",
       "\n",
       "    .dataframe thead th {\n",
       "        text-align: right;\n",
       "    }\n",
       "</style>\n",
       "<table border=\"1\" class=\"dataframe\">\n",
       "  <thead>\n",
       "    <tr style=\"text-align: right;\">\n",
       "      <th></th>\n",
       "      <th>ds</th>\n",
       "      <th>yhat</th>\n",
       "    </tr>\n",
       "  </thead>\n",
       "  <tbody>\n",
       "    <tr>\n",
       "      <th>120</th>\n",
       "      <td>2022-01-01</td>\n",
       "      <td>282.580933</td>\n",
       "    </tr>\n",
       "    <tr>\n",
       "      <th>121</th>\n",
       "      <td>2022-02-01</td>\n",
       "      <td>284.327328</td>\n",
       "    </tr>\n",
       "    <tr>\n",
       "      <th>122</th>\n",
       "      <td>2022-03-01</td>\n",
       "      <td>285.742920</td>\n",
       "    </tr>\n",
       "    <tr>\n",
       "      <th>123</th>\n",
       "      <td>2022-04-01</td>\n",
       "      <td>287.284430</td>\n",
       "    </tr>\n",
       "    <tr>\n",
       "      <th>124</th>\n",
       "      <td>2022-05-01</td>\n",
       "      <td>289.020531</td>\n",
       "    </tr>\n",
       "    <tr>\n",
       "      <th>125</th>\n",
       "      <td>2022-06-01</td>\n",
       "      <td>290.962946</td>\n",
       "    </tr>\n",
       "    <tr>\n",
       "      <th>126</th>\n",
       "      <td>2022-07-01</td>\n",
       "      <td>292.255947</td>\n",
       "    </tr>\n",
       "    <tr>\n",
       "      <th>127</th>\n",
       "      <td>2022-08-01</td>\n",
       "      <td>293.584330</td>\n",
       "    </tr>\n",
       "    <tr>\n",
       "      <th>128</th>\n",
       "      <td>2022-09-01</td>\n",
       "      <td>294.677919</td>\n",
       "    </tr>\n",
       "    <tr>\n",
       "      <th>129</th>\n",
       "      <td>2022-10-01</td>\n",
       "      <td>296.244891</td>\n",
       "    </tr>\n",
       "    <tr>\n",
       "      <th>130</th>\n",
       "      <td>2022-11-01</td>\n",
       "      <td>297.780750</td>\n",
       "    </tr>\n",
       "    <tr>\n",
       "      <th>131</th>\n",
       "      <td>2022-12-01</td>\n",
       "      <td>299.161645</td>\n",
       "    </tr>\n",
       "  </tbody>\n",
       "</table>\n",
       "</div>"
      ],
      "text/plain": [
       "            ds        yhat\n",
       "120 2022-01-01  282.580933\n",
       "121 2022-02-01  284.327328\n",
       "122 2022-03-01  285.742920\n",
       "123 2022-04-01  287.284430\n",
       "124 2022-05-01  289.020531\n",
       "125 2022-06-01  290.962946\n",
       "126 2022-07-01  292.255947\n",
       "127 2022-08-01  293.584330\n",
       "128 2022-09-01  294.677919\n",
       "129 2022-10-01  296.244891\n",
       "130 2022-11-01  297.780750\n",
       "131 2022-12-01  299.161645"
      ]
     },
     "execution_count": 19,
     "metadata": {},
     "output_type": "execute_result"
    }
   ],
   "source": [
    "pred_2022"
   ]
  },
  {
   "cell_type": "code",
   "execution_count": 20,
   "id": "bbe81ce5",
   "metadata": {
    "hidden": true
   },
   "outputs": [
    {
     "data": {
      "text/html": [
       "<div>\n",
       "<style scoped>\n",
       "    .dataframe tbody tr th:only-of-type {\n",
       "        vertical-align: middle;\n",
       "    }\n",
       "\n",
       "    .dataframe tbody tr th {\n",
       "        vertical-align: top;\n",
       "    }\n",
       "\n",
       "    .dataframe thead th {\n",
       "        text-align: right;\n",
       "    }\n",
       "</style>\n",
       "<table border=\"1\" class=\"dataframe\">\n",
       "  <thead>\n",
       "    <tr style=\"text-align: right;\">\n",
       "      <th></th>\n",
       "      <th>ds</th>\n",
       "      <th>y</th>\n",
       "    </tr>\n",
       "  </thead>\n",
       "  <tbody>\n",
       "    <tr>\n",
       "      <th>900</th>\n",
       "      <td>2022-01-01</td>\n",
       "      <td>281.933</td>\n",
       "    </tr>\n",
       "    <tr>\n",
       "      <th>901</th>\n",
       "      <td>2022-02-01</td>\n",
       "      <td>284.182</td>\n",
       "    </tr>\n",
       "    <tr>\n",
       "      <th>902</th>\n",
       "      <td>2022-03-01</td>\n",
       "      <td>287.708</td>\n",
       "    </tr>\n",
       "    <tr>\n",
       "      <th>903</th>\n",
       "      <td>2022-04-01</td>\n",
       "      <td>288.663</td>\n",
       "    </tr>\n",
       "    <tr>\n",
       "      <th>904</th>\n",
       "      <td>2022-05-01</td>\n",
       "      <td>291.474</td>\n",
       "    </tr>\n",
       "    <tr>\n",
       "      <th>905</th>\n",
       "      <td>2022-06-01</td>\n",
       "      <td>295.328</td>\n",
       "    </tr>\n",
       "    <tr>\n",
       "      <th>906</th>\n",
       "      <td>2022-07-01</td>\n",
       "      <td>295.271</td>\n",
       "    </tr>\n",
       "    <tr>\n",
       "      <th>907</th>\n",
       "      <td>2022-08-01</td>\n",
       "      <td>295.620</td>\n",
       "    </tr>\n",
       "  </tbody>\n",
       "</table>\n",
       "</div>"
      ],
      "text/plain": [
       "            ds        y\n",
       "900 2022-01-01  281.933\n",
       "901 2022-02-01  284.182\n",
       "902 2022-03-01  287.708\n",
       "903 2022-04-01  288.663\n",
       "904 2022-05-01  291.474\n",
       "905 2022-06-01  295.328\n",
       "906 2022-07-01  295.271\n",
       "907 2022-08-01  295.620"
      ]
     },
     "execution_count": 20,
     "metadata": {},
     "output_type": "execute_result"
    }
   ],
   "source": [
    "cpi_data.tail(8)"
   ]
  },
  {
   "cell_type": "code",
   "execution_count": 21,
   "id": "cb197d56",
   "metadata": {
    "hidden": true
   },
   "outputs": [
    {
     "data": {
      "text/html": [
       "<div>\n",
       "<style scoped>\n",
       "    .dataframe tbody tr th:only-of-type {\n",
       "        vertical-align: middle;\n",
       "    }\n",
       "\n",
       "    .dataframe tbody tr th {\n",
       "        vertical-align: top;\n",
       "    }\n",
       "\n",
       "    .dataframe thead th {\n",
       "        text-align: right;\n",
       "    }\n",
       "</style>\n",
       "<table border=\"1\" class=\"dataframe\">\n",
       "  <thead>\n",
       "    <tr style=\"text-align: right;\">\n",
       "      <th></th>\n",
       "      <th>ds</th>\n",
       "      <th>y</th>\n",
       "    </tr>\n",
       "  </thead>\n",
       "  <tbody>\n",
       "    <tr>\n",
       "      <th>900</th>\n",
       "      <td>2022-01-01</td>\n",
       "      <td>281.933</td>\n",
       "    </tr>\n",
       "    <tr>\n",
       "      <th>901</th>\n",
       "      <td>2022-02-01</td>\n",
       "      <td>284.182</td>\n",
       "    </tr>\n",
       "    <tr>\n",
       "      <th>902</th>\n",
       "      <td>2022-03-01</td>\n",
       "      <td>287.708</td>\n",
       "    </tr>\n",
       "    <tr>\n",
       "      <th>903</th>\n",
       "      <td>2022-04-01</td>\n",
       "      <td>288.663</td>\n",
       "    </tr>\n",
       "    <tr>\n",
       "      <th>904</th>\n",
       "      <td>2022-05-01</td>\n",
       "      <td>291.474</td>\n",
       "    </tr>\n",
       "    <tr>\n",
       "      <th>905</th>\n",
       "      <td>2022-06-01</td>\n",
       "      <td>295.328</td>\n",
       "    </tr>\n",
       "    <tr>\n",
       "      <th>906</th>\n",
       "      <td>2022-07-01</td>\n",
       "      <td>295.271</td>\n",
       "    </tr>\n",
       "    <tr>\n",
       "      <th>907</th>\n",
       "      <td>2022-08-01</td>\n",
       "      <td>295.620</td>\n",
       "    </tr>\n",
       "  </tbody>\n",
       "</table>\n",
       "</div>"
      ],
      "text/plain": [
       "            ds        y\n",
       "900 2022-01-01  281.933\n",
       "901 2022-02-01  284.182\n",
       "902 2022-03-01  287.708\n",
       "903 2022-04-01  288.663\n",
       "904 2022-05-01  291.474\n",
       "905 2022-06-01  295.328\n",
       "906 2022-07-01  295.271\n",
       "907 2022-08-01  295.620"
      ]
     },
     "execution_count": 21,
     "metadata": {},
     "output_type": "execute_result"
    }
   ],
   "source": [
    "cpi_hist_data = cpi_data.tail(8)\n",
    "cpi_hist_data"
   ]
  },
  {
   "cell_type": "markdown",
   "id": "1b5b9dac",
   "metadata": {
    "hidden": true
   },
   "source": [
    "## CPI Prediction Results"
   ]
  },
  {
   "cell_type": "code",
   "execution_count": 22,
   "id": "50c643fc",
   "metadata": {
    "hidden": true,
    "scrolled": true
   },
   "outputs": [
    {
     "data": {
      "image/png": "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\n",
      "text/plain": [
       "<Figure size 720x432 with 1 Axes>"
      ]
     },
     "metadata": {},
     "output_type": "display_data"
    }
   ],
   "source": [
    "fig1 = m.plot(forecast)"
   ]
  },
  {
   "cell_type": "code",
   "execution_count": 23,
   "id": "4da952a5",
   "metadata": {
    "hidden": true,
    "scrolled": true
   },
   "outputs": [
    {
     "data": {
      "text/html": [
       "<div>\n",
       "<style scoped>\n",
       "    .dataframe tbody tr th:only-of-type {\n",
       "        vertical-align: middle;\n",
       "    }\n",
       "\n",
       "    .dataframe tbody tr th {\n",
       "        vertical-align: top;\n",
       "    }\n",
       "\n",
       "    .dataframe thead th {\n",
       "        text-align: right;\n",
       "    }\n",
       "</style>\n",
       "<table border=\"1\" class=\"dataframe\">\n",
       "  <thead>\n",
       "    <tr style=\"text-align: right;\">\n",
       "      <th></th>\n",
       "      <th>ds</th>\n",
       "      <th>cpi_actual_data</th>\n",
       "      <th>cpi_prediction</th>\n",
       "    </tr>\n",
       "  </thead>\n",
       "  <tbody>\n",
       "    <tr>\n",
       "      <th>0</th>\n",
       "      <td>2022-01-01</td>\n",
       "      <td>281.933</td>\n",
       "      <td>282.580933</td>\n",
       "    </tr>\n",
       "    <tr>\n",
       "      <th>1</th>\n",
       "      <td>2022-02-01</td>\n",
       "      <td>284.182</td>\n",
       "      <td>284.327328</td>\n",
       "    </tr>\n",
       "    <tr>\n",
       "      <th>2</th>\n",
       "      <td>2022-03-01</td>\n",
       "      <td>287.708</td>\n",
       "      <td>285.742920</td>\n",
       "    </tr>\n",
       "    <tr>\n",
       "      <th>3</th>\n",
       "      <td>2022-04-01</td>\n",
       "      <td>288.663</td>\n",
       "      <td>287.284430</td>\n",
       "    </tr>\n",
       "    <tr>\n",
       "      <th>4</th>\n",
       "      <td>2022-05-01</td>\n",
       "      <td>291.474</td>\n",
       "      <td>289.020531</td>\n",
       "    </tr>\n",
       "    <tr>\n",
       "      <th>5</th>\n",
       "      <td>2022-06-01</td>\n",
       "      <td>295.328</td>\n",
       "      <td>290.962946</td>\n",
       "    </tr>\n",
       "    <tr>\n",
       "      <th>6</th>\n",
       "      <td>2022-07-01</td>\n",
       "      <td>295.271</td>\n",
       "      <td>292.255947</td>\n",
       "    </tr>\n",
       "    <tr>\n",
       "      <th>7</th>\n",
       "      <td>2022-08-01</td>\n",
       "      <td>295.620</td>\n",
       "      <td>293.584330</td>\n",
       "    </tr>\n",
       "    <tr>\n",
       "      <th>8</th>\n",
       "      <td>2022-09-01</td>\n",
       "      <td>NaN</td>\n",
       "      <td>294.677919</td>\n",
       "    </tr>\n",
       "    <tr>\n",
       "      <th>9</th>\n",
       "      <td>2022-10-01</td>\n",
       "      <td>NaN</td>\n",
       "      <td>296.244891</td>\n",
       "    </tr>\n",
       "    <tr>\n",
       "      <th>10</th>\n",
       "      <td>2022-11-01</td>\n",
       "      <td>NaN</td>\n",
       "      <td>297.780750</td>\n",
       "    </tr>\n",
       "    <tr>\n",
       "      <th>11</th>\n",
       "      <td>2022-12-01</td>\n",
       "      <td>NaN</td>\n",
       "      <td>299.161645</td>\n",
       "    </tr>\n",
       "  </tbody>\n",
       "</table>\n",
       "</div>"
      ],
      "text/plain": [
       "           ds  cpi_actual_data  cpi_prediction\n",
       "0  2022-01-01          281.933      282.580933\n",
       "1  2022-02-01          284.182      284.327328\n",
       "2  2022-03-01          287.708      285.742920\n",
       "3  2022-04-01          288.663      287.284430\n",
       "4  2022-05-01          291.474      289.020531\n",
       "5  2022-06-01          295.328      290.962946\n",
       "6  2022-07-01          295.271      292.255947\n",
       "7  2022-08-01          295.620      293.584330\n",
       "8  2022-09-01              NaN      294.677919\n",
       "9  2022-10-01              NaN      296.244891\n",
       "10 2022-11-01              NaN      297.780750\n",
       "11 2022-12-01              NaN      299.161645"
      ]
     },
     "execution_count": 23,
     "metadata": {},
     "output_type": "execute_result"
    }
   ],
   "source": [
    "cpi_2022 = pd.merge(cpi_hist_data,pred_2022,how = \"right\")\n",
    "cpi_2022.rename(columns = {'y':'cpi_actual_data', 'yhat':'cpi_prediction'}, inplace = True)\n",
    "cpi_2022"
   ]
  },
  {
   "cell_type": "code",
   "execution_count": 24,
   "id": "640c5872",
   "metadata": {
    "hidden": true
   },
   "outputs": [
    {
     "data": {
      "text/html": [
       "<div>\n",
       "<style scoped>\n",
       "    .dataframe tbody tr th:only-of-type {\n",
       "        vertical-align: middle;\n",
       "    }\n",
       "\n",
       "    .dataframe tbody tr th {\n",
       "        vertical-align: top;\n",
       "    }\n",
       "\n",
       "    .dataframe thead th {\n",
       "        text-align: right;\n",
       "    }\n",
       "</style>\n",
       "<table border=\"1\" class=\"dataframe\">\n",
       "  <thead>\n",
       "    <tr style=\"text-align: right;\">\n",
       "      <th></th>\n",
       "      <th>ds</th>\n",
       "      <th>cpi_actual_data</th>\n",
       "      <th>cpi_prediction</th>\n",
       "    </tr>\n",
       "  </thead>\n",
       "  <tbody>\n",
       "    <tr>\n",
       "      <th>count</th>\n",
       "      <td>12</td>\n",
       "      <td>8.000000</td>\n",
       "      <td>12.000000</td>\n",
       "    </tr>\n",
       "    <tr>\n",
       "      <th>unique</th>\n",
       "      <td>12</td>\n",
       "      <td>NaN</td>\n",
       "      <td>NaN</td>\n",
       "    </tr>\n",
       "    <tr>\n",
       "      <th>top</th>\n",
       "      <td>2022-01-01 00:00:00</td>\n",
       "      <td>NaN</td>\n",
       "      <td>NaN</td>\n",
       "    </tr>\n",
       "    <tr>\n",
       "      <th>freq</th>\n",
       "      <td>1</td>\n",
       "      <td>NaN</td>\n",
       "      <td>NaN</td>\n",
       "    </tr>\n",
       "    <tr>\n",
       "      <th>first</th>\n",
       "      <td>2022-01-01 00:00:00</td>\n",
       "      <td>NaN</td>\n",
       "      <td>NaN</td>\n",
       "    </tr>\n",
       "    <tr>\n",
       "      <th>last</th>\n",
       "      <td>2022-12-01 00:00:00</td>\n",
       "      <td>NaN</td>\n",
       "      <td>NaN</td>\n",
       "    </tr>\n",
       "    <tr>\n",
       "      <th>mean</th>\n",
       "      <td>NaN</td>\n",
       "      <td>290.022375</td>\n",
       "      <td>291.135381</td>\n",
       "    </tr>\n",
       "    <tr>\n",
       "      <th>std</th>\n",
       "      <td>NaN</td>\n",
       "      <td>5.290025</td>\n",
       "      <td>5.414043</td>\n",
       "    </tr>\n",
       "    <tr>\n",
       "      <th>min</th>\n",
       "      <td>NaN</td>\n",
       "      <td>281.933000</td>\n",
       "      <td>282.580933</td>\n",
       "    </tr>\n",
       "    <tr>\n",
       "      <th>25%</th>\n",
       "      <td>NaN</td>\n",
       "      <td>286.826500</td>\n",
       "      <td>286.899053</td>\n",
       "    </tr>\n",
       "    <tr>\n",
       "      <th>50%</th>\n",
       "      <td>NaN</td>\n",
       "      <td>290.068500</td>\n",
       "      <td>291.609447</td>\n",
       "    </tr>\n",
       "    <tr>\n",
       "      <th>75%</th>\n",
       "      <td>NaN</td>\n",
       "      <td>295.285250</td>\n",
       "      <td>295.069662</td>\n",
       "    </tr>\n",
       "    <tr>\n",
       "      <th>max</th>\n",
       "      <td>NaN</td>\n",
       "      <td>295.620000</td>\n",
       "      <td>299.161645</td>\n",
       "    </tr>\n",
       "  </tbody>\n",
       "</table>\n",
       "</div>"
      ],
      "text/plain": [
       "                         ds  cpi_actual_data  cpi_prediction\n",
       "count                    12         8.000000       12.000000\n",
       "unique                   12              NaN             NaN\n",
       "top     2022-01-01 00:00:00              NaN             NaN\n",
       "freq                      1              NaN             NaN\n",
       "first   2022-01-01 00:00:00              NaN             NaN\n",
       "last    2022-12-01 00:00:00              NaN             NaN\n",
       "mean                    NaN       290.022375      291.135381\n",
       "std                     NaN         5.290025        5.414043\n",
       "min                     NaN       281.933000      282.580933\n",
       "25%                     NaN       286.826500      286.899053\n",
       "50%                     NaN       290.068500      291.609447\n",
       "75%                     NaN       295.285250      295.069662\n",
       "max                     NaN       295.620000      299.161645"
      ]
     },
     "execution_count": 24,
     "metadata": {},
     "output_type": "execute_result"
    }
   ],
   "source": [
    "cpi_2022.describe(include='all')"
   ]
  },
  {
   "cell_type": "code",
   "execution_count": 25,
   "id": "5ff4190f",
   "metadata": {
    "hidden": true,
    "scrolled": true
   },
   "outputs": [
    {
     "data": {
      "text/plain": [
       "<matplotlib.legend.Legend at 0x7f8c62aa87c0>"
      ]
     },
     "execution_count": 25,
     "metadata": {},
     "output_type": "execute_result"
    },
    {
     "data": {
      "image/png": "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\n",
      "text/plain": [
       "<Figure size 720x432 with 1 Axes>"
      ]
     },
     "metadata": {
      "needs_background": "light"
     },
     "output_type": "display_data"
    }
   ],
   "source": [
    "plt.figure(figsize=(10,6))\n",
    "plt.plot(cpi_2022['cpi_prediction'],label=\"Predicted CPI: September 2022 - December 2022\")\n",
    "plt.plot(cpi_2022['cpi_actual_data'],label=\"Actual CPI\")\n",
    "plt.title(\"CPI: 4 months Prediction\")\n",
    "plt.legend()"
   ]
  },
  {
   "cell_type": "markdown",
   "id": "0338968e",
   "metadata": {},
   "source": [
    "# Data Description: HPI"
   ]
  },
  {
   "cell_type": "markdown",
   "id": "a60e711a",
   "metadata": {},
   "source": [
    "## HPI: U.S. National Home Price Index"
   ]
  },
  {
   "cell_type": "code",
   "execution_count": 26,
   "id": "2d6affdc",
   "metadata": {},
   "outputs": [],
   "source": [
    "try:\n",
    "    hpi_data = pd.read_csv(\"CSUSHPINSA.csv\",parse_dates = True)\n",
    "except:\n",
    "    try:\n",
    "        hpi_data = pd.read_csv(r'/Users/Admin/Y_privat/CPI_HOUSE/CSUSHPINSA.csv',parse_dates = True)\n",
    "    except:\n",
    "        hpi_data = pd.read_csv(\"https://fred.stlouisfed.org/graph/fredgraph.csv?bgcolor=%23e1e9f0&chart_type=line&drp=0&fo=open%20sans&graph_bgcolor=%23ffffff&height=450&mode=fred&recession_bars=on&txtcolor=%23444444&ts=12&tts=12&width=1168&nt=0&thu=0&trc=0&show_legend=yes&show_axis_titles=yes&show_tooltip=yes&id=CSUSHPINSA&scale=left&cosd=1987-01-01&coed=2022-07-01&line_color=%234572a7&link_values=false&line_style=solid&mark_type=none&mw=3&lw=2&ost=-99999&oet=99999&mma=0&fml=a&fq=Monthly&fam=avg&fgst=lin&fgsnd=2020-02-01&line_index=1&transformation=lin&vintage_date=2022-10-04&revision_date=2022-10-04&nd=1987-01-01\",parse_dates = True)"
   ]
  },
  {
   "cell_type": "code",
   "execution_count": 27,
   "id": "13843693",
   "metadata": {},
   "outputs": [],
   "source": [
    "hpi_data['DATE'] = pd.to_datetime(hpi_data['DATE'])\n",
    "hpi_data.rename(columns = {'DATE':'ds', 'CSUSHPINSA':'y'}, inplace = True)"
   ]
  },
  {
   "cell_type": "code",
   "execution_count": 28,
   "id": "f1c949be",
   "metadata": {},
   "outputs": [
    {
     "data": {
      "text/html": [
       "<div>\n",
       "<style scoped>\n",
       "    .dataframe tbody tr th:only-of-type {\n",
       "        vertical-align: middle;\n",
       "    }\n",
       "\n",
       "    .dataframe tbody tr th {\n",
       "        vertical-align: top;\n",
       "    }\n",
       "\n",
       "    .dataframe thead th {\n",
       "        text-align: right;\n",
       "    }\n",
       "</style>\n",
       "<table border=\"1\" class=\"dataframe\">\n",
       "  <thead>\n",
       "    <tr style=\"text-align: right;\">\n",
       "      <th></th>\n",
       "      <th>ds</th>\n",
       "      <th>y</th>\n",
       "    </tr>\n",
       "  </thead>\n",
       "  <tbody>\n",
       "    <tr>\n",
       "      <th>count</th>\n",
       "      <td>427</td>\n",
       "      <td>427.000000</td>\n",
       "    </tr>\n",
       "    <tr>\n",
       "      <th>unique</th>\n",
       "      <td>427</td>\n",
       "      <td>NaN</td>\n",
       "    </tr>\n",
       "    <tr>\n",
       "      <th>top</th>\n",
       "      <td>1987-01-01 00:00:00</td>\n",
       "      <td>NaN</td>\n",
       "    </tr>\n",
       "    <tr>\n",
       "      <th>freq</th>\n",
       "      <td>1</td>\n",
       "      <td>NaN</td>\n",
       "    </tr>\n",
       "    <tr>\n",
       "      <th>first</th>\n",
       "      <td>1987-01-01 00:00:00</td>\n",
       "      <td>NaN</td>\n",
       "    </tr>\n",
       "    <tr>\n",
       "      <th>last</th>\n",
       "      <td>2022-07-01 00:00:00</td>\n",
       "      <td>NaN</td>\n",
       "    </tr>\n",
       "    <tr>\n",
       "      <th>mean</th>\n",
       "      <td>NaN</td>\n",
       "      <td>136.684405</td>\n",
       "    </tr>\n",
       "    <tr>\n",
       "      <th>std</th>\n",
       "      <td>NaN</td>\n",
       "      <td>54.826603</td>\n",
       "    </tr>\n",
       "    <tr>\n",
       "      <th>min</th>\n",
       "      <td>NaN</td>\n",
       "      <td>63.734000</td>\n",
       "    </tr>\n",
       "    <tr>\n",
       "      <th>25%</th>\n",
       "      <td>NaN</td>\n",
       "      <td>81.643500</td>\n",
       "    </tr>\n",
       "    <tr>\n",
       "      <th>50%</th>\n",
       "      <td>NaN</td>\n",
       "      <td>139.161000</td>\n",
       "    </tr>\n",
       "    <tr>\n",
       "      <th>75%</th>\n",
       "      <td>NaN</td>\n",
       "      <td>175.143000</td>\n",
       "    </tr>\n",
       "    <tr>\n",
       "      <th>max</th>\n",
       "      <td>NaN</td>\n",
       "      <td>308.468000</td>\n",
       "    </tr>\n",
       "  </tbody>\n",
       "</table>\n",
       "</div>"
      ],
      "text/plain": [
       "                         ds           y\n",
       "count                   427  427.000000\n",
       "unique                  427         NaN\n",
       "top     1987-01-01 00:00:00         NaN\n",
       "freq                      1         NaN\n",
       "first   1987-01-01 00:00:00         NaN\n",
       "last    2022-07-01 00:00:00         NaN\n",
       "mean                    NaN  136.684405\n",
       "std                     NaN   54.826603\n",
       "min                     NaN   63.734000\n",
       "25%                     NaN   81.643500\n",
       "50%                     NaN  139.161000\n",
       "75%                     NaN  175.143000\n",
       "max                     NaN  308.468000"
      ]
     },
     "execution_count": 28,
     "metadata": {},
     "output_type": "execute_result"
    }
   ],
   "source": [
    "hpi_data.describe(include='all')"
   ]
  },
  {
   "cell_type": "code",
   "execution_count": 29,
   "id": "2dcfa684",
   "metadata": {},
   "outputs": [
    {
     "name": "stdout",
     "output_type": "stream",
     "text": [
      "Dataset Size: (427, 2)\n"
     ]
    }
   ],
   "source": [
    "print('Dataset Size:', hpi_data.shape)"
   ]
  },
  {
   "cell_type": "code",
   "execution_count": 30,
   "id": "18aa169b",
   "metadata": {},
   "outputs": [],
   "source": [
    "def current_data(df):\n",
    "    print('**Data Type**')\n",
    "    print(df.info())\n",
    "    print('**5 rows**')\n",
    "    print(df.head())\n",
    "    print('-------------------------------------------------------------------------------------------------------------')\n",
    "    print('**Statistic data**')\n",
    "    print(df.describe(include = 'all'))\n",
    "    print('-------------------------------------------------------------------------------------------------------------')\n",
    "    print('**Number of duplicates**')\n",
    "    print(df.duplicated().sum())\n",
    "    print('-------------------------------------------------------------------------------------------------------------')\n",
    "    print('**Percentage of missing values**')\n",
    "    print((df.isna().sum()/len(df)*100))\n",
    "    print('-------------------------------------------------------------------------------------------------------------')\n",
    "    #print('**Number of unique values**')\n",
    "    #print(df.nunique())\n",
    "    #for column in df.columns:\n",
    "    #    print('\\n', 'Unique values:', column)\n",
    "    #    print(df[column].unique())"
   ]
  },
  {
   "cell_type": "code",
   "execution_count": 31,
   "id": "92a8e46b",
   "metadata": {},
   "outputs": [
    {
     "name": "stdout",
     "output_type": "stream",
     "text": [
      "**Data Type**\n",
      "<class 'pandas.core.frame.DataFrame'>\n",
      "RangeIndex: 427 entries, 0 to 426\n",
      "Data columns (total 2 columns):\n",
      " #   Column  Non-Null Count  Dtype         \n",
      "---  ------  --------------  -----         \n",
      " 0   ds      427 non-null    datetime64[ns]\n",
      " 1   y       427 non-null    float64       \n",
      "dtypes: datetime64[ns](1), float64(1)\n",
      "memory usage: 6.8 KB\n",
      "None\n",
      "**5 rows**\n",
      "          ds       y\n",
      "0 1987-01-01  63.734\n",
      "1 1987-02-01  64.134\n",
      "2 1987-03-01  64.470\n",
      "3 1987-04-01  64.974\n",
      "4 1987-05-01  65.548\n",
      "-------------------------------------------------------------------------------------------------------------\n",
      "**Statistic data**\n",
      "                         ds           y\n",
      "count                   427  427.000000\n",
      "unique                  427         NaN\n",
      "top     1987-01-01 00:00:00         NaN\n",
      "freq                      1         NaN\n",
      "first   1987-01-01 00:00:00         NaN\n",
      "last    2022-07-01 00:00:00         NaN\n",
      "mean                    NaN  136.684405\n",
      "std                     NaN   54.826603\n",
      "min                     NaN   63.734000\n",
      "25%                     NaN   81.643500\n",
      "50%                     NaN  139.161000\n",
      "75%                     NaN  175.143000\n",
      "max                     NaN  308.468000\n",
      "-------------------------------------------------------------------------------------------------------------\n",
      "**Number of duplicates**\n",
      "0\n",
      "-------------------------------------------------------------------------------------------------------------\n",
      "**Percentage of missing values**\n",
      "ds    0.0\n",
      "y     0.0\n",
      "dtype: float64\n",
      "-------------------------------------------------------------------------------------------------------------\n",
      "None\n"
     ]
    }
   ],
   "source": [
    "print(current_data(hpi_data))"
   ]
  },
  {
   "cell_type": "markdown",
   "id": "f6ed3e5a",
   "metadata": {},
   "source": [
    "## HPI 2022 (January-July)"
   ]
  },
  {
   "cell_type": "code",
   "execution_count": 32,
   "id": "a0009bff",
   "metadata": {},
   "outputs": [
    {
     "data": {
      "text/html": [
       "<div>\n",
       "<style scoped>\n",
       "    .dataframe tbody tr th:only-of-type {\n",
       "        vertical-align: middle;\n",
       "    }\n",
       "\n",
       "    .dataframe tbody tr th {\n",
       "        vertical-align: top;\n",
       "    }\n",
       "\n",
       "    .dataframe thead th {\n",
       "        text-align: right;\n",
       "    }\n",
       "</style>\n",
       "<table border=\"1\" class=\"dataframe\">\n",
       "  <thead>\n",
       "    <tr style=\"text-align: right;\">\n",
       "      <th></th>\n",
       "      <th>ds</th>\n",
       "      <th>y</th>\n",
       "    </tr>\n",
       "  </thead>\n",
       "  <tbody>\n",
       "    <tr>\n",
       "      <th>0</th>\n",
       "      <td>1987-01-01</td>\n",
       "      <td>63.734</td>\n",
       "    </tr>\n",
       "  </tbody>\n",
       "</table>\n",
       "</div>"
      ],
      "text/plain": [
       "          ds       y\n",
       "0 1987-01-01  63.734"
      ]
     },
     "metadata": {},
     "output_type": "display_data"
    },
    {
     "data": {
      "text/html": [
       "<div>\n",
       "<style scoped>\n",
       "    .dataframe tbody tr th:only-of-type {\n",
       "        vertical-align: middle;\n",
       "    }\n",
       "\n",
       "    .dataframe tbody tr th {\n",
       "        vertical-align: top;\n",
       "    }\n",
       "\n",
       "    .dataframe thead th {\n",
       "        text-align: right;\n",
       "    }\n",
       "</style>\n",
       "<table border=\"1\" class=\"dataframe\">\n",
       "  <thead>\n",
       "    <tr style=\"text-align: right;\">\n",
       "      <th></th>\n",
       "      <th>ds</th>\n",
       "      <th>y</th>\n",
       "    </tr>\n",
       "  </thead>\n",
       "  <tbody>\n",
       "    <tr>\n",
       "      <th>426</th>\n",
       "      <td>2022-07-01</td>\n",
       "      <td>307.447</td>\n",
       "    </tr>\n",
       "  </tbody>\n",
       "</table>\n",
       "</div>"
      ],
      "text/plain": [
       "            ds        y\n",
       "426 2022-07-01  307.447"
      ]
     },
     "metadata": {},
     "output_type": "display_data"
    }
   ],
   "source": [
    "display(hpi_data.head(1))\n",
    "display(hpi_data.tail(1))"
   ]
  },
  {
   "cell_type": "code",
   "execution_count": 33,
   "id": "e2f8e4ee",
   "metadata": {},
   "outputs": [
    {
     "data": {
      "text/html": [
       "<div>\n",
       "<style scoped>\n",
       "    .dataframe tbody tr th:only-of-type {\n",
       "        vertical-align: middle;\n",
       "    }\n",
       "\n",
       "    .dataframe tbody tr th {\n",
       "        vertical-align: top;\n",
       "    }\n",
       "\n",
       "    .dataframe thead th {\n",
       "        text-align: right;\n",
       "    }\n",
       "</style>\n",
       "<table border=\"1\" class=\"dataframe\">\n",
       "  <thead>\n",
       "    <tr style=\"text-align: right;\">\n",
       "      <th></th>\n",
       "      <th>ds</th>\n",
       "      <th>y</th>\n",
       "    </tr>\n",
       "  </thead>\n",
       "  <tbody>\n",
       "    <tr>\n",
       "      <th>0</th>\n",
       "      <td>1987-01-01</td>\n",
       "      <td>63.734</td>\n",
       "    </tr>\n",
       "  </tbody>\n",
       "</table>\n",
       "</div>"
      ],
      "text/plain": [
       "          ds       y\n",
       "0 1987-01-01  63.734"
      ]
     },
     "metadata": {},
     "output_type": "display_data"
    },
    {
     "data": {
      "text/html": [
       "<div>\n",
       "<style scoped>\n",
       "    .dataframe tbody tr th:only-of-type {\n",
       "        vertical-align: middle;\n",
       "    }\n",
       "\n",
       "    .dataframe tbody tr th {\n",
       "        vertical-align: top;\n",
       "    }\n",
       "\n",
       "    .dataframe thead th {\n",
       "        text-align: right;\n",
       "    }\n",
       "</style>\n",
       "<table border=\"1\" class=\"dataframe\">\n",
       "  <thead>\n",
       "    <tr style=\"text-align: right;\">\n",
       "      <th></th>\n",
       "      <th>ds</th>\n",
       "      <th>y</th>\n",
       "    </tr>\n",
       "  </thead>\n",
       "  <tbody>\n",
       "    <tr>\n",
       "      <th>426</th>\n",
       "      <td>2022-07-01</td>\n",
       "      <td>307.447</td>\n",
       "    </tr>\n",
       "  </tbody>\n",
       "</table>\n",
       "</div>"
      ],
      "text/plain": [
       "            ds        y\n",
       "426 2022-07-01  307.447"
      ]
     },
     "metadata": {},
     "output_type": "display_data"
    }
   ],
   "source": [
    "display(hpi_data.head(1))\n",
    "display(hpi_data.tail(1))"
   ]
  },
  {
   "cell_type": "code",
   "execution_count": 34,
   "id": "e472cda0",
   "metadata": {
    "scrolled": false
   },
   "outputs": [
    {
     "data": {
      "text/html": [
       "<div>\n",
       "<style scoped>\n",
       "    .dataframe tbody tr th:only-of-type {\n",
       "        vertical-align: middle;\n",
       "    }\n",
       "\n",
       "    .dataframe tbody tr th {\n",
       "        vertical-align: top;\n",
       "    }\n",
       "\n",
       "    .dataframe thead th {\n",
       "        text-align: right;\n",
       "    }\n",
       "</style>\n",
       "<table border=\"1\" class=\"dataframe\">\n",
       "  <thead>\n",
       "    <tr style=\"text-align: right;\">\n",
       "      <th></th>\n",
       "      <th>ds</th>\n",
       "      <th>y</th>\n",
       "    </tr>\n",
       "  </thead>\n",
       "  <tbody>\n",
       "    <tr>\n",
       "      <th>420</th>\n",
       "      <td>2022-01-01</td>\n",
       "      <td>282.026</td>\n",
       "    </tr>\n",
       "    <tr>\n",
       "      <th>421</th>\n",
       "      <td>2022-02-01</td>\n",
       "      <td>287.279</td>\n",
       "    </tr>\n",
       "    <tr>\n",
       "      <th>422</th>\n",
       "      <td>2022-03-01</td>\n",
       "      <td>295.054</td>\n",
       "    </tr>\n",
       "    <tr>\n",
       "      <th>423</th>\n",
       "      <td>2022-04-01</td>\n",
       "      <td>301.655</td>\n",
       "    </tr>\n",
       "    <tr>\n",
       "      <th>424</th>\n",
       "      <td>2022-05-01</td>\n",
       "      <td>306.639</td>\n",
       "    </tr>\n",
       "    <tr>\n",
       "      <th>425</th>\n",
       "      <td>2022-06-01</td>\n",
       "      <td>308.468</td>\n",
       "    </tr>\n",
       "    <tr>\n",
       "      <th>426</th>\n",
       "      <td>2022-07-01</td>\n",
       "      <td>307.447</td>\n",
       "    </tr>\n",
       "  </tbody>\n",
       "</table>\n",
       "</div>"
      ],
      "text/plain": [
       "            ds        y\n",
       "420 2022-01-01  282.026\n",
       "421 2022-02-01  287.279\n",
       "422 2022-03-01  295.054\n",
       "423 2022-04-01  301.655\n",
       "424 2022-05-01  306.639\n",
       "425 2022-06-01  308.468\n",
       "426 2022-07-01  307.447"
      ]
     },
     "execution_count": 34,
     "metadata": {},
     "output_type": "execute_result"
    }
   ],
   "source": [
    "hpi_data.tail(7)"
   ]
  },
  {
   "cell_type": "code",
   "execution_count": 35,
   "id": "f0066d8d",
   "metadata": {},
   "outputs": [
    {
     "data": {
      "text/html": [
       "<div>\n",
       "<style scoped>\n",
       "    .dataframe tbody tr th:only-of-type {\n",
       "        vertical-align: middle;\n",
       "    }\n",
       "\n",
       "    .dataframe tbody tr th {\n",
       "        vertical-align: top;\n",
       "    }\n",
       "\n",
       "    .dataframe thead th {\n",
       "        text-align: right;\n",
       "    }\n",
       "</style>\n",
       "<table border=\"1\" class=\"dataframe\">\n",
       "  <thead>\n",
       "    <tr style=\"text-align: right;\">\n",
       "      <th></th>\n",
       "      <th>ds</th>\n",
       "      <th>y</th>\n",
       "    </tr>\n",
       "  </thead>\n",
       "  <tbody>\n",
       "    <tr>\n",
       "      <th>300</th>\n",
       "      <td>2012-01-01</td>\n",
       "      <td>134.169</td>\n",
       "    </tr>\n",
       "    <tr>\n",
       "      <th>301</th>\n",
       "      <td>2012-02-01</td>\n",
       "      <td>133.997</td>\n",
       "    </tr>\n",
       "    <tr>\n",
       "      <th>302</th>\n",
       "      <td>2012-03-01</td>\n",
       "      <td>135.865</td>\n",
       "    </tr>\n",
       "    <tr>\n",
       "      <th>303</th>\n",
       "      <td>2012-04-01</td>\n",
       "      <td>138.474</td>\n",
       "    </tr>\n",
       "    <tr>\n",
       "      <th>304</th>\n",
       "      <td>2012-05-01</td>\n",
       "      <td>141.052</td>\n",
       "    </tr>\n",
       "  </tbody>\n",
       "</table>\n",
       "</div>"
      ],
      "text/plain": [
       "            ds        y\n",
       "300 2012-01-01  134.169\n",
       "301 2012-02-01  133.997\n",
       "302 2012-03-01  135.865\n",
       "303 2012-04-01  138.474\n",
       "304 2012-05-01  141.052"
      ]
     },
     "execution_count": 35,
     "metadata": {},
     "output_type": "execute_result"
    }
   ],
   "source": [
    "hpi_data = hpi_data.query(\"ds >= '2012-01-01'\")\n",
    "hpi_data.head()"
   ]
  },
  {
   "cell_type": "markdown",
   "id": "84a5598e",
   "metadata": {
    "heading_collapsed": true
   },
   "source": [
    "# HPI Data Prediction"
   ]
  },
  {
   "cell_type": "markdown",
   "id": "01c313a3",
   "metadata": {
    "hidden": true
   },
   "source": [
    "## ML Prediction: HPI 2022 (August - December)"
   ]
  },
  {
   "cell_type": "markdown",
   "id": "4fc83a49",
   "metadata": {
    "hidden": true
   },
   "source": [
    "Machine Learning Model Prediction: PROPHET.\n",
    "Automatic Forecasting Procedure."
   ]
  },
  {
   "cell_type": "code",
   "execution_count": 36,
   "id": "e8c3186d",
   "metadata": {
    "hidden": true
   },
   "outputs": [
    {
     "name": "stderr",
     "output_type": "stream",
     "text": [
      "INFO:fbprophet:Disabling weekly seasonality. Run prophet with weekly_seasonality=True to override this.\n",
      "INFO:fbprophet:Disabling daily seasonality. Run prophet with daily_seasonality=True to override this.\n"
     ]
    },
    {
     "name": "stdout",
     "output_type": "stream",
     "text": [
      "Initial log joint probability = -2.62715\n",
      "    Iter      log prob        ||dx||      ||grad||       alpha      alpha0  # evals  Notes \n",
      "Error evaluating model log probability: Non-finite gradient.\n",
      "Error evaluating model log probability: Non-finite gradient.\n",
      "\n",
      "      99       504.957     0.0131344       1148.76           1           1      128   \n",
      "    Iter      log prob        ||dx||      ||grad||       alpha      alpha0  # evals  Notes \n",
      "     199       543.647    0.00305783       439.483           1           1      241   \n",
      "    Iter      log prob        ||dx||      ||grad||       alpha      alpha0  # evals  Notes \n",
      "     299       558.777    0.00194345       481.728           1           1      354   \n",
      "    Iter      log prob        ||dx||      ||grad||       alpha      alpha0  # evals  Notes \n",
      "     399        567.14    0.00139698       1020.93      0.3605      0.3605      465   \n",
      "    Iter      log prob        ||dx||      ||grad||       alpha      alpha0  # evals  Notes \n",
      "     499       574.815    0.00285508       532.029           1           1      573   \n",
      "    Iter      log prob        ||dx||      ||grad||       alpha      alpha0  # evals  Notes \n",
      "     599       576.201   0.000687635       213.574      0.5428           1      685   \n",
      "    Iter      log prob        ||dx||      ||grad||       alpha      alpha0  # evals  Notes \n",
      "     648       576.353   4.48801e-05        211.55   2.397e-07       0.001      794  LS failed, Hessian reset \n",
      "     699       576.431   0.000557667       437.022      0.7649      0.7649      859   \n",
      "    Iter      log prob        ||dx||      ||grad||       alpha      alpha0  # evals  Notes \n",
      "     706       576.451   9.64027e-06       87.6679   7.857e-08       0.001      911  LS failed, Hessian reset \n",
      "     719       576.485   7.82205e-06       72.3417   1.073e-07       0.001      968  LS failed, Hessian reset \n",
      "     777       576.504   9.60512e-06       55.5461   2.384e-07       0.001     1083  LS failed, Hessian reset \n",
      "     799       576.506   9.28166e-06       71.0207           1           1     1112   \n",
      "    Iter      log prob        ||dx||      ||grad||       alpha      alpha0  # evals  Notes \n",
      "     899        576.53   8.73208e-06       85.3674   1.038e-07       0.001     1281  LS failed, Hessian reset \n",
      "    Iter      log prob        ||dx||      ||grad||       alpha      alpha0  # evals  Notes \n",
      "     977       576.557   4.62174e-09       51.3656      0.1347      0.1347     1395   \n",
      "Optimization terminated normally: \n",
      "  Convergence detected: absolute parameter change was below tolerance\n"
     ]
    }
   ],
   "source": [
    "#Set the uncertainty interval to 95% (the Prophet default is 80%)\n",
    "mh = Prophet(interval_width=0.95)\n",
    "mh.fit(hpi_data)  # df is a pandas.DataFrame with 'y' and 'ds' columns\n",
    "future = mh.make_future_dataframe(periods=5)\n",
    "predict = mh.predict(future)"
   ]
  },
  {
   "cell_type": "code",
   "execution_count": 37,
   "id": "8bda4b5a",
   "metadata": {
    "hidden": true
   },
   "outputs": [
    {
     "data": {
      "text/html": [
       "<div>\n",
       "<style scoped>\n",
       "    .dataframe tbody tr th:only-of-type {\n",
       "        vertical-align: middle;\n",
       "    }\n",
       "\n",
       "    .dataframe tbody tr th {\n",
       "        vertical-align: top;\n",
       "    }\n",
       "\n",
       "    .dataframe thead th {\n",
       "        text-align: right;\n",
       "    }\n",
       "</style>\n",
       "<table border=\"1\" class=\"dataframe\">\n",
       "  <thead>\n",
       "    <tr style=\"text-align: right;\">\n",
       "      <th></th>\n",
       "      <th>ds</th>\n",
       "    </tr>\n",
       "  </thead>\n",
       "  <tbody>\n",
       "    <tr>\n",
       "      <th>127</th>\n",
       "      <td>2022-08-01</td>\n",
       "    </tr>\n",
       "    <tr>\n",
       "      <th>128</th>\n",
       "      <td>2022-09-01</td>\n",
       "    </tr>\n",
       "    <tr>\n",
       "      <th>129</th>\n",
       "      <td>2022-10-01</td>\n",
       "    </tr>\n",
       "    <tr>\n",
       "      <th>130</th>\n",
       "      <td>2022-11-01</td>\n",
       "    </tr>\n",
       "    <tr>\n",
       "      <th>131</th>\n",
       "      <td>2022-12-01</td>\n",
       "    </tr>\n",
       "  </tbody>\n",
       "</table>\n",
       "</div>"
      ],
      "text/plain": [
       "            ds\n",
       "127 2022-08-01\n",
       "128 2022-09-01\n",
       "129 2022-10-01\n",
       "130 2022-11-01\n",
       "131 2022-12-01"
      ]
     },
     "execution_count": 37,
     "metadata": {},
     "output_type": "execute_result"
    }
   ],
   "source": [
    "future_dates = mh.make_future_dataframe(periods=5, freq='MS')\n",
    "future_dates.tail(5)"
   ]
  },
  {
   "cell_type": "code",
   "execution_count": 38,
   "id": "a22d0212",
   "metadata": {
    "hidden": true
   },
   "outputs": [
    {
     "data": {
      "text/html": [
       "<div>\n",
       "<style scoped>\n",
       "    .dataframe tbody tr th:only-of-type {\n",
       "        vertical-align: middle;\n",
       "    }\n",
       "\n",
       "    .dataframe tbody tr th {\n",
       "        vertical-align: top;\n",
       "    }\n",
       "\n",
       "    .dataframe thead th {\n",
       "        text-align: right;\n",
       "    }\n",
       "</style>\n",
       "<table border=\"1\" class=\"dataframe\">\n",
       "  <thead>\n",
       "    <tr style=\"text-align: right;\">\n",
       "      <th></th>\n",
       "      <th>ds</th>\n",
       "      <th>yhat</th>\n",
       "      <th>yhat_lower</th>\n",
       "      <th>yhat_upper</th>\n",
       "    </tr>\n",
       "  </thead>\n",
       "  <tbody>\n",
       "    <tr>\n",
       "      <th>128</th>\n",
       "      <td>2022-09-01</td>\n",
       "      <td>294.677919</td>\n",
       "      <td>292.254611</td>\n",
       "      <td>297.032922</td>\n",
       "    </tr>\n",
       "    <tr>\n",
       "      <th>129</th>\n",
       "      <td>2022-10-01</td>\n",
       "      <td>296.244891</td>\n",
       "      <td>293.978010</td>\n",
       "      <td>298.651630</td>\n",
       "    </tr>\n",
       "    <tr>\n",
       "      <th>130</th>\n",
       "      <td>2022-11-01</td>\n",
       "      <td>297.780750</td>\n",
       "      <td>295.443195</td>\n",
       "      <td>300.138801</td>\n",
       "    </tr>\n",
       "    <tr>\n",
       "      <th>131</th>\n",
       "      <td>2022-12-01</td>\n",
       "      <td>299.161645</td>\n",
       "      <td>296.681088</td>\n",
       "      <td>301.740970</td>\n",
       "    </tr>\n",
       "  </tbody>\n",
       "</table>\n",
       "</div>"
      ],
      "text/plain": [
       "            ds        yhat  yhat_lower  yhat_upper\n",
       "128 2022-09-01  294.677919  292.254611  297.032922\n",
       "129 2022-10-01  296.244891  293.978010  298.651630\n",
       "130 2022-11-01  297.780750  295.443195  300.138801\n",
       "131 2022-12-01  299.161645  296.681088  301.740970"
      ]
     },
     "execution_count": 38,
     "metadata": {},
     "output_type": "execute_result"
    }
   ],
   "source": [
    "forecast = m.predict(future_dates)\n",
    "forecast[['ds', 'yhat', 'yhat_lower', 'yhat_upper']].tail(4)"
   ]
  },
  {
   "cell_type": "code",
   "execution_count": 39,
   "id": "294f3400",
   "metadata": {
    "hidden": true
   },
   "outputs": [
    {
     "data": {
      "text/html": [
       "<div>\n",
       "<style scoped>\n",
       "    .dataframe tbody tr th:only-of-type {\n",
       "        vertical-align: middle;\n",
       "    }\n",
       "\n",
       "    .dataframe tbody tr th {\n",
       "        vertical-align: top;\n",
       "    }\n",
       "\n",
       "    .dataframe thead th {\n",
       "        text-align: right;\n",
       "    }\n",
       "</style>\n",
       "<table border=\"1\" class=\"dataframe\">\n",
       "  <thead>\n",
       "    <tr style=\"text-align: right;\">\n",
       "      <th></th>\n",
       "      <th>ds</th>\n",
       "      <th>yhat</th>\n",
       "      <th>yhat_lower</th>\n",
       "      <th>yhat_upper</th>\n",
       "    </tr>\n",
       "  </thead>\n",
       "  <tbody>\n",
       "    <tr>\n",
       "      <th>127</th>\n",
       "      <td>2022-08-01</td>\n",
       "      <td>312.537661</td>\n",
       "      <td>309.589716</td>\n",
       "      <td>315.520233</td>\n",
       "    </tr>\n",
       "    <tr>\n",
       "      <th>128</th>\n",
       "      <td>2022-09-01</td>\n",
       "      <td>315.336927</td>\n",
       "      <td>312.318323</td>\n",
       "      <td>318.269556</td>\n",
       "    </tr>\n",
       "    <tr>\n",
       "      <th>129</th>\n",
       "      <td>2022-10-01</td>\n",
       "      <td>317.987271</td>\n",
       "      <td>315.284051</td>\n",
       "      <td>321.058634</td>\n",
       "    </tr>\n",
       "    <tr>\n",
       "      <th>130</th>\n",
       "      <td>2022-11-01</td>\n",
       "      <td>320.786396</td>\n",
       "      <td>317.762372</td>\n",
       "      <td>323.802434</td>\n",
       "    </tr>\n",
       "    <tr>\n",
       "      <th>131</th>\n",
       "      <td>2022-12-01</td>\n",
       "      <td>323.565026</td>\n",
       "      <td>320.129142</td>\n",
       "      <td>327.046631</td>\n",
       "    </tr>\n",
       "  </tbody>\n",
       "</table>\n",
       "</div>"
      ],
      "text/plain": [
       "            ds        yhat  yhat_lower  yhat_upper\n",
       "127 2022-08-01  312.537661  309.589716  315.520233\n",
       "128 2022-09-01  315.336927  312.318323  318.269556\n",
       "129 2022-10-01  317.987271  315.284051  321.058634\n",
       "130 2022-11-01  320.786396  317.762372  323.802434\n",
       "131 2022-12-01  323.565026  320.129142  327.046631"
      ]
     },
     "execution_count": 39,
     "metadata": {},
     "output_type": "execute_result"
    }
   ],
   "source": [
    "forecast_hpi = mh.predict(future_dates)\n",
    "forecast_hpi[['ds', 'yhat', 'yhat_lower', 'yhat_upper']].tail(5)"
   ]
  },
  {
   "cell_type": "markdown",
   "id": "86323bbf",
   "metadata": {
    "hidden": true
   },
   "source": [
    "Prophet returns a large DataFrame with many interesting columns, but we subset our output to the columns most relevant to forecasting. These are:\n",
    "\n",
    "* **ds**: the datestamp of the forecasted value\n",
    "* **yhat**: the forecasted value of our metric (in Statistics, yhat is a notation traditionally used to represent the predicted values of a value y)\n",
    "* **yhat_lower**: the lower bound of our forecasts\n",
    "* **yhat_upper**: the upper bound of our forecasts"
   ]
  },
  {
   "cell_type": "markdown",
   "id": "e75df97a",
   "metadata": {
    "hidden": true
   },
   "source": [
    "A variation in values from the output presented is to be expected as **Prophet relies on Markov chain Monte Carlo (MCMC)** methods to generate its forecasts.\n",
    "\n",
    "MCMC is a stochastic process, so values will be slightly different each time.\n",
    "\n",
    "Prophet also provides a convenient function to quickly plot the results of our forecasts as follows:"
   ]
  },
  {
   "cell_type": "code",
   "execution_count": 40,
   "id": "1dbaac28",
   "metadata": {
    "hidden": true
   },
   "outputs": [
    {
     "data": {
      "image/png": "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\n",
      "text/plain": [
       "<Figure size 720x432 with 1 Axes>"
      ]
     },
     "metadata": {},
     "output_type": "display_data"
    }
   ],
   "source": [
    "fig3 = mh.plot(forecast_hpi)"
   ]
  },
  {
   "cell_type": "markdown",
   "id": "6c6e93e6",
   "metadata": {
    "hidden": true
   },
   "source": [
    "## Insights"
   ]
  },
  {
   "cell_type": "code",
   "execution_count": 41,
   "id": "87eb0d12",
   "metadata": {
    "hidden": true,
    "scrolled": true
   },
   "outputs": [
    {
     "data": {
      "image/png": "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\n",
      "text/plain": [
       "<Figure size 648x432 with 2 Axes>"
      ]
     },
     "metadata": {},
     "output_type": "display_data"
    }
   ],
   "source": [
    "fig4 = mh.plot_components(forecast_hpi)"
   ]
  },
  {
   "cell_type": "markdown",
   "id": "1a8d9b5c",
   "metadata": {
    "hidden": true
   },
   "source": [
    "The first plot shows that Home Price Index has been linearly increasing over time.\n",
    "\n",
    "The second plot shows peak months for Home Price Index: March, April, May and December."
   ]
  },
  {
   "cell_type": "markdown",
   "id": "c55ebb4d",
   "metadata": {
    "hidden": true
   },
   "source": [
    "Adding ChangePoints to Prophet\n",
    "\n",
    "* Changepoints are the datetime points where the time series have abrupt changes in the trajectory.\n",
    "\n",
    "* By default, Prophet adds 25 changepoints to the initial 80% of the data-set.\n",
    "\n",
    "Let’s plot the vertical lines where the potential changepoints occurred."
   ]
  },
  {
   "cell_type": "code",
   "execution_count": 42,
   "id": "7e820cf0",
   "metadata": {
    "hidden": true
   },
   "outputs": [
    {
     "data": {
      "image/png": "iVBORw0KGgoAAAANSUhEUgAAAsgAAAGoCAYAAABbtxOxAAAAOXRFWHRTb2Z0d2FyZQBNYXRwbG90bGliIHZlcnNpb24zLjUuMSwgaHR0cHM6Ly9tYXRwbG90bGliLm9yZy/YYfK9AAAACXBIWXMAAAsTAAALEwEAmpwYAACcaUlEQVR4nOzdd3hUVf7H8fedmklv9N6bQCAQqhBELKhYcO1tdUVRf2vbXXt30XXtrqKsuih2UbEhKiA9tECkF6mBkEp6ZubO3Ht/fwwmoCgqSebOzff1PHlGh+Tk5HPODF9uzj1HMQzDQAghhBBCCAGALdwdEEIIIYQQwkykQBZCCCGEEOIwUiALIYQQQghxGCmQhRBCCCGEOIwUyEIIIYQQQhzGEe4OHI/U1FQ6duwY7m5Yh89HIBjEGRsb7p7U8flCj1FR5mjHpAKBAE6n8/gasXJGJpxH9TJmZmTCrC09bmbL26TvI6YbN3FMjTVmu3fvpri4+GfPR3SB3LFjR1avXh3ublhHZiZ+VcW9bFm4e1InMzP0uGCBOdoxqby8PFq3bn18jVg5IxPOo3oZMzMyYdaWHjez5W3S9xHTjZs4psYas0GDBh31eVliIYQQQgghxGGkQBZCCCGEEOIwUiALIYQQQghxGCmQhRBCCCGEOExE36Qn6tm991JZXIw73P043L33mqsdK7NyRjKPGo8Zs7byuJktbytnLZoUxTAMI9yd+KMGDRoku1jUM7nTNzLJuEUeGbPIJOMWmWTcIk9j7mJxtFpSlliIOjk5ODZsCHcvjpSTE/owSztWZuWMZB41HjNmbeVxM1veVs5aNCmyxELUueUWElQVTjkl3D2pc8stocfj3VOzvtqxMitnJPOo8ZgxayuPm9nytnLWokmRK8hCCCGEEEIcRgpkIYQQQgghDiMFshBCCCGEEIeRAlkIIYQQQojDyE16os6UKVQUFdEs3P043JQp5mrHyqyckcyjxmPGrK08bmbL28pZiyZFCmRRZ/hwAnl54e7FkYYPN1c7VmbljGQeNR4zZm3lcTNb3lbOWjQpssRC1Fm2DOeqVeHuxZGWLQt9mKUdK7NyRjKPGo8Zs7byuJktbytnLZoUOUlP1MnMxK+quM305paZGXo83j0166sdk6qXE4esnJEJ55FlT/YyYdaWHjez5W3S9xHTjZs4gqYbBHUdt8Ne+5xlT9Lz+XxkZGTQv39/+vTpwwMPPADApZdeSo8ePTjhhBO4+uqrCQQCACxYsICEhATS0tJIS0vj4YcfbqiuCSGEEEIIEzAMg035FewoqQ53V47QYAWy2+1m/vz5fP/99+Tk5DBnzhyWL1/OpZdeypYtW1i/fj1er5dXX3219mtOPPFEcnJyyMnJ4f7772+orgkhhBBCCBPILSgj9cLz8CxZFO6uHKHBCmRFUYiNjQUgEAgQCARQFIXx48ejKAqKopCRkcG+ffsaqgtCCCGEEMKkSmtUtDvuotWS+diqzXUFuUF3sdA0jfT0dH744QduvPFGhgwZUvtngUCAGTNm8Nxzz9U+l5WVRf/+/WndujVPPvkkffr0+Vmb06ZNY9q0aQDk5+eTZ7ZdFyJYiqoSUFVKTJRpiqoCHHef6qsdsyoqKjruNqyckRnnUX2MmRmZMWsrj5vZ8jbr+4jZxk2AP6hz4KMvGf7mK+w6/2L2DxiI87B5E+4xa5Sb9MrKyjj33HN54YUXOOGEEwC49tpriYmJ4dlnnwWgoqICm81GbGwss2fP5uabb2b79u2/2q7cpFfPcnIoLCyk+SmnhLsndXJyQo9paeZox6Tq5WYGK2dkwnlk2ZuGTJi1pcfNbHmb9H3EdOPWxGm6Qc6arfQ97US01GZ8Nf1zenRsRp+W8bWfE+6b9BplH+TExETGjBnDnDlzOOGEE3jooYcoKirilVdeqf2c+Pi6UMaPH88NN9xAcXExqampjdFFAZCWRtBk/+qvtzdZk71Zm5KVM5J51HjMmLWVx81seVs5a1EvDMNga3457W+7AUdVFd+8+C5XfLqV/xvp57Ezeoe7e7UabA1yUVERZWVlAHi9Xr799lt69uzJq6++ytdff827776LzVb37fPz8/nxYvbKlSvRdZ2UlJSG6p44mrlzcS0y1yJ55s4NfZilHSuzckYyjxqPGbO28riZLW8rZy2Om2EYbC2shudfoNni78i57T4uXx8g1mVnbDdzXRBtsCvIBw4c4Morr0TTNHRd54ILLuDMM8/E4XDQoUMHhg0bBsB5553H/fffz8yZM5k6dSoOhwOPx8N7772HoigN1T1xNI8+SpyqwkUXhbsndR59NPR48snmaMfKrJyRzKPGY8asrTxuZsvbylmL4/ZDcTXFS5Yz/JlHOZB5CqfZB2IHnjyzN63io8LdvSM0WIHcr18/1q5d+7Png8HgUT//pptu4qabbmqo7gghhBBCiDDZUVzFzj2FjLrjBtSEJE4ZfC2qbvDK+f1oEesOd/d+Ro6aFkIIIYQQDWb3wRq2FlYz4OmHiNr5A9eccRu77NE8f84JdE2NCXf3jqpRbtITQgghhBBNz97SGjbmV9B94Ryav/sm00ZfxEfN+/DChD70aRkX7u79IrmCLIQQQggh6l1+hY/1ByppXV5ExztvYUO7ntw88EKePLM3A9smhLt7v0quIIs6r7xCWUEBLcLdj8MdthWgKdqxMitnJPOo8ZgxayuPm9nytnLW4ncpqvKzZl85KW4bnW+5HtWvct64W3j4rBMY1jGp9vM03aA6oNHF7Qxjb39OCmRRp0cPtDiT/bqjRw9ztWNlVs5I5lHjMWPWVh43s+Vt5azFb1bmDbA6t4xEj5M2LzxJwsplXHHaLVx6QSYnda3bzi2o6RTXBOjTMo52SZ4w9vjnZImFqPP557i/+SbcvTjS55+HPszSjpVZOSOZR43HjFlbedzMlreVsxa/SaUvyMo9pcS7HSSuXUnr557g7Z6jaX3DXzizd93vqNWgTok3QFrreDomR4exx0fXKEdNNxQ5arqeZWbiV1Xcy5aFuyd1MjNDjwsWmKMdk6qXIzmtnJEJ55Flj741YdaWHjez5W3S9xHTjZtFVfuDLN9TitOuEOetpvWYYdSoGi/95xMuyqw7Jc8X1Cj3BRnUNoHmcUff/7hJHDUthBBCCCGsq0YNsnJvGQ6bQrTDhvfa60gpKeC1h14/ojiuUTVqAhpDOySRHO0KY49/nSyxEEIIIYQQf5g3oLFqbxkKEOt2sP6JFxm+/Gs+Pm8Sp1w5ofbzqvxBfEGdYR3NXRyDFMhCCCGEEOIP8h0qjjXDIC7KwZzPl/Kn/05hffeBdPr3IyiKAkCFL4BuwLCOScRHmWvHiqORAlkIIYQQQvxu/qBGdm4ZQV0nIcrJp2v2cMrDt6A7nWjTp2NzhFbylvkC2G02hnRIJNYdGat7I6OXonHMmEFpfj4tw92Pw82YYa52rMzKGck8ajxmzNrK42a2vK2ctTiCrht8v78CX1Aj0ePiqy2FxD76MIMLfmDr1OlobdsBUOZViXI6SG+bQJTTHuZe/3ZSIIs67dqh2002edu1M1c7VmbljGQeNR4zZm3lcTNb3lbOWhzhh5JqSrwqzWPcLPihmMXT3ufr1R+Tf/EVVJ1xNhDa8s1ptzOoXQJuh8nqi2OQJRaizvvvE/Xpp+HuxZHefz/0YZZ2rMzKGck8ajxmzNrK42a2vK2ctahVVOVne1E1qdEulu8p5amPVjDj6+eo6dKNAw9MAUJrkwO6QXrbyCuOQa4gi8NNnUqMqsLkyeHuSZ2pU0OPF15ojnaszMoZyTxqPGbM2srjZra8rZy1AELbueXsLyfJ42RdXgV/+2wjX8x7kVRfJVte/AQ9OoaAplPhDzKsYzIxEbLm+KfkCrIQQgghhDgmTTf4Pq8Cu01hb6mXmz/dyN82f83YLVnsv/shvL37oukGJTUBBrZJINFj/t0qfokUyEIIIYQQ4pi2F1VT7gtgVxT+/sUm0g/u5cFv/kv5mJMpvPo6dMOgqFqlT8s4WsQf/YS8SCEFshBCCCGE+FX5FT52lFSR7HHy0DfbKC0pZ9bcZ9ATEtj91EsYQFGVSpeUGDokecLd3eMWmQtDhBBCCCFEo6jwBcjZX05KtIt3c/L4bkcJi7fPJGnnNrbPmEkgJZXCapVOKdH0aB5TezhIJJMCWdSZOdN8+yDPnGmudqzMyhnJPGo8ZszayuNmtrytnHUT5Q9qZO8rJ9plZ2N+JS8s3sU9VZsY+dX7FFx7I+WjTqKwWqVjkoeezWMtURyDFMjicKmp6Koa7l4cKTXVXO1YmZUzknnUeMyYtZXHzWx5WznrJkjTDdblVaDrOkED7pq9hQFU8cAH/6LmhH7s+/u9FFUHaJ/ooWfzOMsUxyAFsjjc9Ol4Skvh1lvD3ZM606eHHq+6yhztWJmVM5J51HjMmLWVx81seVs56yYkKyuLBQsW0LHfYBK79CXF4+L/Zm2gqsbP5wv/g83vZ+cLr1KsKbRNcNO7RRw2m3WKY5ACWRxu+nSiVVUK5KbKyhnJPGo8ZszayuNmtrytnHUTkZWVxdixY1FVFbvTydR3ZvGetzkr95bxTelCWq5exu4nnqewTUcSXHZ6t4y3XHEMUiALIYQQQohDFixYgKqqaJoGwPvLNvONrjI5sJ2T3niWXcNP5MDES9ACOv1bJ2C3YHEMss2bEEIIIUSTlpWVxWOPPUZWVhaZmZk4nC5sdju2lt1YQBfS3F5u/8/f2KfrDMtexbLly0lrE4/HGXlHSP9WcgVZCCGEEKKJOnxJhcvl4pMv5/DP1z5kU85qPnMMxOZ08Z+Z99HRMMgEioIBDmxaRbNLzgh31xuUXEEWQgghhGiiDl9SoaoqH335LekZQ9jQ5iTKgwof2rcwYtP3PG53sMxux+l0cd7pp4S72w1OriCLOrNnc/DAAVqFux+Hmz3bXO1YmZUzknnUeMyYtZXHzWx5Wzlri8rMzMTlcqGqKk6Xi57pQ3lnzX5W7i3j6ROiGPHX+6gaNIRmf7uPq1Zmcfk5pzFixPBwd7vBSYEs6kRHY3hMdjxkdLS52rEyK2ck86jxmDFrK4+b2fK2ctYWNWzYMObNm8fcefOJ7ZJGq55p3PHOWs7smsS1L9yKYVPY9swrtE1pyQUTTiHR4wx3lxuFFMiizksvEV1WBnffHe6e1HnppdDjDTeYox0rs3JGMo8ajxmztvK4mS1vK2dtYcOGDSOmQ28KKn3c+eUWop12nlv3EbFrV/PDC69yILkl6W0SmkxxDLIGWRzugw/wfPFFuHtxpA8+CH2YpR0rs3JGMo8ajxmztvK4mS1vK2dtYaU1KvvKfSzeWcqa/RU8nVBEp1eeo/hPl7DtpDPp2TyGlvFR4e5mo5ICWQghhBCiiTIMg62FVQSCOs8v2cWJiXD5s3fi79iZtXc8QvskD51TYsLdzUYnSyyEEEIIIZqogzUBDtYEeG1lLlX+IO8sfwlHSTGr3vuShNQkerWIQ1GseRjIr5EryEIIIYQQTcThh4IYhsGWwkp2FFfz+aYCXitbTtv5c9j7t3upOiGN/m3iLXtS3rHIFWQhhBBCiCbgp4eCfPT5VwRadOfpRTvJ9BVw2dvPUHHiGDZdci0DW8bhdlj3pLxjabAC2efzMWrUKPx+P8FgkPPPP5+HHnqIXbt2cdFFF1FSUkJ6ejozZszA5XLh9/u54ooryM7OJiUlhffff5+OHTs2VPfE0SxYQEleHq3D3Y/DLVhgrnaszMoZyTxqPGbM2srjZra8rZy1Bfz0UJBZc+YSMzKFA0XlrPz6KfToaNY99jzN46NoEecOd3fDqsGWWLjdbubPn8/3339PTk4Oc+bMYfny5dxxxx3ceuut/PDDDyQlJfHaa68B8Nprr5GUlMQPP/zArbfeyh133NFQXRNCCCGEaHJ+PBTEbrfjdLno1H8Ib67ex+tr36XZji3sfPJFKpObNdl1x4drsAJZURRiY2MBCAQCBAIBFEVh/vz5nH/++QBceeWVzJo1C4BPP/2UK6+8EoDzzz+fefPmYRhGQ3VPHM2TTxLz8svh7sWRnnwy9GGWdqzMyhnJPGo8ZszayuNmtrytnLUF/HgoyMMPP8xTb3zMPk97MjZkccnijyi8ahK7hmXSo1ksMW5ZgdugCWiaRnp6Oj/88AM33ngjXbp0ITExEYcj9G3btm3L/v37Adi/fz/t2rULdcrhICEhgZKSElJTU49oc9q0aUybNg2A/Px88vLyGvJHaFJSPv4Yu6qSd/314e5KrZSPPwag5JJLTNGOWRUVFR13G1bOyIzzqD7GzIzMmLWVx81seZv1fcRs4xZOHTp04Kw/XULO/gq+/XgdWd8+T2W3Hqy5ZjLB8hJccUHy8srD3c2wj1mDFsh2u52cnBzKyso499xz2bJly3G3OWnSJCZNmgTAoEGDaN3aVCtmI5vLBWCuTOurT2b82eqZZPQrTDqPJOtGaKe+26rHduqF2fI28fuIGfsUDrpusG1nCYvzD/L8Z08TH/Sy5aX/oSW3YnjHJJKjXeHuYq1wjlmjbPOWmJjImDFjyMrKoqysjGAwCMC+ffto06YNAG3atCE3NxeAYDBIeXk5KSkpjdE9IYQQQogmoaDSR2GVn9RpL3HqnrXsv38K+e270C4xylTFcbg1WIFcVFREWVkZAF6vl2+//ZZevXoxZswYZs6cCcAbb7zB2WefDcCECRN44403AJg5cyYnnXRSk18gLoQQQghRX3TdYFtRNeu/XMCDC99gX+apFF56Fapm0DW16Z2W92sabInFgQMHuPLKK9E0DV3XueCCCzjzzDPp3bs3F110Effeey8DBgzgmmuuAeCaa67h8ssvp2vXriQnJ/Pee+81VNfEL/F4MGwmOzvG4zFXO1Zm5YxkHjUeM2Zt5XEzW95WztoCCqv8FOaXcPnTd1Aen0Txcy9R7gvSIdFDtEtuzDucYkTwVhGDBg1i9erV4e6GpeTl5ck6rQgk4xZ5ZMwik4xbZJJxC109XryzBP2aaxi96HOW/Pd9ok85maLqAKM6J5tu54rGGrNfqiVNdrlQCCGEEELUt6IqP/aZHzJm0Wd8OP4KYk4dR7kvSLvEKNMVx2YgiYg6jzxCbEUF/Pvf4e5JnUceCT3ed5852rEyK2ck86jxmDFrK4+b2fK2ctYRKCsriwULFjBq1GgcWjQDHvkHy1t1x/XwQxiGgarpdEqODnc3TUmuIIs68+bhXro03L040rx5oQ+ztGNlVs5I5lHjMWPWVh43s+Vt5awjTFZWFmPHjuW+++7j1JPH0uovl6AFNV6+cQrtmydQ7gvSNtEjV49/gaQihBBCCGExCxYsQFVVNE3jb7pO++2buey0W5lwxlC5evwbyBVkIYQQQgiLyczMxOVyMcpm4z7D4J3emRyYcD5dUmIo9wVpHR9FrFw9/kVSIAshhBBCWMywYcOY//EnfBwTS2FKS64fcz3XZLTHMAz8mk7nFNn3+NfIPx1EnZQUdJ8v3L04Un2dpiinMh6blTOSedR4zJi1lcfNbHlbOetIYxj0n/Zf3N4axp33IGm92tKjeSxl3gCt493ERUkJ+GtkH2RxBNkrMjLJuEUeGbPIJOMWmZriuOmvvobt2r/w6SV/5ZyWJ/PGRWn0bhFLUbXKiZ1TTL+8Itz7IJs7HSGEEEII8fts3Qo3/5WiwSO4psMpDG+ZQJ+WcZTWqLRL9Ji+ODYDWYMs6tx1F3GPPRbuXhzprrtCH2Zpx8qsnJHMo8ZjxqytPG5my9vKWUcKvx/jkkvQXG6evfYBSvw61wxpj24YqLohO1f8RvJPCFEnKwuXqoa7F0fKyjJXO1Zm5YxkHjUeM2Zt5XEzW95WzjpS3Hsvypo1rH7mVV7cHWR4xyT6t46n1KvSMVn2Pf6t5AqyEEIIIYQVfPMNPPkkuRddyastB1LuC3LD8I7ohkFQM+iULDtX/FZSIAshhBBCRLrCQrjiCtQePVnxf/fybk4e47ql0rN5LKXeAB2TY/A47eHuZcSQ6+xCCCGEEJHMMODPf8YoK2Ply+/y0Y5y1KDO9cM7oOkGumHQMdkT7l5GFCmQRZ22bdG83nD34kht25qrHSuzckYyjxqPGbO28riZLW8rZ21mL7wAs2ez+M/X88riJcxU0jizdws6JEVTUq3SJSWGKLl6/LvIPsjiCE1xr0grkHGLPDJmkUnGLTJZety+/x4jI4N9/QbQbX0O/szroOdonhwWw8ihGVT4AozqkoLbEVkFcrj3QZY1yEIIIYQQkaimBi6+GC0piScGDkWNawG9xqCs+4pda5ZS6lXp1iw24opjM5AlFqLOLbcQX1UFr74a7p7UueWW0OOzz5qjHSuzckYyjxqPGbO28riZLW8rZ21Gt90Gmzez5tX36ZMQDxWtIajiXPsZ/W96E6fNRpuEqHD3MiJJgSzq5OTgNNs+yDk55mrHyqyckcyjxmPGrK08bmbL28pZm80nn8Arr7D3LzfhzxzLshV7MFr34mTbDi753wxa9kijR7NYnHZZLPBHSIEshBBCCBFJ9u3D+MtfqOmbxva/3smavaXMyN7Pn/q14o6TTsQX1FA1g1Zy9fgPk39WCCGEEEJECk3DuOwydJ+ftU9MpdxQeOibbfRpEcetozoDUO4N0rt5LHabEubORi4pkIUQQgghIoT++OMoCxey6d5/Qvdu/OOLzThsCv86oycuh40aVSMhykGzWHe4uxrRZImFqNO9O8GaGkz1kure3VztWJmVM5J51HjMmLWVx81seVs5axMwsrJQHniAvNPPxnfxZUz59gd2ltTwwrkn0DI+CsMwqPQHGNIhGZtcPT4usg+yOIKl94q0MBm3yCNjFplk3CKTFcbNKC8n0C+NYDDI1jmLmba1gpez9nDd0PZcO7QDACXVKm0So+jTMj7MvT1+sg+yEEIIIYT4RYZhUHnNdTj37WXP89N4Z1c1L2ftYURzG/ZVH7EueyVV/iAxLjs9msWGu7uWIEssRJ1Jk0ioqYG33gp3T+pMmhR6nDbNHO1YmZUzknnUeMyYtZXHzWx5WznrMDEMg/yXXqXVR++z/7Y7+SC2M09+s42BKTZWPXQhWaoP5wsuHnv9Q64971Qcsq1bvZACWdTZtg2H2fZB3rbNXO1YmZUzknnUeMyYtZXHzWx5WznrMDAMg92r1tPuH7dSmTGM906/iofnbCOjfSID988lR/WhaxoBVIq2rCHWfUa4u2wZ8s8MIYQQQgiTMQyDbXllJP7lKnA4+OQfT3DXN9vp0yKOJ8/sTcbwETidLmx2Oy6ni7NOOzncXbYUuYIshBBCCGEy24ursT94P0nr1zJ/yktcv6qcDkkenjunD9EuO/3SM3jyjZlsWJXFZeeczrBhw8LdZUuRAlkIIYQQwkT2lXo5+Pkchrz2IjvOuZhzKjsSZ9cYWbqU3Rs1+qVnUOUP0ntABlefcwrRLinn6pskKuqkpRGoqjLXPshpaeZqx8qsnJHMo8ZjxqytPG5my9vKWTeSoio/mzfvYvTdf6WqQ2fGdL8AhxGk7L838mZpHu++4OLZGR/TpW86wzomSXHcQGQfZHEEK+wV2RTJuEUeGbPIJOMWmSJl3Cp8AZbtKmHwzVeT9N1cTr36WVY368R4dS3vPX0/uqZhs9u54q938Ow/HyTB4wx3lxuM7IMshBBCCNHEeQMaq3PL6fLhDFK+/Yp/nnw1Wckd+c+5fTl5+KDaG/IcTicXnXWqpYtjM5Dr8qLOZZeR6PXCRx+Fuyd1Lrss9Hi8ezPXVztWZuWMZB41HjNmbeVxM1veVs66AQU0nTX7yonZtonOU+5ncbfBTOl7Bi+c3YeezWOheQb/efsTlixexJ/OGMepY0aFu8uWJwWyqLNvH3az7YO8b5+52rEyK2ck86jxmDFrK4+b2fK2ctYNRA3qZO8rw19RRdpt11Pm9HDh2Js42diKPd8NbTIIajqteqYx5aRRtE70hLvLTUKDLbHIzc1lzJgx9O7dmz59+vDcc88BcOGFF5KWlkZaWhodO3Yk7dCC/t27d+PxeGr/7Prrr2+orgkhhBBChJ0voLFqbynVapDeTz9CzLbNXD7urxQtns7sZ+5k8sXnsHbVCoprAqS1jpfiuBE12BVkh8PBU089xcCBA6msrCQ9PZ1x48bx/vvv137O7bffTkJCQu3/d+nShZycnIbqkhBCCCGEKXgDGqv2lhHQddovmU/LN1/lmYET8HVJRv9sEbqmEURl8eKFPDLmRNpIcdyoGuwKcqtWrRg4cCAAcXFx9OrVi/3799f+uWEYfPDBB1x88cUN1QUhhBBCCNOpUYOs2FNKUNdJLSumxc2TyWnWif13PsDlI3ridLqw2+3YnU7OPm0c7ZOiw93lJqdR1iDv3r2btWvXMmTIkNrnFi9eTIsWLejWrVvtc7t27WLAgAHEx8fz6KOPcuKJJ/6srWnTpjFt2jQA8vPzycvLa/gfoImI69uXmpoaNBNlGte3LwCVx9mn+mrHrIqKio67DStnZMZ5VB9jZkZmzNrK42a2vM36PmKmcQtoOuvyKgCIdigoV12B01fDQ+fewEnV22jffwD/nvo6y5Yv5+RRIxjat0eTrHXCPWYNvg9yVVUVo0eP5p577uG8886rfX7y5Ml07dqV22+/HQC/309VVRUpKSlkZ2dzzjnnsHHjRuLj43+xbdkHuf5Fyl6R4kgybpFHxiwyybhFJrOMm6YbrM4tpcofJNHjYv+9jzDhzae5rvcY/rt1ES6ni6nvzqJljzQ6Jnvo2TwWRVHC3e2wsPQ+yIFAgIkTJ3LppZceURwHg0E+/vhjLrzwwtrn3G43KSkpAKSnp9OlSxe2bdvWkN0TQgghhGgUhmGwKb+CUm+ARI+L7FlzOf2t5/i6Wzr/3boYQ9MIBlQWL1pI81gXPZo13eLYDBqsQDYMg2uuuYZevXpx2223HfFnc+fOpWfPnrRt27b2uaKiIjRNA2Dnzp1s376dzp07N1T3xNFMnEjStdeGuxdHmjgx9GGWdqzMyhnJPGo8ZszayuNmtrytnPVx2lVSQ26Zj9RoF1kb9jLm/r9yMD6Z/HvuxOV0Yj90CMiQEaPo1zoem02K43BqsDXIS5cuZcaMGfTt27d2K7cpU6Ywfvx43nvvvZ/dnLdo0SLuv/9+nE4nNpuNl19+meTk5IbqnjiakhJsZtsHuaTEXO1YmZUzknnUeMyYtZXHzWx5Wznr41BQ4WNzYRXNYlx89N0Kevz733Qpy2f9O7M4YeQopr47i6wli+ibMYIrJpyM0y4HHYdbgxXII0eO5JeWN0+fPv1nz02cOJGJ8q9OIYQQQlhIuTfAmv3lpEQ7+WrxCna9M5vHNs5nijuaVp4o+gHd+6fTqmd/RnRMweO0h7vLggZegyyEEEII0VT5AhrZ+8qJdTkoqPLz3oJdvPLdqyyzOXgo4CM7awm+oEaFL0hG+yTiouSAY7OQkRBCCCGEqGdBTWft/nIMw6AmoHPzh9/z3lfPQ9DPFQooLjd9M4ZT4QsypEMSydGucHdZHEYKZFFn7Fj8FRW4w92Pw40da652rMzKGck8ajxmzNrK42a2vK2c9e9gGAabCiqp8AWJcti44aP1TPr2DYbmbWHBbXdymsNJ34zhdOg9gAwpjk2pwfdBbkiyD3L9M8tekeL3kXGLPDJmkUnGLTI19rjtLK5mS2EViVEO/jwji1ab1jH/w/s4OPFC9jz9Er6gRqUvKMXxrwj3PshyBVkIIYQQop4UVPjYUlRFaoyLOz5YRmFhJd9+/DA7Mcg67wK6BHVZVhEB5CY9Uef000m+7LJw9+JIp58e+jBLO1Zm5YxkHjUeM2Zt5XEzW95Wzvo3qPIHWZtXTlKUkzlbC1lwQGPaB3fRKujnMkVh2dpsyn0BMtpLcWx2cgVZ1PF6Ucy2D7LXa652rMzKGck8ajxmzNrK42a2vK2c9TEENZ3v95fjcdjZW+ZlyrwfuGfHt/ypeA93Kgo5Ljd/GjCUgW0SSImR4tjspEAWQgghhDhO24qrqFI1ohw2/vHFZgZUHuDBb18jr18alaecyaMDhnLR6SfRIj4q3F0Vv4EUyEIIIYQQx6GgwsfukhoObMlhyrJCCgOxZM99BqI8FPz3bc6ITeaEVvG0SfSEu6viN5I1yEIIIYQQf1CNGuT7vAr2bf6e6/79OjuNJB774E5St29i95P/4UBcCj2ax9I+KTrcXRW/g1xBFnXOPBOf2fZBPvNMc7VjZVbOSOZR4zFj1lYeN7PlbeWsj0LTDb7Pq8BpV5iz4nu0oZdw6pIZ3JK/nYUDBhEYOZYWHhedU2LC3VXxO8k+yOIIssdnZJJxizwyZpFJxi0yNdS4bS+qYkdJNQoKF05fQdSeLXz/3h0UKZA14xO6ZIxgRKck3A57vX9vqwv3PsiyxEIIIYQQ4neq8AXYXlRNgtvBXbM3o+qwZNMHJDnsbHt6Km0GDmVAm3gpjiOULLEQdTIzSVFVWLYs3D2pk5kZelywwBztWJmVM5J51HjMmLWVx81seVs568NousH6vApiXHamZu1h7f4Kvq7Jouu61ex99N94Tj2HHs1iSZK9jiOWFMhCCCGEEL9DbpmXCr/GhvwKZmTv528JFZz8n6coG3c628+/nObRbjomy015kUyWWAghhBBC/EZV/iCbCyqpUYM89M020pPsPPzGgwSTUtg65VlQbJzQKg6bTQl3V8VxkCvIQgghhBC/ga4bbMyvwGVXuGXWGgJqgNdW/peoXTvY+tbHlMQkMKxtgqw7tgApkIUQQgghfoO8ch8lNQHe+24N2yoMzp/5IP33rmPduRewb8Awesq6Y8uQAlnUueACvGVl5toH+YILzNWOlVk5I5lHjceMWVt53MyWt4Wz9gY0NhVUEgjqvLfDT9stS5i2dx2rgP+278R1sW46pci6Y6uQfZDFEWSPz8gk4xZ5ZMwik4xbZKqPcdt4oIK8Ci8Pfr2dNXuK+fqFixgQ8DPE5WLyjFlMOu8UWVpRj2QfZGEeNTUoXm+4e3GkmprQh1nasTIrZyTzqPGYMWsrj5vZ8rZo1pW+IHvLvCzdVcqyPaXMyp/HqICfj0+fwDX/+5jLzzpZimOLkSUWos748SSbbR/k8eNDj8e7p2Z9tWNlVs5I5lHjMWPWVh43s+Vt0ay3FlVRowZ5ZtEurlD3csr7Uyk553ya//MFRreMJ9HjDHcXRT2TK8hCCCGEEL/gYI1KYaWPl5btwVVdwUsf/wu1dRs23vc4yTEu2id6wt1F0QDkCrIQQgghxFEYhsHm/Ep2lNQwf3sxK7OnE12Qx6YPZ1PjiSW9Zbzsd2xRcgVZCCGEEOIoCir9lHkDvLoilxt3LGLw0jnk3XYne3v2p1eLOGLccp3RqmRkhRBCCCF+QtMNNhdWsbmwippNW3jqm5eoHDqCbVffRLLHSTtZWmFpUiCLOlddRU1pqbn2Qb7qKnO1Y2VWzkjmUeMxY9ZWHjez5W2hrPeXe6kJBJm+ZAczv34aw2Hn8f7ppK7N5trzTpWlFRYn+yCLI8gen5FJxi3yyJhFJhm3yPR7xy2g6SzcUULW7oO47rmbO1Z/zIVOFzM1DZfbxfx58xg2bFgD9ljIPsjCPIqLsR08GO5eHKm4OPRhlnaszMoZyTxqPGbM2srjZra8LZL1/nIfvmCQTW/P4o7VH7Ok30Bmahq6rhFQVRZYbBs78XOyxELUOf98ksy2D/L554cej/fNqL7asTIrZyTzqPGYMWsrj5vZ8rZA1gFNZ1tRNTlrd/DUR09Q0r4LO+9+AMdVF6IFwOVykZmZGe5uigYmBbIQQgghxCH7y3341CCDHvobqb5Ktr8yiw5de/HSO7Mo3LKGzMxMWV7RBEiBLIQQQggBqEGd7UVV+F/4DxO2r2DZzffj7tOXmio/E087icRzTw13F0UjkTXIQgghhBDAvjIvtg3rOev1f7Os11Dct91ChS9As1i3HCfdxEiBLIQQQogmTw3q7NpfTM9brqPMHcP+Z18CRcEX1OmWGhPu7olG1mBLLHJzc7niiisoKChAURQmTZrEzTffzIMPPsh///tfmjVrBsCUKVMYP348AI899hivvfYadrud559/nlNPlV9lNKrJk6k+eNBc+yBPnmyudqzMyhnJPGo8ZszayuNmtrwjOOvcshra//MB2uzbwZ3/9zR/6tWJcl+AFrFuEuTqcZPTYPsgHzhwgAMHDjBw4EAqKytJT09n1qxZfPDBB8TGxvK3v/3tiM/ftGkTF198MStXriQvL4+TTz6Zbdu2Ybfbf/F7yD7I9U/2+IxMMm6RR8YsMsm4RaZjjZs/qLHplbcYcNNVPJ1+Nh1ee4kOSR6KqlVGdEomPkoK5MZm2X2QW7VqxcCBAwGIi4ujV69e7N+//xc//9NPP+Wiiy7C7XbTqVMnunbtysqVKxuqe+JocnOx/coYhUVubujDLO1YmZUzknnUeMyYtZXHzWx5R2jW+Zt30vueW1jbvDNLr/0bFbs2MPW5pyjc/r0Ux01Uo+xisXv3btauXcuQIUNYunQp//nPf3jzzTcZNGgQTz31FElJSezfv5+hQ4fWfk3btm1/taAWDeDyy823D/Lll4cej3dPzfpqx8qsnJHMo8ZjxqytPG5myzsCsw6qAeImXYPh9XH5+X/nqoRqJl98LgFV5d2pT9NdTs1rkhq8QK6qqmLixIk8++yzxMfHM3nyZO677z4UReG+++7j9ttv5/XXX//N7U2bNo1p06YBkJ+fT15eXkN1vclJUVUCqkqJiTJNUVWA4+5TfbVjVkVFRcfdhpUzMuM8qo8xMyMzZm3lcTNb3mZ9H/m1cVOefpZWyxdz7Sk30WNIHzYv/YSA6kfXdVRV5bPPPqNDhw6N2FsB4X+tNWiBHAgEmDhxIpdeeinnnXceAC1atKj982uvvZYzzzwTgDZt2pB72K9l9u3bR5s2bX7W5qRJk5g0aRIQWjcia8HqkcsFYK5M66tPZvzZ6plk9CtMOo8k60Zop77bqsd26oXZ8jbx+8jR+mSsWIHx3DMsGHAS76SdxqejerA39VTeenUqWiCAy+ViwoQJpvx5moJw5t5ga5ANw+Caa66hV69e3HbbbbXPHzhwoPa/P/nkE0444QQAJkyYwHvvvYff72fXrl1s376djIyMhuqeEEIIIZqyykr0Sy6hOqU55w77C5ektyEp2kWHPgN4/YPPeeSRR5gnyyuarAa7grx06VJmzJhB3759SUtLA0Jbur377rvk5OSgKAodO3bklVdeAaBPnz5ccMEF9O7dG4fDwYsvvvirO1gIIYQQQvxhN96IbfduHrn9JbxKPBeltUE3DFTN4NxTM4k+6+Rw91CEUYMVyCNHjuRoO8j9uOfx0dxzzz3cc889DdUlcSy3305VSYm59kG+/XZztWNlVs5I5lHjMWPWVh43s+UdKVm//TbMmMHGSbfyHG04s1dzEj1ODtaodEj2EO1qlD0MhIk12D7IjUH2Qa5/ssdnZJJxizwyZpFJxi0yHTFuO3dCWho1vfrwf//3PK+vzeeDywfSMTmakmqV0V1T8TjlN9jhZtl9kEUE2roV+w8/hLsXR9q6NfRhlnaszMoZyTxqPGbM2srjZra8zZ51IACXXIJhs5H16PN8tu0gwzok0TklhlJvgI7JMVIcC6CR9kEWEeK660g02z7I110XejzePTXrqx0rs3JGMo8ajxmztvK4mS1vs2f90EOwYgUF/32Dr30xFFfnc/+4bmi6gW4YdEz2hLuHwiTkCrIQQgghrG/BApgyBd/lV7J62Di+2FRAxyQPQzsksSxrGd++NZW1q+UEXxEiBbIQQgghLE0pLYXLLkPv2o1ltzxAbrmPzYVVXDSgDeuzV3LHn8/nuccfZezYsWRlZYW7u8IEpEAWQgghhHUZBol//ztGYSEbnpoKcbF8tC6fOLeDM3o1Z+mSxQQDATRNQ1VVFph1eYhoVFIgCyGEEMK6/vtfPF99ReFd95PXrQ9Vfo3vfijm3BNa4nHa6TNoGG6XC7vdjsvlIjMzM9w9FiYgN+mJOvfeS2Vxsbn2Qb73XnO1Y2VWzkjmUeMxY9ZWHjez5W22rDdtgltuoXL4SFb/6WqSXA4mf7Eel93GBWmtqfIHGTViBPPmzWPBggVkZmbKyXkCkH2QxU/IHp+RScYt8siYRSYZtwji88GQIeh5ecx+9QOa9e/Pv77bwScb8nl8fE9O7t6Mwio/QzokkRztCndvxU+Eex9kuYIs6uTk4CgsBDO9+efkhB4PHVce9naszMoZyTxqPGbM2srjZra8zZT1nXfCunWsnToDe+uWfLapgE825HPVoLac3L0Z3oBGvNtBkscZ7p4KE5ICWdS55RYSVBVOOSXcPalzyy2hx+O9aaK+2rEyK2ck86jxmDFrK4+b2fI2S9azZ8Nzz7H7sr/gO/V0ftieyxPf7WNYhyQmD+8IQKU/yMA2CSiKEt6+ClOSm/SEEEIIYR0HDqBfeRUVPXqTd8+DVPk1HlqUR4s4N4+e3oONa1fx6vNPsWP9GlJjTXXXjTARuYIshBBCCGvQddTLr8BeWcmOt2cRdLr5+8cbqFZ1XpzYmz0b1zL54nMIqCout4v0dvPkpjxxVHIFWQghhBCWUPnYE7jmzWX3vY9S3qk7N328gU0FldwxoiVdU2PIzlpCQFXRdY2A7HksfoVcQRZCCCFExCtYsIxmD97PwVPGs/tPl3PjR+vYUVLD42f0YkCiBsAJg4fjdDkJBpA9j8WvkgJZ1JkyhYqiIpqFux+HmzLFXO1YmZUzknnUeMyYtZXHzWx5hynrXbsLaPbnKwimppLz4FNMmrme/eU+njqrNyM6JVNWXEBQ0+nQZyCff/UNq7OWyJ7H4lfJPsjiCLLHZ2SScYs8MmaRScbNXAzDYHtxNZ7rJ9H2k/dY8dqHXLAvnuJqlWcm9GFQu0TWZa9kydw59Bo+lovHn0SbRE+4uy1+A9kHWZjHsmU4i4rg7LPD3ZM6y5aFHocPN0c7VmbljGQeNR4zZm3lcTNb3o2YtWEYbC2spubtd+j+8btsv/avTNwbR4UvwIvn9qVf63jWZa88dFOeH9drLzNi/jzayFVj8RtIgSzq3H038apqrgL57rtDj8d7I0V9tWNlVs5I5lHjMWPWVh43s+XdiFnvKfWSt34Lox76Owf7DeSkFqdS6dd4aWJfereIAzjspjydQCB0U54sqxC/hexiIYQQQoiIklfmZdO+UgbfdROGpnNa5l+p0BSmHlYcA3RJG4LT5cJut8tNeeJ3kSvIQgghhIgYxVV+cvIq6Pe/F4hbvYIbzv0H22Kb89J5fVFzN/G/D5YwcOgIWvdKY9TIEXz77bfM/vILJkyYIFePxW8mBbIQQgghIkK5N8Dq3DLabcimzfP/5sO+J/FOr0ymTuyLb++m0HrjgIrD6eTV9z9j3JknY283gi6dO8nNleJ3kSUWQgghhDC9an+QlXvLSPBX0/WW69ib0IJbx93AyxP70b1ZbGi9cUBF1zS0QIDcDauw25Rwd1tEKLmCLOo8+yzlhYU0D3c/Dvfss+Zqx8qsnJHMo8ZjxqytPG5my7uBsvYHNVbnluGyQZe7b8NRcIDLL32Cq/rHsOT9V/AOG8mAoSNwOJ1ohA4BGTNmTIP0RTQNUiCLOmlpBPPywt2LI6WlmasdK7NyRjKPGo8Zs7byuJkt7wbIOqDprNlXTtAwaP/xuzT/6lPuOfEKMsb05snrziMQUHE6XTz62oe8+dEX7MhZwZgxY2S9sTguUiCLOnPn4iouhosuCndP6sydG3o8+WRztGNlVs5I5lHjMWPWVh43s+Vdz1nrusG6vAoqfUGa799F2/vvYH67viTcdxd7575Tu6QigEr+plXc/sgDKOPH1sv3Fk2bFMiizqOPEqeq5iqQH3009Hi8b7b11Y6VWTkjmUeNx4xZW3nczJZ3PWZtGAZbCisprPbTzG4Qc/WV1NicrHr0eU7u2ZJ11SNxOl0EUHE5XUw841QURdYci/ohBbIQQgghTGdHcTW7D3ppHuui8IabGbR3K6/84zlOHpMGQN+Bg3n0tQ/J37SKiWecKksqRL2SAlkIIYQQprLnYA1bi6poHusmZ/pM/vLlDD4dNp51RjGu7JX0S8+gsFrljLGj6HnxeLlyLOqdFMhCCCGEMI28Mi8b8itpFuNmdfZ2zv3XP9jRvD1Xrl1A5cqvcb7g4vHXP2TM6JH0aBYrxbFoELIPshBCCCFMobDSR86BClKjnWzOr6Dj324kSa3mrfHjqQz4QzfkBVS2rV1OnxZx2GSfY9FAjnkF+YUXXuCyyy4jKSmpMfojwumVVygrKKBFuPtxuFdeMVc7VmbljGQeNR4zZm3lcTNb3sfRzsEaldX7ykmKcpJf6Wfz/Y9z5c7VbL53Cu3T03G+9wYBVJxOJxeedSoOu1zjEw3nmAVyQUEBgwcPZuDAgVx99dWceqrcJWpZPXqgxcWFuxdH6tHDXO1YmZUzknnUeMyYtZXHzWx5/8F2qvxBVu0tIyHKQU1A46WXP+ezea9yYNTJ1Fx7Pf0Uhaff/Ijs5Uu57OxTGX3iyPrprxC/4Jj//Hr00UfZvn0711xzDdOnT6dbt27cfffd7NixozH6JxrT55/j/uabcPfiSJ9/HvowSztWZuWMZB41HjNmbeVxM1vef6CdoKazdn85UY5QSXL3zGyeee9RaqI8fHf1taAo+AIaXfum8+w/H2TMqBOPv59CHMNvuklPURRatmxJy5YtcTgclJaWcv755zNu3DieeOKJhu6jaCxPPUWsqsJVV4W7J3Weeir0eNZZ5mjHyqyckcyjxmPGrK08bmbL+3e2E9rruIoaVSPJ4+TOLzdz9fvP0ftgLqfabCy8/iqef+sT2vVOY1jHZOKiZG8B0TiOeQX5ueeeIz09nX/84x+MGDGC9evXM3XqVLKzs/noo49+8etyc3MZM2YMvXv3pk+fPjz33HMA/P3vf6dnz57069ePc889l7KyMgB2796Nx+MhLS2NtLQ0rr/++vr5CYUQQghhSnnlPvaWekmJdvLsop0kzPmC69bN4d+Kwje6TiCgsmzJIga1SyTR4wx3d0UTcsx/ih08eJCPP/6YDh06HPG8zWbjiy+++OWGHQ6eeuopBg4cSGVlJenp6YwbN45x48bx2GOP4XA4uOOOO3jsscf417/+BUCXLl3Iyck5vp9ICCGEEKZX6Quy/kAFKdFO3lmbx6LF69g8/yWKu3Tj4X252IMB7E4n550+jmax7nB3VzQxxyyQH3rooV/8s169ev3in7Vq1YpWrVoBEBcXR69evdi/fz+nnHJK7ecMHTqUmTNn/p7+CiGEECLCBQ6tO/Y47azZX87zC7azasELRBtB9rz+Ls+VFLNw0SLOPu1kJpySGe7uiiaoURbz7N69m7Vr1zJkyJAjnn/99de58MILa/9/165dDBgwgPj4eB599FFOPPHnC/GnTZvGtGnTAMjPzycvL69hO9+EpKgqAVWlxESZpqgqwHH3qb7aMauioqLjbsPKGZlxHtXHmJmRGbO28riZLe/f0o5hGOworqa4OkDAMLh79l4eXjuTAdvX8u0112OLiyXeHsV111xNx2RPvfw9b7ZxE8cW7jFTDMMwGvIbVFVVMXr0aO655x7OO++82uf/+c9/snr1aj7++GMURcHv91NVVUVKSgrZ2dmcc845bNy4kfj4+F9se9CgQaxevbohu9+05OaSn59Py8GDw92TOrm5ocd27czRjknl5eXRunXr42vEyhmZcB7Vy5iZkQmztvS4mS3v39DOgXIva/ZXkOJxMPnjDcSuWcl37/yDmYrCVS43/5r+ESNHDGdAm4R6OwjEdOMmjqmxxuyXaskGvYIcCASYOHEil1566RHF8fTp0/niiy+YN29e7Z7Kbrcbtzu0xig9PZ0uXbqwbds2Bg0a1JBdFIdr1w7dbg93L45UX8WaFYu++mbljGQeNR4zZm3lcTNb3sdop0YNsu5AJSnRTl5atocdu/LZ+uXj7AOuNwwCwQCbs7O44U+nySl5Iqwa7BgawzC45ppr6NWrF7fddlvt83PmzOGJJ57gs88+Izo6uvb5oqIiNE0DYOfOnWzfvp3OnTs3VPfE0bz/PlGffhruXhzp/fdDH2Zpx8qsnJHMo8ZjxqytPG5my/tX2tF1g/UHKnDaFZbtLmVG9j6+yJ5Oi8oyrnK5qLTbD52SdwpOOSVPhFmDLbFYsmQJJ554In379sVmC030KVOm8Ne//hW/309KSgoQulHv5Zdf5qOPPuL+++/H6XRis9l46KGHOOsY+yjKEot6lpmJX1VxL1sW7p7UycwMPS5YYI52TKpefhVl5YxMOI8s+ytfE2Zt6XEzW96/0s7O4mq2FFWxPieHB1bXMHnnYp6Z9Qx5t93F7BGjWbJ4EZecfRqnZNb/QSCmGzdxTJZdYjFy5EiOVnuPHz/+qJ8/ceJEJk6c2FDdEUIIIUSYlHsDbCmsYu+mtdw1eyudgIc/fZb83iew/6bbaO0NMuWkUbRO9IS7q0IADbjEQgghhBAioOnk7C8nzu3gP8v3Y09pzzsf3kPQMHhx1EkU+3Q6p8RKcSxMRc5sFEIIIUSDeX/2fOZ/9x3OniPZaDTnsU/uY4i/moudLoZlnkKzGCfdm8WEu5tCHEEKZCGEEEI0iC/nLuCaC84iENcC46I0Li/fxh2561jabwAn3vtP+gwYTL/W9bedmxD1RQpkUWfmTErz82kZ7n4crr5OWpQTG4/NyhnJPGo8ZszayuNmtrwPa8cb0Pho9rcEDDvG+L+TUlHMcx//C3/nrjje+ZQudhcD2ybicshqT2E+UiCLOqmp6IdOQTKN1FRztWNlVs5I5lHjMWPWVh43k+WdtX07CxYsYNSo0bja9SItYzjK9gBGUhten/Zn4lUfW57/L8WKi0GtE4iLkjJEmJPMTFFn+nQ8paVw663h7kmd6dNDj1ddZY52rMzKGck8ajxmzNrK42aivLOysvjf6NEEg0Eedkfxz9c/pCqlK3p3ncfXvcOEmjJy7/8nezv3pFtKDC3io46vz0I0ICmQRZ3p04lWVSmQmyorZyTzqPGYMWsrj1sY887KymLBggVkZmYybNgwFixYwKWBAAbwRkAlZ81aPnYonGcr4e+LZ1E+eizbL7mG5CgnXVLkpjxhblIgCyGEEOJ3ycrKYuzYsaiqisvlYt68eYwePZqgzYah6zicLlbHpeGs8PP6Z0+gxcWx7Yn/oGGjX+sE7HJTnjA5WRkvhBBCiN9lwYIFqKqKpmmoqspX38zD1ronnXr0plXb9kx8ciabyw1mb51JwvbN7HzqRYrikkhrE4/HaQ9394U4JrmCLIQQQojfJTMzE5fLhaqqOJwuEroNwB/USUxIICo6jo/3GPyjejPDvniHgmsms2PwKLqmxtAs1h3urgvxm0iBLIQQQohj+nHN8ahRo+nWL51nZnxM1pLFDB42kqHDhgFgGLDrYA0d/GU88sET1PQ+gU233k1KtJOusu5YRBApkEWd2bM5eOAArcLdj8PNnm2udqzMyhnJPGo8ZszaIuOmBnVUTSfKYcNhP7RCspHyPnzNscPpZMrrM8kYMpRBGUNrP6daDXL9nx/j0w0H2LjkORzeGjY//1/8NicZLePlMBARUaRAFnWiozE8nnD34kjR0eZqx8qsnJHMo8ZjxqwjZNyCmo5mGAQ1g6Ae+qhRgxysCXDQG8Af0EABDAWP00aix0mSx0lslIM4TcdpP47bio6R0Zy58/D7VXRdwwB25qxg9MgRQOhAkA++z+PN1fso9wWZUbSUjmuWsefxZ8lr3ZneLWKJcUu5ISKLzFhR56WXiC4rg7vvDndP6rz0UujxhhvM0Y6VWTkjmUeNx4xZm3jc1KBOSbWfvWU+SmsCACg2MHQj9N+KQpTDRrTDRvxhRWZA0ynzBnC+8jKVwMqL/0yCx0GLWDdJ0U5i3Y7fVzD/JKMfl1OcOGo0rXv0J6HrAJwuJ8EAOJwu0oeNxBfUmLnuAG+u3kdptZ9Tmzl4evtH9PxoBqWnT2D3eZcQb7fRLtFkF16E+A0UwzCMcHfijxo0aBCrV68OdzesIzMTv6riXrYs3D2pk5kZelywwBztmFReXh6tW7c+vkasnJEJ51G9jJkZmTBrM47bwRqV3FIvByr8GIpBrNNBtOv37+7Q/YIzAdj6/uf4gzrVqoZ26K/1+CgHzWLcJEc7iXE7iHLYUJSjL3MoHziQstIydr35JkHNYMLpp+BSVVo7nNx796MMat2KorWrKNmwjk7xCQQrVSr25pFUVUprtZLk6nJsmgaA7nKRs2ozBc4YRnRKJj7K+QdTqj+Wfb1ZWGON2S/VknIFWQghhGgkhmGwo7iarUXVRDttpMQ4sf1C0fpbVFVWUlVRzvo1q+iXnsG2ddlkZy0hfdhI4vunk1vm5ct5C1m3ahlpGcMZMWI4u79fza55XzO8fXs6uaI4sHgJbdauJRaIGz2Kdh4PJT4fHgDVDw/+HYDuh75nhTuawqh4bIkpxPfqjtG2NQWpqQRSmtHsrdfR4hMocsXSJSXaFMWxEH+EFMhCCCFEIwhqOpsKKtlX7qN5rOuIwri4WqWkWkXVdPxBna1btrBh8xZi2nUnGJ3CvnIfu4orUFQvXVJiGNi1LY7yPC7ctg0j4GPyxedw+wNTeOqhu9FUP+2dLp6//5/EFhZQ/uLTnKhpdFIUOiUk0b+0hMPL1taAH1CBQsOgomVr1uzZTYGuUeJwcOEdD1DesS//3lTJumAUPdqlcP2wDgxul0iJolByWFtJcz5HNwxcDhudkyNj7bcQRyMFshBCCNHAfAGNnLxyyr1BWhy2F3BumZdpy/cyZ0shP1/v2AX2aCS5CmkWpVD5/QJ0p5s1pR1YWxyka2keN8WlEqX6+E9iS3o9/SR/9vtpb+i4/D6453YARgMHgD2GQbbDTraisMswyLXZGHb19XQcdzodLzobw9A5N8rD1KdeJBnYlbWEAYNG8GJlEp9tLKB9YgueGN2Z4R2TfnGphmFAUDfo1yq+bqcNISKQFMhCCCFEA6ryB1mVW4ZuGKTGuAA4UOHj1RV7+WJTAQ67jVPb2lHyttCzV292bV7Pp+/+D8Nbha2qmEtu+RtxRVVs+vo5Bus6Q4Dh7ihi/L7a7xGtBdid0IJV3UfwoTOKvYZO5zGZeNq35J77b6Y64MfhdHH7bXfx1EN3EwyEDvi44Iyz6ZOeQeveJ1BVUc5Lz71Cl74DqfJrtIntxIMLd1DmLeDKQW25dmh7ohxHXyet6Qal3gCdDYNYlwP3oZ9TiEglN+mJI8iNDJFJxi3yyJhFpt87bjVqkOV7yrArEOt2oOkGryzfw5ur96EocH7fVmS4i7nzynMJBFScThd33vUgi/55H+mBAEMUG6empBJXVABAENigKESNO52ocaeT43SycM9uTjgxk6j2ffhk2TpW7ymhxJ5IVTDUB5cN4vVq2qfE0btDKygv4MCubcS164YRm8qBCj/5lX7KvAGq1SDaYVVBj2Yx3DeuOz2bxx715zMMg3JfgIBm0CU1hg5J0bgc5rtyLK+3yCM36QkhhBAW5AtorM4tx0aoOK7yB7nnqy0s3V1KD6WYawe1JnNIR+Y8/F8u8/sYbBhkaF76PXgn9kPXripTUwkMGU5u2kDWeaKZW1xEv1Fj6JeeQTXQDrjssO951znDgVDhuq/cx4b8SjbmV5Jb5iWvwseH3x/Ar+lAZ9ijkRJ9kFbxUfRoFkNitJM4t4NYl4NYt53kaBcjOyb9bKmEYRhUqxreoI5hGLRN9NAlJZpol5QUwjpkNos6Tz5JTEUFPPxwuHtS58knQ49/+5s52rEyK2ck86jxmDHrMIybGtTJ3ldOQNdJjHKyt9TLbZ9tRMvdx/lzX2TQrmwGKQr9XG7SfV4AyoDVNhvrJ15E7GlnUp2WTrBZcyBUlKboBn8ywGWvW//b4pUXACi47v+O+P6KotAu0UO7RA+n92xe+7xuGJRUq3gDOi3i3LgPXe39pXZ++jOV+QLYFIVmsS56JnhI9DhwH77sQl4jwiKkQBZ1vviCKFU1V4H8xRehx+N9s62vdqzMyhnJPGo8Zsy6kcctqOnk7C/Hf7CMtj9s5OB3i7F/t5SleVtpXRXa80EFvjcMlvXqQ/srriHb7uCbXbs4IWM43fsPQlEUDAOoVsEwUGwKUXYbDrtCSU0AndChep2/nYNNUX61sD1cqLh1/+z5hHlfA79cIFf6gvg1nbTW8aTGun/5EBJ5jQiLkAJZCCGEpQQ1HQgVgzbbH99j+Pd90yBs2IBvyTKqlmTRO3sVMTu2oRxaKrEzsSVl/fuxt2dP/jHjdbKDATSXmxfvexR/7wHEGgY3xUcR7bLjcdhxOWw47TacNiX0aFdqd47QdIMaVaMmoOGy2wjqOkVVKmCgKBDlsONx2rHXw89uGAYlNQFiXXYGt0+WI6NFkyEzXQghRETzBzWq/BoHa1QKq/xU+rRDf2IAChk1AWwK7MwtI8HjIM7tJMppw+2w4bL/8ulyv8gwYM8eWLkSVqxAW7ECZc0abF4vUYAtMRnvwHQWDzuFx6qSWWVoHJzzDK7s5Uz92538+cxz6Ju1hO4DhtCmZxrtE6PpmOwhyvnbTtKz2xTiohzERTnAZQfsnNw9lWpVo8ofpKhapajKj2YYKBw6qtpl/80Hkmi6EfowDMp9QTokeejZPFa2bRNNihTIQgghIoKmG5TWqNSoGtWqRqU/SJU/9Kt/BXDYFDwuO81ij9xizGFXwIAqNcjBGpWgESqcMTh0xdVGrNtOjNtBYpQzdBXXaa9dRqAfLCWwYgXG8hXELV6MtmEd9qKiUJ9cbip696Xi/MvwpQ9CHTgYtUNH5mwt4v6vt9KyWQUHX5yE4a8haLeTnbWEi667mRbd+9MxxUOn5Bg8v7Ew/jUOu40Ej40Ej5M2iR4Mw6DKr1HhC1BQ5aekWuXQhXUUxcBpt6HrBsFDazU6aQZgUFTtx2EL/ePBbbeR1jqe1glRv/8fEUJEOCmQRR2PB8NmsisEHo+52rEyK2ck86jxNEDWhmFQXK2yKb+SmoCGTVFw2UNLD2LcDhKOsZTAiIoCIMbl4Kfb8xqGQVA3qFF1yrw+9vjKiNu6icR1a0jekEPcujXE7PyBH1ftqh06kT/iJKr7D6RmYDqBXidgi6pb07sueyXvfraQuXoXBrRJ4NoOLm55ySBot+NwuuiRPhR/UGd4p2QSPfVwDPMv5K0odVeZfyyY/UEdb0CjRtWo8AVxOhRiXQ5cDhvxSXHYFDi1R/PjK4blNSIsQvZBFkeQvSIjk4xb5JEx+23KvAG2FFRysCZAQpTjmMsQ1mWvJDtrCenDRtIvPeOoz9X+/9ARDE5tRsza1Xi/+QrPmlW0LyrEHgwAoKY2pzptIDUD0qlOG0R1/wEcVH0kprY46vdevXIFNz02leCJV6Ec2MJLfxrA4IwhrMteyeqsJXRLG0LGsGEMaJNQL1eNxW8nr7fII/sgCyGEED+h6QabCyrZW+YlxmmnRdzPd174sdDtN2QE7na9+XbVBt6dPR/dHYtt22KGbA3gtsHiOZ+iVxTT/JO53DU0jYr3/8eZqo/BQMqhtqqBbOATu4MBf7uHou49WbR9K+nDT6wttAEo9h3RhzWrVvBp1gZKUnqSXRQgOPoa2LsO5fMpbOhwO4MzhtBnwGBadO9P28QoereIk7W8QkQAKZBFnUceIbaiAv7973D3pM4jj4Qe77vPHO1YmZUzknnUeOoho4CmU3jHfbjVIM3/dmftr/zXrFrB/OVrSO6eRoHX4JM589CT2sCiGrDnhL64bV+oLEJ3RJG3p4Axu9fxzPff0L6qhGR/FWzPQkdhY3JbPklqza7OvdnRsi0ffb+SYGUJNm8FpxUcZO5Lkwn6vTj+8zRPvvExbXv0Izvne5atXktC1/74opLZvL+YPaVecHaH3ArSEnU2vv8c2p4cnA4H6cNGEtQNiqv99GweS+eUmPpfy2u2uS2vEWERssRC1MnMxK+quJctC3dP6mRmhh4XLDBHOyZVL7+KsnJGJpxHlv2V73Fm5A9qrNlXTo8LzsJpV9j2wRf4gzovzF7OextKIDqx7pOrSuDgPpTCHZya0Y+T03vx/pXncFpA5XQUhihg03VUoBx4OqE5jnMu54VNu6hIbAUJLWnWPY0Sv3HE8cq11BpwRR+1nyluiFHL2btmEexeg23fBibf+g/Sh42sXc7RO20QxTUB+rWKo13S0ds5bmab2yZ9H7Hs683CZImFEEIIAdSoQVbnlhPQNJz20EEZM7/P47WVuRRVa1CyFxa8hq08jzPHZvL1zLfwqH5OsTt4xJVPxzef4HbVD0BR127kn3ku5SeNI/GuW6mqqKD789Pol55B59o1yRn0S89A0w0WZa1k+ZocWnXvR3kA3nnnXXSnG1vQzwUXXkTR7u3M++QdjIpibBX5XHTz7aSPHMnkF98iGFBxOF21a5z7pWcQ0HRKvAEGtI6ndaLcuCZEpJECWQghRNhV+oKsyi1DwSDR46KwtIK8ao3Hv9tBWut4/tzZ4LmX/klQ9dPb4eQeB0zt1oPmG9fhCKgEVy6j4sSTKD/pFCoyx9Ye0QzQNi6e2Lj42rXEPxaxP7LbFMaMGMKYEUNqnxvTyv6TG/scLP7PegIBFedhxfDUd2f97KZAf1Cn3BcgvU0CLeKjGilBIUR9kgJZCCFEWB2sUVm1twyP00aMy8nU2VlcVqVDUMX5+RRuefguhqt+rjxpHM2XLiK1vAym/xdvj14UT7qJ8rGnUDUwA5z1sG3aIT8ton8shpfMm8PIsacdtdj2B3Uq/UHAYFC7xKMe6SyEiAxSIIs6KSnoPt+xP68xpaQc+3Masx0rs3JGMo8az+/M6EC5l5y8CuKjHLjtNv63MpfXtgU5V1NpXbCDTwp+YNzlE3EFg2ieaCpHjGLPmHFUjDkZtW372nYCmk6NL4A/qKMooBC6Gc7AoE1cIgCFVX5sikKMy06U4/efoNcvPYP2HTrUbvOmH9pbuCagoekGMS4HPZrH0izG1XhHMpttbstrRFhEg92kl5ubyxVXXEFBQQGKojBp0iRuvvlmDh48yIUXXsju3bvp2LEjH3zwAUlJSRiGwc0338zs2bOJjo5m+vTpDBw48Fe/h9ykV//kRobIJOMWeZr6mBmGwZ5SLxvzK0mJdrJx7Sre+HYTvbdtZ9LOxaTt2oAN2Kko+MZPwHnR5ZQOHk6ZYUcndISyEWoIlNBxys1jXaTEuIlx2XHYFGyKgk0Bm6KgGQZV/iDlviCFlX5KvWro61EOtREqqh220IfdpmBXQt/j8KOXy4oLiUluhmEYOGwKCVFOUmNcNIt1E+u2y4lzJtXUX2+RyLI36TkcDp566ikGDhxIZWUl6enpjBs3junTpzN27FjuvPNOHn/8cR5//HH+9a9/8dVXX7F9+3a2b9/OihUrmDx5MitWrGio7gkhhAgTXTfYWlTFzpIaWga9VD75BG0/nMX8ot04DJ2yNu3IuehyvoyJoe0Z59Bv0BDyfQHUoE7X1Ghi3Y5QAXuoiI1y2nA7fv3gDRsKSdEukqJddEyORtMNAppOQDMI6KFHf0DDF9TxB0OPvqCOTYFoV+jo5SinnRTDQ/t2iXicf+wqtBAiMjRYgdyqVStatWoFQFxcHL169WL//v18+umnLDi0/cuVV15JZmYm//rXv/j000+54oorUBSFoUOHUlZWxoEDB2rbEI3grruIq6qCF14Id0/q3HVX6PGxx8zRjpVZOSOZR43nGBkFNZ3Nu/IJzvqM4d9+TsKCudhUlZ0JLXiieRc+LNrBiEuu5J7qKv4C7E4bTEGVn+YxLnq1j/tjSxeO0qdQgW0n6ncuW85TK0iOdh37ExuL2ea2vEaERTTKIqndu3ezdu1ahgwZQkFBQW3R27JlSwoKCgDYv38/7dq1q/2atm3bsn///p8VyNOmTWPatGkA5Ofnk5eX1xg/QpOQsnAhiqqaKtOUhQsBKDnOPtVXO2ZVVFR03G1YOSMzzqP6GDMz+sWMAgHsCxaiv/chvRbMw+Hz4mvWnA+GncXTrYexdusi9O+/xOl0cXXvPkT952mCukFBwQE6J0eTYg9SXuKlvD779AeYbdzMNrfN+j5itnETxxbuMWvwArmqqoqJEyfy7LPPEh8ff8SfKYryu389NWnSJCZNmgSE1o3ImqJ65ApdFTFVpvXVJzP+bPVMMvoVJp1Hls/aMGD5cnj7bYwPPkApKiKQkMiOUWP4MjmVt/ucz5pS+MeYLkwO9iU7qz/pw0bSZ8Bg9JeeJ8pp4/RBPY+5fOJ39akemGrczDa3Tfw+YsY+iV8XzjFr0AI5EAgwceJELr30Us477zwAWrRoUbt04sCBAzRvHtqrsk2bNuTm5tZ+7b59+2jTpk1Ddk8IIURDqKkJHTX8zjuwcyd6VBRFmadQMGEia1OTmXTVxagn/xVK4dIuDi7o3xpoTb/0DHxBjaJqP32ddqKcdpTjLY6FEOIPsDVUw4ZhcM0119CrVy9uu+222ucnTJjAG2+8AcAbb7zB2WefXfv8m2++iWEYLF++nISEBFl/LIQQJmAYoRvaatQgFb4AVf4g3oBGQNPRdQPDMAjm7iP476cwsrNh1SqMKVMoa9WOdf98lvmLN7Dzpf8ROHMCS1etRj31Nug6FOW7aSTuyar9PuW+ADWqzrCOyXicduT2NyFEuDTYFeSlS5cyY8YM+vbtS1paGgBTpkzhzjvv5IILLuC1116jQ4cOfPDBBwCMHz+e2bNn07VrV6Kjo/nf//7XUF0Tv6RtWzSvN9y9OFLbtuZqx8qsnJHMoyP4AhpFVX6q/Bp+TUcN6gR0naBWt+unooSWwQU1A1XTMQ5tpwagENpf2F5ZScu5X9Lq849JWbEERddRExLx9u7Hmqlv4WrbmiinndzslWR/uIROA0fwddQg6BBEmfcSrq0LSb///wA4WBMg1m0nrU0CHqe9frO2yLgdldnmtpWzFk1Kg+2D3BhkH+T6J3tFRiYZt8jT2GOm6wZlvgB7S73kV/hQFAWXPbRXsP3QnsH2Q5dsf/xLwTDAdmhf4B8pqkr8grkkf/IhiXPnYPP7KEpMYv+403FMvplV5WU/OaJ5JZMvPgc1sQ3GhHuJSkjmhl5O/FuW1X5OmVcl2uVgULtEnPYG+8VmvZDXWmSScYs8lt0HWQghRHgYhhHaxzegUaNqVPiC5Ff58QU0ohw2UmNcv+8GaV0ndlUW/Pcl2i6aT4zPRyA5ha0njeP6eV+zpKIc5+efcPvAwTz10N0EAipOp4up785i6bIs1K4jMDKvBX8V57CBS06eDCcPBaDMGyDKYWdg2wTTF8dCiKZDCmRR55ZbiK+qgldfDXdP6txyS+jx2WfN0Y6VWTmjJjKPgppOfoWfbUVVqLoOhoKiGDjtNqKdduJ/ZQ/hddkrf3bl98BnH3FmWRk9Vi7DvX8f1cCnisL7ThfnvvImq1ctZ8k3s9F1nYBuMGfuPP6lODFiE7ht4Jn8fXEpBxmIccpAKPgB11dPcsprdcvnKnwBnHYb6e0Sf75TRX1mbfJxOy5mm9tWzlo0KVIgizo5OThVNdy9OFJOjrnasTIrZ2TxeVRbGBdX49c0Et1OEhy/fALGmlUr+G55Nu37DCSlfVc2btnOWzPeRHO46LB0F7e6XmfM6vn0qywiqNhY0mUA751+Nm+ldKXaHQuKwvysGpyuweh/eQ1c0ejOKNYAT23dDYDR9zSaJ7r5U6/2JFbnUbaxjIzX/ke/9AwAqvxBQGFQuwSinEfZqaI+szbpuNULs81tK2ctmhQpkIUQIoIVVPjYWFBVVxhH/fxt3TAMdh6sYeXeMuau3833+dXg6gvrArBuM4m+Kq6OSebSzQsYvX8TAFnNOnFTz9F80LYPrs7dSE1KxLtiCUpwL4qi0L/bSaSkNqOsxEZFQR6d27ehR5dOtP5CQfVW88roWNIHDznUg/Zw0tDavpR6gzjsChntE4l2yV9DQgjzkXcmIYSIQLpu8ENJNduLqkj2uH5WGBdU+lmVW8aKvWUs21FIeSD0fAI+2LKQqNz1TDiYy98Sohm4axt2LchW4GGHg5ib/8E9Lz5DcM0nONZ/ydR3Z4WWXfRxHrEMI6T7Ed+3VXI8EI+/tjiuowZ1Sr0B2iZG0bN5HC6HrDkWQpiTFMhCCBFh1KDOugMVFFb5aR7rxnbohrsqf5D3cvKYs6WQ3aWhLRvjnFC9cQnKnhzceZt46pyzcHw3jXM0jQSgJphM8VXXsqJnb74pLCB9+In0S89g6sjRPyuG+6VnHFYY/3aGYVDuC6IbBgPbJtAyPqreshBCiIYgBbKo0707wZoa3OHux+G6dz/25zRmO1Zm5YwsNI8qfUGy95UR1HVaxIZerT8Wxm+v2U+lP0hbpZwLOyVzzvD+LH73ZVbMfpKLdZ2LgdavTUX1RLOmS1fKJ15E6lWTwG6nDfDnw77PHy2GfZ26AqDpBtVqEL9mAAbNY9z0ahkX2uP4t6jPrE0wbg3GbHPbylmLJkX2QRZHkL0iI5OMW+T5I2NWWqOycm8ZHqeNGJcDNagzY80+3s7eT4U/yIAUGxum/gPtwFa62x28ff5FdF44n8T9uajA1zYbsbfdScKkmzCiPL/6vUKn5xnohoFugG4YGAboGCiATVFQlNCjfuhzA5oOioJhgN2m0DLORav4KBKinJZZTiGvtcgk4xZ5ZB9kIYQQxxQqjkuJdTuIctgprVH5+xebycmrYFTnZCYN7cD66c8wfP9mLjEMhmsavPMGlRnDWHbWuXzqdNLzpFNonZ5x2EEgBqpm4A9qodPyDp2RhwGKTSHaacdtt+GwhQ4TcdgV7IqCboCm6wQPPdpQiHHbiXU5cDtsuByhAt5uk8OihRCRSQpkUWfSJBJqauCtt8LdkzqTJoUep00zRztWZuWMInwe/bQ43llSza2fbqKwysdZwY3cvqOMtI/XcPHC+dgMg/XAvQ4H/V58nS6nn4VN0zktoBHQDIqq/WAooICCQYzLQfM4N4lRTjyuUEHscoSK4t91mMiPzJi1zO3Ia0eIMJMCWdTZtg2H2fZB3rbNXO1YmZUziuB59NPiePmeUu7+fANjd2Vz/pfPMqGmnFigOiWVwmtvZHmPXsw9kEffwcNJOGEAhdUqUQ4bzePcxLoceJx2XA4bLruC22Gv/6u8Zsxa5nbktSNEmEmBLIQQJnVEcWy3seLDOehvvc2ObUtIrS6jFHgXeM9mo/fV13PV/91OnDfA+KBOUrSTNvFRJMe4iHHZ/9jVYCGEaKKkQBZCCBOq9AVZtbeM1P27afX5R9jfe4/0glz8dif7Bg3h+8yTOPfZJ6gJBnA4XUwcPJyCSj8t49x0bx5L7K8cKy2EEOLXyTuoEEKYjDd3Pwde/h/DPv+IuPU56IrCd237ck+f7szcshDf99lMvfM+nnvvU1YsXUz3gUNJGzyEXs1jSYp2hbv7QggR8aRAFnXS0ghUVZlrH+S0NHO1Y2VWzigS5lFFBXzyCfpbbxE1fz7ddZ2q3n154ZwbebzZINok+Fj9zE0YmoYdg+ysJfzp2r/Spmca/VrH0yLObY5lFGbMWuZ25LUjRJjJPsjiCLJXZGSScYs8eXl5tE5NhTlz4O234bPPwOfD37Y9+888j4IJ5/OX9SpbCqu466SudFFzmXzxOQQDKg6ni39P/5B+6UNIb5coyykakbzWIpOMW+SRfZCFEKIp0XVYupSEadNg9mw4eBAjJQXf5Vey5/Rz2d2zP0keF39+cxk/lGvc2NvFuX1bAa2Y+u4sVmctoUvaEIYMHU7/NvG4Hb/xZDohhBC/mRTIos5ll5Ho9cJHH4W7J3Uuuyz0eLx7M9dXO1Zm5YyO82czDANNN1AuvxwDA9//3sQwwCB0upxmGPgCGlV+jSp/kEp/EJtNIdppI9rpwOOyE7ttM54P3yNq5gfY9+7FExWF98wJ7DvjPHalj0RzhA7ZaBbl5M4PlrG13ECZ8xzTXlrOgHdn0S89gz4DBtO8ez86JEXTq0WcOQ/iMONrVuZ25LUjRJhJgSzq7NuH3Wz7IO/bZ652rMzKGf3Gn80wDGpUjZqARrkvQEl1gGp/kIAeKoQzftgNwKpdB0EBQzf48fA5RQGHzYbLbsPtsGEYENyzD+fnM0n5dCZxWzdh2GwUDx9N3o13sGvgIKLadsDjsJPssrN+zSqys5bg7zyMuXkarP0MY9N3BO12srOW0CttEAe9AXo1j6NTSrQ51hsfjRlfszK3I68dIcJMCmQhRJMW0HTKvAEOVPjIr/SjHap5HQpEOe3EuB3YFVAUBac9VJSmxvzyThH28nISZ39KyqwPiV2+FMUwqE5LZ++Dj1N61rkEmzVnXfZKlnz6HiPHnka/9AzWZa9k8sXnoCa2xbigP+09Gvkr3kOz23E4XZwweDil3gDpbRJoER/VSMkIIUTTJQWyEKLJ8QU0SmtU8ir8FFWpGBhEOWwkRjl/ddlCVWUlVRXlrMteSb/0DADWZa/k+8ULmOCwM2BdDvFzv8YeDFDeqg0HbrmDg+ecz6qDJWRnLSF9727Yu5vJF59DQPXz9qsvM/XdWWRnLUF1eDDO+Ad4yxnr3seJb39EdtYSeqYPpWu/dAa3SyTB42ycgIQQoomTAlkI0SRohsGBUi+55V7KvAEUBTwOO6kxzl9crrAue2WosB02EoDqTRvQDZ3rr7iIf778Fs3Wr4MXn+LB6lISdY2SmHj+06onb7XuxZrYFE5tdyKutQV88d4b6N4K7F8sYtiQDNSE1hgBP2rLbjyzZC8VMRkYfxkIuobzkwc48fmn6ZeeQbveaUQ57Axsm0C0S96uhRCiscg7rqgzbBiq2fZBHjbMXO1YmUUz0nSDsn7plHkDbM+vJNZtp3nsz2f5j8Vw2tAReNr34euV63n70zno7liUvTnENm/DXf1Pp4W/hn9GJ3DxpMtpU32QSqeHj3uO4u2emcxv3w8t4IOAD+wuvtkXQMMGw0M3LgWBxQCXngiAAWyzQb+kePomVeHJW8fph4rjCl8Aj8PO4PZJuBy2RsvruJnxNWvRuQ2YL28rZy2aFNkHWRxB9oqMTDJuR1ejBvk+r4JyX4CUaBe2o1wprlE1Zi1axXNvfojWvBu06ALOQ+t8vRXYKooZemAzlx7cycnbVtG9poyAorDhhAxyhmVyy5yvqPKW4wj6ufXvd/Dsw3fX7lU89d1Z6IbBDVdcRNDmxB6XzK2PPktV0GDD+nWcNLg/p5845GfLOnwBDW9QZ3jHJLlybDLyWotMMm6RR/ZBFkKIBlBU5Sdnfzl2m0KzmCOvGH+xcDmf5+yhPK4Nu6pCV5npfyYU7kDZ8C3j+3Xlzy4f5dMe5gxNowWg2+0c6JvGe81aoF92FT3GjKMf8OzpJ9Uuw+iXnkGPXr2P+H+Al2e8/7PnytI7k5ja4mf9Dmo6FX6NYVIcCyFE2Mi7r6gzcSJJPh98+WW4e1Jn4sTQ4/HuzVxf7ViZRTIKajo7D9bwQ3E1iVFO3A4bna+7AjWo868b/8XM7F3kVhugt0DZto3TB/WkZ6KNt//vMk6tqeQcReHMLBdOnw/VE836Dh3ZPP5sEq6+jo5//z9OBXaOGVf7/fqlZ9QWvUf7/1967mh0w6C4RmVA6wQSI/WGPDO+Zi0yt4/KbHlbOWvRpEiBLOqUlGAz2z7IJSXmasfKIjwjwzAorPSzqaAKVdNpFhNaUpFf6cf+wz7KvQGeWbST5lShfPc2xuaFdFRruKpgHKd6a/i3twqbYVCdlEzZ+AmUnXoGlUNHgttNHKADjtKDx+yDphtoBjhsyu86yMMX1CjzBunWLJbWiZ7jCyOczPiajfC5/avMlreVsxZNihTIQoiIV+UPsqWgksIqlUSPk/goB4ZhMHtzIU989wNfegPEoPLIAAd9i8pYt/5rzgwGGQAw72u83XpScMMtlJ0ynpp+A8BWd1Pcj0Vv8NAjwMEaFd0Aw+DQQSEGSu1eyTZcdoUKv0bw0KbKChDlsOGwKzhsNhyHCuegblDhCxDUDeLcDvq3iqd1guxzLIQQ4SYFshAiou05WMOmgiqiHAot4kJrjcu8AR6f/wNztxfTOzpIwoGtpGgBLr/8DDpgMEFR2NmmHatOPhXP1dfj79Sltr2AplPtDaBqoWLYbgOXPXRCnt2mYFMUuqbGEO1y4LIroT9z2LArCrbDrhgbhoE/qFMT0Kj0BSnzBvAGdWpUDb+mUe0NYviDdEiKplV8FHFR8nYshBBmIe/IQoiIZBgG24qq+aG4mmYxrtrlDMt2lTDz7W/I2JbNc+Vb6LJhJW4tgA7MxmDJaWdywj+fItisOZqmUxLU8VWrGIaBQej0vNbxUaTGuohzO4hy2uu+qTv0ltkpJeaY/VMUhSinnSinneRoFx0O+zNdN8jdH6Btm9TftQxDCCFE45ACWdQZOxZ/RYW59kEeO9Zc7VhZBGWk6Qab8ivYV+6jeawLd8EBohZ8R/4nX/Cn75fzfzVlAHi7dmfHuNP5fs6X7DB0HnVH8eK1N1EUm0igyk+0006ix0mSx0mM20G0y47n8IL4p+opI5sttBTDksWxGV+zETS3fzez5W3lrEWTIvsgiyPIXpGRqSmNW0DTWb91H/rChbRbtYT4JYvwbN8CQKEngXnxqXxbvIdFDjv3vPcZ/dIzWJe9kpXLFtN9wFB6DxhMh6Ro2iVGEeMO3zWCpjRmViLjFplk3CKP7IMshIhYhmHgC+pouoHbYcNpb5gT33Q1QHXWCtSvvsY+by5pOauxBYPo7ig29xjAG6P+zJpeg4mPreDTZ+9B1zTsGGRnLaHvwMG06ZnG+b0H0DU1hlbxUZF1Mp0QQohGJwWyqHP66ST7/TB/frh7Uuf000OPX31ljnas7Fcy0nUDVdPxB0MfFf4AB6sDlPkC6If9EsphsxHjshPrspMU7STW7STaaf9ZQfrjzhCKcvSt0IJBDf+WrejfzoVvvyVqySLiKiswFIXqPv0ovPZG8oeM4uaieBYd8NJTKeamoa2JdijMftFFkNBJdv2HjKCgys+omy4nxmXHNmdOg2UkDjHja9bK42a2vK2ctWhSpEAWdbxeFLPtg+z1mqsdK/tJRt6Axu6DNeRX+lGDGgbAoW3NHIduQEvyOI84vlnTDQK6Tkl1gLwKX+3XuJ12Ypx2ArqOP6AT0I3QFmkYOOw23A4b8SUFJCxbTNTC70jIWkxMfl6oH23aUXrG2VSdOIaKEaPQklPYU1rDbZ9tYl+ZF8d3L7Nt3dfcfuho56nvziI7awk904fSvvcA+reOJ04PgC9Q7xmJozDja9bK42a2vK2ctWhSGqxAvvrqq/niiy9o3rw5GzZsAODCCy9k69atAJSVlZGYmEhOTg67d++mV69e9OjRA4ChQ4fy8ssvN1TXhBC/Qg3q7CmtYUdJNXZFId7tIP43rtW12xTsNjtRDog77O0lqOmomo5dUYhxO7Ar4CgvJ275EmKXLCRu6UKid2wHIJCUTNWwEykcOZrKkaPxd+gEh4rwddkrmfXWJ8y19cDldDDBtplP132NrmkEUcnOWsIVN9xKy579SYxy0r91vBzXLIQQ4ndrsL85rrrqKm666SauuOKK2ufef//92v++/fbbSUhIqP3/Ll26kJOT01DdEUIcgwH4gzqLdxRjGJDscf2mXRbWZa8kO2sJ6cNG1t4Qd/j/A2zKWc26Rd9xakIC/QsLcHwzm5Qd27EZBponmqohw1g1cjTzgBYTJtJv8NC6tr+YRaeBI9hSpvP6Z3PRu5+IUrqXB07rSrOoNGa/ULekomf6UEpqVHo0i6VDcrQ1d4kQQgjR4BqsQB41ahS7d+8+6p8ZhsEHH3zAfDOtdRWiCfMFNFRfkICuEx/lrD3p7XCGYbBy5UoWrFxLbOf+eGOas3bXAbbmlYC3GbY3l5C+uoA1385CP5iHe8Z7vP1/N9BhQw6d3pvBxbpOFKDZbCw3YC6wyOXiijc+QHc6mXzxOQQCKs7332bK9E/YUq7z2iffoLfuBSsPLf3pkA6bvkNZ9Bp7W9zG2JtuY+q7s1i5bDFd04aSMWQYvVvGERvG3SmEEEJEvrD8LbJ48WJatGhBt27dap/btWsXAwYMID4+nkcffZQTTzzxqF87bdo0pk2bBkB+fj55eXmN0uemIGbUKKqrqsBEmcaMGgVA9XH2qb7aMauioqI//LWVh45p7jJ4KG6HjaqDhRiGweK9VXz5QzllPo1yv0aZN0DQUIA+sD2IS9lPglYBu9dCVCx6fAu8e0q4MTqZscX7GF2yn4S7bwUgJ7E1Lya3Y15iC7Z07M7u3J0YvioUxYZvyWYMQO11MkZKe/zt+nL7jwVx5wzYtwHl+9mc2K0lyz95k2BQxelw0qNXb8qKC0hu1YZTzr2IzsnRpDpqqCjxUvGTn9GM8+h4xszMzJi1lcfNbHmb9b3WbOMmji3cY9ag+yDv3r2bM888s3YN8o8mT55M165duf322wHw+/1UVVWRkpJCdnY255xzDhs3biQ+Pv5X25d9kOuf7BUZmf7ouO0r9bI+v4I4t6P2gIwN+ZU8s2gn3+dVkICPTsnRtG/VjNxNOeQs/haj9AC2g3u57uqryOzajXk3XsNoLcgYw6DVoXZ/sDv5Lr4ZFWdfwcL2ffli806MqHjwxGOPTUbjF5Y++Kux5W3mTycNoWeijccmTURT/TgO3YAHHLF8o6RaJS7KwYA2CUeeeBcB5LUWmWTcIpOMW+RpcvsgB4NBPv74Y7Kzs2ufc7vduN2h89vS09Pp0qUL27ZtY9CgQY3dPSGaBMMw2FJYxc6SGlKjnTjsNg5U+Hhx6W7mbC0i3gmO716hYv03bHY4+Ou7s2BkR+79zxecqPo52WbjghmvEp9/gAuAipgYitIz2H3WeayMT2DRju2kDxtJZnoGmcC5teuSe9J34GBWrVrJihUr6ZeeQZ/+A1CAzevWsnX1KgZfUbd2ucM7n/xsPXO/9AwMw6CwSqVlnIu+reJxNND+y0IIIZqmRi+Q586dS8+ePWnbtm3tc0VFRSQnJ2O329m5cyfbt2+nc+fOjd01kZlJiqrCsmXh7kmdzMzQ44IF5mjHAgzDYFtRNbtKamgR60JRFJbsOsiAy87hLgxa/3sG9uxZvLZuDtGaRqau0X7KAwyrqebPfh8AqstNzQn9yb3ur1SMHIWve6/anSa6HPo4XL/0jNoCFyAjYwgZGUOO+JyRw4YwctiQX/06CG0lV1St0jklmh7NYrH9lhvxZB41HjNmbeVxM1veVs5aNCkNViBffPHFLFiwgOLiYtq2bctDDz3ENddcw3vvvcfFF198xOcuWrSI+++/H6fTic1m4+WXXyY5ObmhuiZEk7ajuJodJdU0i3UB8N7a/Ty9aCdLbQZJwQou3PAlLX/YzJ91g0GAU9fR1mZTnTGU/X+/h8oRo6nuNwAcjfPva/XQ4SR+TcMwFAwMereIo2OyB0WRXSqEEELUvwb7G+7dd9896vPTp0//2XMTJ05k4sSJDdUVIcQhu0pq2FpUTfNYF7oBr3yRTck33/FGyUb67NlALNDj0XvRHA6Ke/RkfkIiwVPOJOWiy9E90SiAjkEgaKD6VTQMlCPWEx86SQQwDLAr4HbYiHLYfvMyCH9Qp0YNEjx0kEiMy0FKjJPk6BiiXXY8TnvErTcWQggRWWQvJCGaiL2lNfywcQfdN6wmOmsJ3nkLeP3ATgACdjvVwB7gWpuNE/7vb5x5/W0Yuk6S24kOGBiHyl+FlBgHcVFOYlx23A5b7bZwhhEqkXXDwB/UqfQFKfMFKPMGCPiCoc/h0H3BP94efPhVYMMg1u2gQ3I0KTEu4twOnLK+WAghRCOTAlkIK8vNRZ2/gJq580leuoRxu34AoNoZxcbWPck56wr6XnEhyw2dTheejWHoLHa5OG3QSJI8Tnq2iD2uk+iaxbpr/1vTjdCHYaAfegSwKaFr0Dabgl1RcDmkIBZCCBFeUiCLOhdcgLesDPexP7PxXHCBudr5A/xBDV9AJ6DptUVg6EhmBadNqb8dGAwDdu2ChQth4UL0RYuw7dqFC1Di4qkePJTdF1zK30vimOXpgPb1s7i+/ZCpV19Kv/QM/H+ZzA87fuDf193MhaePoVmsu17X+P74M4eFBeZRxDBj1lYeN7PlbeWsRZPSoPsgNzTZB7n+yV6Rf0xQ+/FGMr12aUG5L0C5L0hQN0LFq6IceoQf1+ligMdpI9HjJMnjJNplx2EPLVmw2xQchz6OWqgaBoGNmwh+txD/t98Qm70Kx6HN+QNJyZSkD6UsYxjaiBPx9T4Bv6Fw62cbWbW3FL56GmPzQux2O9fffjeXTb6FkhqVzikxdE2NkWUNjUBea5FJxi0yybhFnia3D7IwsZoaFK833L04Uk1N6DE62hzt/ES5N8DOkmoKKlXq7lUzcNpsuB024t2OY141DWg6Zd4A+ZX+Q8tyQze+/bhWVyG07CDGrpC0YwsJK7NwLl1MzPJluA4W4wRISaUoYwRl1w6nMmM4/m49iHI7sB0qrLNXrWDKskL2Golc3d3JWy+tJGi343C66DNoOKXeAAOTnLSKs4MVi2OTzyNLMWPWVh43s+Vt5axFkyIFsqgzfjzJZtsHefz40OPx7qlZX+0Q2ke41BtgR3E1RdUqHoeN1Bjnry5HWFd7UMbIn+3r67TbcNptxP50bUswSPTG9cQuX0LsimXErlqOs7wMAF+bdpSPPonqYSOpGjKcgtgYEpu1BMAOHP5X09wlK7j7w2XonQbh+O4VRpz4V0a8O4vsrCX0GDiEnmmDSG+XQPxp40JfYMX9S004jyzLjFlbedzMlreVsxZNihTIQvwO1f4g6/MrKK0OEO2y0+JnVe3Pi+HsVSu46aabCKp+nC+/yNTp76Aoys8K5g3Ll1L86UxGKwrd9u0ldvVK7FWVAPg6daH89LOoHDKcqiHDUdu2P/KbFhcc2U81yNztxXyxqYC1+1XoMADmvYyx4Wuyswby55tuo1XP/qREu+jXOh63Q7ZNE0IIIX4kBbIQv1FRlZ+1+8px2hWax9UVxt+vXsGyrOW07z+EUr/Bf/7zIsGYFGzbDJqtVin06hgXPw2ACly72IteVUpURQyblr/Dpa43SN+zkT/t2EC0roW+V5v25J01ke2tWjHP66XrKafTLz0jVHzPmnlEYb1q5Qq+WriM5N5DqY5uxtpd+eyuCBLETockDxM72vn8ocloZfk4nC7Sh42kuFqlRaybfq0TwnfjnBBCCGFSUiALcQy6brCzpJptxdUkRjlxH9qGrLha5bmvVvPVD+UQNRDWBEJfMOY60ILoZQeI9ZUwuF0z5rz+LFEBHyMNgwnRbk7YvZmM8gLcuoaOQk7zTkzrP56FbU9gSZveFEcn/PjNwahAmbWNDstL2btxDboWRNm1mlbZKmWqQU0QcA6C7UFcyn4C+7diFPyAc+cK7n/mCfoPGs4Z7V6vvWLdttcAkjwO+raKl+JYCCGEOAopkIX4Ff6gxoYDlRRU+WkW48KmKOwt9TIjex9fbC4gqOmw93vYvwlbTSmjhg1h2RcfECwvINVmY+rtd9F3y2rsvr0k/7ANu2Gg22ysNgxeAJY4Xfzpf+/ij47hjj9fRnBvDvb4Zky+61E2btvBohUrwBOPEZ1IsduJ3rwrKApGTRlR3oN0QWXDsrkYJXuxlexlwAndWbV0EYamodvtrFm+lP6DhtAvPYN+6RmUeVWiXXb6t0mov+3lhBBCCIuRAlnUueoqakpLzbUP8lVXha2dgzUqOfsr0A2dFrFufAGNu2YuZ3GBhkNRmHBCSwa7D/LgS88TDKi0dDi57+wxtBySTtyqLNoWFaJMeQDd5aK6/0AKb7qNyiHDqU7PYOOWTezOWsLZw0bS89BSiZenv33EuuR1zeys+M8/CAZUHE4Xf31gCk89dHft/9/77iwAJr/4GYGAitPpYuzpE8hZuZwgau1yih9V+AK4HHYGtk04+jZu9ZW1GYVxHjU5ZszayuNmtrytnLVoUmQfZHEE2SuybknF1qIqEqOcRDnt7Cv38n8fZJNbpcHaz3F9/yVvPPk0Gd4a1M8/IWH1ClqVFIe+PspD1cDBVA0dESqIB6RjRHn+UF9+esPf0XbDWJe9kiXz5jBy7GlH/Rx/UKfSH8RltzG0YxIep9yQZwbyWotMMm6RScYt8oR7H2QpkEWd4mLy8/NpecIJ4e5JneJQ0UlqaqO0U6MGWX+ggoM1QVJjnNgUhWW7D3LvV1tpWbiXoZ/9i1FFuxgFdDv0NVpsHFWDMqgcMoKqIcOp6TcAw+U6ot0fj1m2KaEjlW31eEIdQFlxAYmpLYDQNnT+oE6VqqEDMU477RI9tIx3/3pxXF9Zm1Ejz6PfwrJ/YZswa0uPm9nyNun7iOnGTRxTuAtkWWIh6px/Pklm2wf5/PNDj8e7p+ZvaOdgjUp2bhl2m0LzGCe7Pv+EbZ/Np21uHpsObKRNWWHo84ClNhulV/yFuIkXUdOnL7rdTkAzCGg6gaBOUD3y4BDHoYNDglqoUA5qBvDjv02VQ59bdzBIrNtO1DG2XjMMg6Ae+qhSgwSq/Ye+2iDO7aRH81hSY1zEuOy/7cjo+srajBpxHjV5ZszayuNmtrytnLVoUqRAFgIoLK9hy8JVdM5ZSdLqLNxLFpJeehCAAlc0VQMHsnf87ayJi2de3n4GDj+R5gMGs88XIOjTsNl0Yl12Ej1OYtx2Yl0OXA4bbnuoMP7pDXGGYaAboBsGuhEqmnUjdKpeaU2AA5U+iqpCJ+vZlB9P1QsVuT+WuooCHqcdj9NGarSbLq0TiHE5iHbZZXcKIYQQ4jhIgSyaJk2Ddetg4UK8874jcckSRpWFCmJ/y1Z81aIHs9MHsKhoF9vXf83kUWP481WTaAec5wvgO7Sut31SNC3j3MRHOX7bVdpDFEXBroCdn39NUrSLzqkx+IMaFb4galDHabfhsCs4bT8+KkcU3Xl2Ly3jo447FiGEEEJIgSyaCsOAykp44glYtAiWLIHy8tAftW1P+cmnsqVlK77wa3zYaiy7q8D+3SsYG77B6XKTPmwkumFQVK3SPNZN/5RoEqOc2BrwSq3bYadZrNxQJ4QQQjQ2KZCF6RmApukYhJYkGEZoeYFNUQ59UHv19sd7Tg0DdE1DW7IE27vv4li2DCUYhLVr8XfrTvn4cygaOISCAUOI6dqJTWtXcf2ka1HPuBPKVP6vXzQDTvwr2VkDSR82kl5pgyis8tOtWSxdU2IatDAWQgghRHhJgSzqTJ5M9cGDYd0HOajpVKsa1WqQkmoV27mXEtB0CrYXh4pfRaFuOa5x6Ja0Q48GYBjEbt9E6y8+ptWXn+A5sJ+gx0Np3wFUnJDGrkl/xWjRApfdxpac1eR8M4v0ypF8uvR71PMeAbsT2ycPokedS7+bbqNfegbegMZBb4ABrRNonfjHtmuLCJMnh7sHDae+fjYrZ1RfzJi1lcfNbHlbOWvRpEiBLOpceCG+vLywfOsaNcin3y7k23nzOWHwcPoMGIzbbuOHdu3JWbGU9C05v7oP8O6vPmdCdRW9Vy3Hs20LhsNB+aiTOHDXA5SPO52cLZtCX1ecR78ObVmXvZKbLj0XNRDANvQC9CEXoqh5KF88jrOysPaAjTJv6PjoER2TSfA4w5JNo7nwwnD3oOHU189m5YzqixmztvK4mS1vK2ctmhQpkEWd3Fxs+fnQiHtFlnsD7D5Yw7xFS7j76vMJqAGcLhdTD50S9/glZxMIBHjV5eb2QyfJ/Xhq3P+mTqfTsoX0fPVl/mzoAOT36sPa627iU6ebnmNPqS2q/3nRhNp2pr47i+ysJah2N8b4O9A6DqSbUsKtZ3RiY7MrSB82kr4DB1NcrRIf5SCtTULTOFwjNzf02K5dePvREOrrZ7NyRvXFjFlbedzMlreVsxZNihTIos7llzfoPsiablCtBqlRNeYvWsKCBQvpkT6UAYMy2JGzgkAggK5rBAMq2VlLAHjV7wfg5IDK/K8+w636+ZOuc6nmZdzVF2E3DL4H7gA+tNkYODCDL954LVREv/oSL77zCVlZy3lVM8ARxUk9RvPckj0YSUMwrugBTg+OBf/lzntvpP+gIWRkDEHTDQqq/LRP9NCrRdzPtmizrMsvDz1acf/S+vrZrJxRfTFj1lYeN7PlbeWsRZMiBbJocLpukFvmZWtRFZoOW3JWcddPrhYPGjYSp9NFEBV7VAzN+g4nr8ZASWiBgsJZndO5rqiY0djwoLMrJolXBpzMJ31GM0+1h1YhK1AUG4//4iFgs+OPiuUvS/zAQC5r2R0AY+xkNivQweZhcDvoVLqe0+67qXa5hj+oU+YN0KdlPB2SPL9r6zYhhBBCWIMUyKJBVfuDbMiv4GBNgORoFw6bwpc/uVq8atkSep55FQMf/JBNhTVUEMWDawP0Kd7DA0GVZjXljFr7JSXRCbw34FRmdstgW48BJCcl4nbYGFRRRllJEcmpzQBYtTMHQwtiC3g548wz6dqxA60+V1C91fx7sIvRwzMOO+p5RF1f1SDegM7g9ok0iw3nrYpCCCGECCcpkEWDMAyDfWVeNuZX4nbYaH5YwZk+bCQOp4tgy04YvTJ5yzaYyk83Eud2kNG1DWfl5jDhm3folL0UQ7ERTElh+9MvUTFiNP2cTvod43uv6+k8dCPfqbVXhlunxAPxjBkx5KhfU+4LoKAwvGMycVHyshBCCCGaMqkERL1TgzrrDlRQWOUnxePEYbfV7j7Rqv9wdtpbEn/b+xT7wGmDIR1TOaNzAmet+ZbWz7yMZ/sW1OYt2f+P+0iY/w2Gw0FF5sm/+fv3S8+oLYx/i4M1KtFOOwPbJTaNm/GEEEII8aukQBZ1br+dqpKS49oH2RvQWJNbRk1Ao8Whq8ZrVq3ghsdeJtgzE4IBFHIZ0j6Rm3o2Z1yiTsf336TZva/iLCmmpk9fdj0zldKzzsNwufD26FUvP1rBtTce9fniapUkj5O0Ngm4HE3kZrxfcvvt4e5Bw6mvn83KGdUXM2Zt5XEzW95Wzlo0KYrx49FjEWjQoEGsXr063N2wlLy8PFr/wW3eKn1BVuWWAQYJUaE9g5fvKeW+T1ZRigfyt6NsXcSVJw3kb6eMo/lrL5PyyfvY/H7KTj6Ngr/cQNWwkaHDQI5B0w2CukFA0wnqBppucOgMPQxDQVGMQ+eJKBw+wX88ViR0HB+0jo+itwV2qjiecRPhIWMWmWTcIpOMW+RprDH7pVpSriCLOlu3Yi8o+EP7IJdUq6zOLSPaaSfa5WB/uY9nFu1kwY4Smkd5cHz0L4ztWZxmd/CIvp+2/34APcpD8QWXUnj19fi7dKttK6jpqJqBqum4dmwHoLpTl9AfGgpg4LDbiHbaifc48ThtRDvs2G0KNlvo+GmFujpbAezbtoECtp49cdgUnHYbjkOfLw7ZujX02KNHePvREOrrZ7NyRvXFjFlbedzMlreVsxZNihTIos5115H4B/ZBzq/wsWZfOYkeJ26Hjec+z+KdHSp2m40bh3fksj4pBMuH0LlkG62Liwjsy2X/P+6l6NI/oyUlA+ALaFSoQTAgymknzm2nmdtFp3/eiU2B6m/mHSpsFRw2G/bfW9je9n+hR9mb85ddd13o0YoZ1dfPZuWM6osZs7byuJktbytnLZoUKZDFcdlX6mXdgQpSop3YbQqPfrKMWXs02LWGFgumcfW+cfS9fg7O4iJqevVh190PU3rWuRhuN5puUFGjEtAN4qMc9G8VT7NYN87DlzscWhecaPVjnoUQQghhGlIgiz9sz8EaNuRXkhrjwqbA04t2MmuPRs+VM7l1yZtcDnjem0HZSadQeO2NlA0diTeo4w3oGAE/DptC20QPbRKiiI+SAlgIIYQQ5iAFsvhDdhZXs7mwktSY0E4Vj3yzjZo537Bi42dkbFmNF3jLbifl2ZdpN2EipTUBFFWjeYyLbs1cxEc5iXHZ5aQ6IYQQQpjO/7d359FVlff+x99nygkJhEwkQJhBBAIhkDCEIoICVkqpQKuAVlAqV6/cXota18/WX/XnQLV6i5Y6YKEqWtCfFwFRqeIVCYIMgYhBBSpEAsGQEAIJGc607x/RmBSXFDnDPjuf11pZgZOTJ8/+fjZnfbN5zrPVIMt5O1Bew/7yM3SId2PU17PxwcU88NZLZFV8gbdDGrtmzebl5FT6XT6RtKwcyms89EqJp09qXNTvFiEiIiLWpwZZvvHb31JdUfGd+yCX1zSwv7yGzp4aUpYuI/7ZZxhRXcnnqZ3J/4/bif/lnRhuNz8zDE7UevEFDPJ6JJEUF/O95xQUwRrHyqxcI51H4WPGWls5N7PV28q1llYlZPsg33jjjaxbt460tDSKiooAuPfee3n22Wfp0KEDAA899BCTJk0CYOHChSxduhSHw8ETTzzBFVdccc6foX2Qg++79h30+AIUvPMhPZcvocOql3E01PNmjxwed7rYcHA7rhg3T61YzYDsXCpqvfRKiaNPanzLN91JSGiPz+ijzKKTcotOyi36WHYf5Dlz5jB//nyuv/76Fo//6le/4o477mjx2CeffMLKlSvZu3cvpaWljB8/nv379+Nw6La/YVVYiPP48bP3QTYMeO896h96hLx3/04gxs3anIn8pu8VpHfw8/4fFxAIBPB5PWz7IJ/0voMZ0jmBzoltgjInALKzzTGOlVm5RjqPwseMtbZybmart5VrLa1KyBrkMWPGUFxc/C89d82aNcyYMQO3203Pnj3p06cP27dvJy8vL1TTk29z222093hg4sTGvzc0wMsvwx//CIWFuFNS+eI/7+Km5Dw2nLLzu4l96Vb3BVsWx+DDg9Pl4uKhIxnRPYmU+O+5pOJb5gRc+J6awRrHyqxcI51H4WPGWls5N7PV28q1llYl7GuQFy9ezAsvvEBubi6PPfYYSUlJHD16lJEjRzY9p0uXLhw9evRbv3/JkiUsWbIEgC+//JLS0tKwzLs1SPF48Ho8nNy1i/jly4l78UUcFRV4+val6O7/x/Erf8z/3XaCgmO13DWqI6PTALrzh6eWsXP7NvoPyeVHIwfRcKqC0lPBmxPAiQvMOVjjmFV5efkFj2HlGpnxPApGZmZkxlpbOTez1dusryNmy03OLdKZhbVBvuWWW7jnnnuw2Wzcc8893H777Sxbtuy8xpg3bx7z5s0DGteNaE1RENXX4ywpoe2IEeD3w+TJ+G6dzyeZw6is9bLu4zJ2lNZyqb2Yvg43iamNt4fO/MHlZI0eT27XROLdQT6lYhqvRF9wzsEax8RUo+9g0vNItQ7DOMEeK4jjBIXZ6m3i1xEzzkm+WyQzC2uDnJ6e3vTnm266icmTJwOQkZFBSUlJ09eOHDlCRkZGOKfWqgQCBr6AgS8QINDgwfnfr+J6cjGO3buxOxzU3XwrZdfP5WiHDKobfFDj5WhVHU9tKcZ+YAub3vwDHy6O4akVq+mWOQS3w05u10RiXVozLiIiItEvrA3ysWPH6NSpEwCvvfYaAwcOBGDKlCnMmjWLBQsWUFpayoEDBxg+fHg4p2YZhmFQ7wtQ5/Xj+epzrddPnddPnTdAvdePP2AQc6Kcri+/QLeVz+OuOE5Nzz7Yuvekrn0SO2+9G6fdRhugQ7ybqjovv3nrM9pST/WGxRh+Pz485G96n7mDc8nt2h63U82xiIiIWEPIGuSZM2eyceNGKioq6NKlC/fddx8bN26ksLAQm81Gjx49eOaZZwDIzMzk6quvZsCAATidTv785z9rB4tzMAyDBl+Ael9j03u63kdVnZeqei/+gAHYsNvAbgOn3YbTbsdpt9H5QBEd/7qEpNdXYfd6OXXZBA7f8G+cvmQc8bt2UHOqkg5t3S1+zn1v76eyzsv/yW7Hw4Yfn8OB0+Uib/QYhnVNJMYZwm3cHnrIXONYmZVrpPMofMxYayvnZrZ6W7nW0qqEbB/kcGht+yDXenxUnvFy9HQ9VXVeAoaBzQYYNlwOG26nHbfTjv2fb9/s9ZL01lrS/voMbQt24G/bjoqfzaJ8zk009Ozd4qlVFWUkpjYuhan3+Xlh5xGWfHiYO8b2YkZ2BnsKtpO/6X1+MHoM1/9kgvY4Ngnt8Rl9lFl0Um7RSblFH8vugyzBUef1c7y6gZKqOqobfNhtNuJjHKTEubD9cyP8T5wnKkh96Tk6LF9GTNkx6nv25vB9D3PipzMItEs46/nxO7dRXV7Buu65vP/5CbZ+cZJ6X4Detkr6+2KADHpkDqFfdi7DuiaG57bRW7Y0fh41yhzjWJmVa6TzKHzMWGsr52a2elu51tKq6AqySZ1p8FFcWcvhqjrsNmjrdhLrdLCnYDsFWzeTkzearJxvX6ft27GTpGXP0OvttTi9HnYPHMmLo6bx955DqQ9Agy+Ax9/40Tz9dS/ehS9gMO7qh0hrG0NmOx+bl9yP79AuYpxO/vTSa3QbMIRLeiUTFxOm363Gjm38fKF7agZrHJMKym/aVq6RCc8jy17RMmGtLZ2b2ept0tcR0+Um56QryNLC6Xovh07UUnq6HpfdRulnhez+8ANy8kYDcMvMq/B6PbhcMSx68TXcXfrzbsFeig4c5tKjh5jx4TrySvZS44rl6QHjWTxkMmUZPWjv8GNUlJKanExaxxRinHZiHHaaX4Ru6zTwNdRzT7aLKZcO57k//5H3D+5sfFOeEeCD/E386LIx4WuORURERCJAnY4JeP0BKmoaOFhZy+l6HzEOOx3iY/h41w5unTW1qSG+4mfX4emdh9E1i4a0Pvz7lgaS6/K56eO/s3D3G3Q9U0lJYhoLumWxzO6gtmwfT0z+JW6HjVtmTsfr9VDmimH+itVk5QxvcTUa4PShTwgYAR6ZN42eK1aTkzcal+ubu+RdNm4sndrHRrZYIiIiIiGmBjmCaj0+ik/WcqSqnoABxUW7KNqxpWn5RMHWzXhsDoyLRtNw8SWsS83BuMIBtVVk7/+AR/at4dKd7xHj9/EO8B92O+WDBvDhlnwCfj8Oh4Oi7R8A4PV6CHy1PVvB1s1Ay6vRk386g/lGAACft/E5N8xfwFMrVrPtg3wyh41ixqTLz7nuWURERCTaqUGOkOp6Hx9+cRIbBomxLvbu3sFtP5+G1+vBGRPLvy/+/+xIHIFx03PgjIGaE0zs5OC6ku0Me2M5fUu+wN8mjgPjr2DGexso8vtwumK4fdJPKNix7aurvjFNV4e/uRLc+FjB1s0tmmYMsNvsBIxA03MChkHvQUNJ7zuYkT2SQrudm4iIiIhJqEGOgNP1XrZ9cZJYp4O4mMb9ngu2bsYTn4IxYDye/mNZtNdH+1gnl3WNpcsXO7i17giDH/877qNHaOjajZLf3s+Jq6/Dn5jIf/7TG/f69Btw1hv5nvzba+zcupmhI0czYMgw/AGjRdM84aqrOTZ4KHt2bGXh1Fl06jeYk3VeUuJiuCi1LclxMZEp1qJF5hrHyqxcI51H4WPGWls5N7PV28q1llZFu1iE2am6xub4YLPlFG17ZPJf6wv5sMwHRgD74d3cMimPmzLa0Xn5X0h57RXs9XWcHnUJx2/4N06N/yF8y41UDMPA4zeo8/rxBgJfPWoDDGw2G7FfbcsWAIyAwd7dO/ho+xaGjRrNkNwRuJx2aivL6dUtg3axLuJcDux2LamIBnqHdvRRZtFJuUUn5RZ9tItFK1L1VXN8qGgXt/18Gp6Ejtg+82L0aSDWZeeH3Vx0Orqday+2M+yvvydhyyYC7lhOTLuG4zfcRH2/zLPGrPf6qfH4abx3HrR1O+jcPpbkuBjcTjsxDhsuR+Nd9P55/fBlfSfBNZO+eWDDBioqKkgd1Ce0hTgfGzY0fh4/3hzjWJmVa6TzKHzMWGsr52a2elu51tKq6ApymBw7VcdHpadp53byt6cf56kP/oExciY01JITW8Vj11xGr7Uvk/b8s7hLDuPpnMHx2TdRMePn+JOSm8bx+ALU+fw0+AzAoH2s66uGuPGK7wXdvGPsWBo8Htxfb/RuBhbfmzNYtA/yOZjwPLLsFS0T1trSuZmt3iZ9HTFdbnJOuoJscT5/gH3lNRRX1pISF0PAgF3JIzBGDsP2yXsM2vxXXvzBD7joyQU46mqpHjGKI7+5n6qJk8Dp5IzHR22N5+uVEsS7HaS3c9Mh3k37Nk7czrOXWoiIiIjI96cGOYSq630Ulp6izuMnva2bqjovd6z7lD3HfTxYs5upn66hf00VgY0bqLzqZxyfM4+6zEEEDINTdV689Q0ktXHRp3M8bd3OC79CLCIiIiLnpAY5REqr6thz7DRtXA5S4mP4e/6HPLWljKv35vPe/ndIKj2Mp2Nnjv76HspnzcafnILPH6DqjAeAromxdElsQ0KsK8JHIiIiItK6qEEOgS8qayn6sprUOBdOh53/efFVEv72Cp9+tom2vgbK+mVy8DfLOPnDyeBy4fMHOHmmAYfdzsVpbemcEKs9h0VEREQiRA1ykB06UcsnZadJbeMiedO78Kc/cefOfBrsTlY4nDxptzN8yjRu+PHUFo1x/7R2dG4fiyuSSyieeYaqsjLSIzeDsz3zjLnGsTIr10jnUfiYsdZWzs1s9bZyraVVUYMcRJ9X1PCPg8cY+NYq0p9/lthDn1Man8yfLruWh7e/wZd11Thj3NySNxqPL0BVvZcB6e3IaB9rjrXFF1+Mv127SM+ipYsvNtc4VmblGuk8Ch8z1trKuZmt3lautbQqapCDIBAwOLzjI+yL/8z41Stx1NTwSc9M7p90O4Gp01gwvh/3F17fdHe7foNzqar3kts1kQ5t3ZGe/jdefx33iRMwZ06kZ/KN119v/PzjH5tjHCuzco10HoWPGWtt5dzMVm8r11paFe2DfAH8Pj9Va9+AJ/5EyvsbCLhcVPzoKm7tMJJX2/Xhmp5O7piS1+IGHV9fOc7p0p60drERm/u30j7IUUv7IJ+DCc8jy+7LasJaWzo3s9XbpK8jpstNzkn7IEch/+lqTi9ZSsxTT5Jy8ACe1DRKb7uLw1f/nNlvH2J/lR/b+j+y+uA2ruiymqyc4UBjc3yyzktuVxM2xyIiIiICgAkWvkaZp56CLl1IuvNXGPHxHFr0NEVb9/CP+Xdw85YKDpwOYFv/XxifbMTn9VCwdTMAdV7/V8sq1ByLiIiImJmuIJ+nfVVVVGd05Yvr5tLj53PAZmPbtm3cv7WS47Tl5n4ulj25A5/DgdMVw5CRP6DijIdYp52R3ZNIiouJ9CGIiIiIyHdQg3wetm7dyuX330+Dx4Prgbt57OIBbD0e4G87v8BISMf5zmMMu+Ruhq1YTcHWzWTmjqLTxdl0T4qjT2qcOXaqEBEREZHvpAb5PGzcuJEGj4dAak8asidx29Y6fDjAUw9rHsAo+YiCrZu5Yf4CMvplE+tykNU5gcQ2UXI3vOXLOfnll3SM9DyaW77cXONYmZVrpPMofMxYayvnZrZ6W7nW0qqoQT4PY8eOxX7JbAJDrwJvPXnpLsZ2cvDIvLvxeT04XTHk5I3mxBkPKfExDO6cEF1Xjbt2JeBwRHoWLXXtaq5xrMzKNdJ5FD5mrLWVczNbva1ca2lV1CCfh7y8PJ6+w8sLG/cwJa8XY0ePAqDnV0sqcvJG06V/NgmxzuhrjgFefpnYykq45ZZIz+QbL7/c+Pmaa8wxjpVZuUY6j8LHjLW2cm5mq7eVay2tivZB/h52lVRR4/ERH9Py94tT9V7cDjvDuiUR44yy5hi0D3IU0z7I52DC88iy+7KasNaWzs1s9Tbp64jpcpNzivQ+yFHYxZlTdb0Ph81GTtfE6GyORURERATQEosL4g8Y1Hh8NPgCxLocDO+WSKzLZGt4RUREROS8qEH+nk7V+2hwGXRq56ZTQiztY53Rt+ZYRERERM6iBvl76JkSR8+UOBJiXTjstkhPR0RERESCSA3y92DZu+G9+qr59kF+9VVzjWNlVq6RzqPwMWOtrZyb2ept5VpLq6IGWb6RmkrA44n0LFpKTTXXOFZm5RrpPAofM9bayrmZrd5WrrW0Klo0K9947jnafL2HpVk891zjh1nGsTIr10jnUfiYsdZWzs1s9bZyraVV0T7I8g3tgxy1tA/yOZjwPLLsvqwmrLWlczNbvU36OmK63OScLLsP8o033khaWhoDBw5seuzOO++kX79+ZGVlMXXqVKqqqgAoLi6mTZs2ZGdnk52dzc033xyqaYmIiIiIfKeQNchz5sxh/fr1LR6bMGECRUVF7Nmzh759+7Jw4cKmr/Xu3ZvCwkIKCwt5+umnQzUtEREREZHvFLIGecyYMSQnJ7d4bOLEiTidje8LHDlyJEeOHAnVjxcRERER+V4i9ia9ZcuWceWVVzb9/dChQwwZMoRLL72U/Pz8SE1LRERERFq5kL5Jr7i4mMmTJ1NUVNTi8QcffJCdO3eyatUqbDYbDQ0N1NTUkJKSQkFBAVdddRV79+4lISHhrDGXLFnCkiVLAPjyyy/Zvn17qKbf6tjq6igvLye1W7dIT6WJra4OAKNNG1OMY1bl5eV06NDhgsawco3MeB4FIzMzMmOtrZyb2ept1tcRs+Um5xauzKZMmfKtb9IL+z7Izz33HOvWrePdd9/FZmu8C53b7cbtdgOQk5ND79692b9/P7m5uWd9/7x585g3bx7Q+M5DvSs1uIw2bVTTKKXcoo8yi07KLTopt+gTyczCusRi/fr1PPLII6xdu5a4uLimx8vLy/H7/QAcPHiQAwcO0KtXr3BOTQCefJI4s+1f+eSTjR9mGcfKrFwjnUfhY8ZaWzk3s9XbyrWWViVkDfLMmTPJy8tj3759dOnShaVLlzJ//nyqq6uZMGFCi+3cNm3aRFZWFtnZ2fz0pz/l6aefPusNfhIGr7xCm3XrIj2Lll55pfHDLONYmZVrpPMofMxYayvnZrZ6W7nW0qqEbInFihUrznps7ty53/rc6dOnM3369FBNRURERETkX6ZbTYuIiIiINKMGWURERESkGTXIIiIiIiLNhHQf5FBLTU2lR48ekZ6GpWivyOik3KKPMotOyi06KbfoE67MiouLqaioOOvxqG6QJfhyc3O/dcNsMTflFn2UWXRSbtFJuUWfSGemJRYiIiIiIs2oQRYRERERaUYNsrTw9W28Jboot+ijzKKTcotOyi36RDozrUEWEREREWlGV5BFRERERJpRgywiIiIi0owaZIsrKSlh3LhxDBgwgMzMTB5//HEAKisrmTBhAhdddBETJkzg5MmTAHz22Wfk5eXhdrt59NFHm8apr69n+PDhDB48mMzMTH73u99F5Hhai2DlBtCjRw8GDRpEdnY2ubm5YT+W1iRYue3bt4/s7Oymj4SEBBYtWhSJQ7K8YP5be/zxxxk4cCCZmZnKK8TON7eXXnqJrKwsBg0axKhRo/joo4+axrrxxhtJS0tj4MCBETmW1iJYmYWtHzHE0kpLS42CggLDMAzj9OnTxkUXXWTs3bvXuPPOO42FCxcahmEYCxcuNH79618bhmEYZWVlxvbt2427777b+MMf/tA0TiAQMKqrqw3DMAyPx2MMHz7c2Lp1a5iPpvUIVm6GYRjdu3c3ysvLw3sArVQwc/uaz+cz0tPTjeLi4vAcRCsTrMw+/vhjIzMz0zhz5ozh9XqNyy+/3Dhw4ED4D6iVON/cPvjgA6OystIwDMN48803jeHDhzeN9f777xsFBQVGZmZmmI+idQlWZuHqR3QF2eI6derE0KFDAWjXrh39+/fn6NGjrFmzhtmzZwMwe/ZsVq9eDUBaWhrDhg3D5XK1GMdms9G2bVsAvF4vXq8Xm80WvgNpZYKVm4RXKHJ799136d27N927dw/5/FujYGX26aefMmLECOLi4nA6nVx66aWsWrUqrMfSmpxvbqNGjSIpKQmAkSNHcuTIkaaxxowZQ3JycngPoBUKVmbh6kfUILcixcXF7N69mxEjRlBWVkanTp0A6NixI2VlZef8fr/fT3Z2NmlpaUyYMIERI0aEesrChedms9mYOHEiOTk5LFmyJNTTla9caG5fW7lyJTNnzgzVNKWZC8ls4MCB5Ofnc+LECWpra3nzzTcpKSkJx7RbvfPNbenSpVx55ZXhnqY0c6GZhaMfcQZ9RDGlmpoapk+fzqJFi0hISGjxNZvN9i/99uVwOCgsLKSqqoqpU6dSVFSkNVshFozcNm/eTEZGBsePH2fChAn069ePMWPGhGrKQnByA/B4PKxdu5aFCxeGYprSzIVm1r9/f+666y4mTpxIfHw82dnZOByOUE5ZOP/c3nvvPZYuXcrmzZvDOU1pJhiZhaMf0RXkVsDr9TJ9+nSuvfZapk2bBkB6ejrHjh0D4NixY6Slpf3L4yUmJjJu3DjWr18fkvlKo2DllpGRATT+1/DUqVPZvn176CYtQf339tZbbzF06FDS09NDNl8JXmZz586loKCATZs2kZSURN++fUM679bufHPbs2cPv/jFL1izZg0pKSkRmXNrF+zMQtmPqEG2OMMwmDt3Lv3792fBggVNj0+ZMoXnn38egOeff56f/OQn3zlOeXk5VVVVANTV1fHOO+/Qr1+/kM27tQtWbmfOnKG6urrpz2+//bau+odQsHL72ooVK7S8IsSCmdnx48cBOHz4MKtWrWLWrFmhmbScd26HDx9m2rRpLF++XL+4REiwMgtbPxL0t/2JqeTn5xuAMWjQIGPw4MHG4MGDjTfeeMOoqKgwLrvsMqNPnz7G5Zdfbpw4ccIwDMM4duyYkZGRYbRr185o3769kZGRYZw6dcr46KOPjOzsbGPQoEFGZmamcd9990X4yKwtWLl9/vnnRlZWlpGVlWUMGDDAeOCBByJ8ZNYWrNwMwzBqamqM5ORko6qqKpKHZHnBzGz06NFG//79jaysLGPDhg2RPCzLO9/c5s6dayQmJjY9Nycnp2msGTNmGB07djScTqeRkZFh/OUvf4nUYVlasDILVz+iW02LiIiIiDSjJRYiIiIiIs2oQRYRERERaUYNsoiIiIhIM2qQRURERESaUYMsIiIiItKMGmQREQu69957efTRRyM9DRGRqKQGWURERESkGTXIIiIW8eCDD9K3b19Gjx7Nvn37AHjiiScYMGAAWVlZzJgxI8IzFBGJDs5IT0BERC5cQUEBK1eupLCwEJ/Px9ChQ8nJyeH3v/89hw4dwu12N92eVUREvpuuIIuIWEB+fj5Tp04lLi6OhIQEpkyZAkBWVhbXXnstL774Ik6nromIiPwr1CCLiFjYG2+8wa233squXbsYNmwYPp8v0lMSETE9NcgiIhYwZswYVq9eTV1dHdXV1bz++usEAgFKSkoYN24cDz/8MKdOnaKmpibSUxURMT39f5uIiAUMHTqUa665hsGDB5OWlsawYcOw2Wxcd911nDp1CsMw+OUvf0liYmKkpyoiYno2wzCMSE9CRERERMQstMRCRERERKQZNcgiIiIiIs2oQRYRERERaUYNsoiIiIhIM2qQRURERESaUYMsIiIiItKMGmQRERERkWb+F0S8PJVPG/PIAAAAAElFTkSuQmCC\n",
      "text/plain": [
       "<Figure size 720x432 with 1 Axes>"
      ]
     },
     "metadata": {},
     "output_type": "display_data"
    }
   ],
   "source": [
    "from fbprophet.plot import add_changepoints_to_plot\n",
    "fig = mh.plot(forecast_hpi)\n",
    "a = add_changepoints_to_plot(fig.gca(), mh, forecast_hpi)"
   ]
  },
  {
   "cell_type": "markdown",
   "id": "1f388953",
   "metadata": {
    "hidden": true
   },
   "source": [
    "We can view the dates where the chagepoints occurred."
   ]
  },
  {
   "cell_type": "code",
   "execution_count": 43,
   "id": "945c4d59",
   "metadata": {
    "hidden": true
   },
   "outputs": [
    {
     "data": {
      "text/plain": [
       "4     2012-05-01\n",
       "8     2012-09-01\n",
       "12    2013-01-01\n",
       "16    2013-05-01\n",
       "20    2013-09-01\n",
       "24    2014-01-01\n",
       "28    2014-05-01\n",
       "32    2014-09-01\n",
       "36    2015-01-01\n",
       "40    2015-05-01\n",
       "44    2015-09-01\n",
       "48    2016-01-01\n",
       "52    2016-05-01\n",
       "56    2016-09-01\n",
       "60    2017-01-01\n",
       "64    2017-05-01\n",
       "68    2017-09-01\n",
       "72    2018-01-01\n",
       "76    2018-05-01\n",
       "80    2018-09-01\n",
       "84    2019-01-01\n",
       "88    2019-05-01\n",
       "92    2019-09-01\n",
       "96    2020-01-01\n",
       "100   2020-05-01\n",
       "Name: ds, dtype: datetime64[ns]"
      ]
     },
     "execution_count": 43,
     "metadata": {},
     "output_type": "execute_result"
    }
   ],
   "source": [
    "mh.changepoints"
   ]
  },
  {
   "cell_type": "markdown",
   "id": "5a6f8380",
   "metadata": {
    "hidden": true
   },
   "source": [
    "**HPI Prediction for period 2021-07-01 - 2022-07-01.**"
   ]
  },
  {
   "cell_type": "code",
   "execution_count": 44,
   "id": "7075140b",
   "metadata": {
    "hidden": true
   },
   "outputs": [
    {
     "data": {
      "text/html": [
       "<div>\n",
       "<style scoped>\n",
       "    .dataframe tbody tr th:only-of-type {\n",
       "        vertical-align: middle;\n",
       "    }\n",
       "\n",
       "    .dataframe tbody tr th {\n",
       "        vertical-align: top;\n",
       "    }\n",
       "\n",
       "    .dataframe thead th {\n",
       "        text-align: right;\n",
       "    }\n",
       "</style>\n",
       "<table border=\"1\" class=\"dataframe\">\n",
       "  <thead>\n",
       "    <tr style=\"text-align: right;\">\n",
       "      <th></th>\n",
       "      <th>ds</th>\n",
       "      <th>yhat</th>\n",
       "    </tr>\n",
       "  </thead>\n",
       "  <tbody>\n",
       "    <tr>\n",
       "      <th>114</th>\n",
       "      <td>2021-07-01</td>\n",
       "      <td>265.61</td>\n",
       "    </tr>\n",
       "    <tr>\n",
       "      <th>115</th>\n",
       "      <td>2021-08-01</td>\n",
       "      <td>269.07</td>\n",
       "    </tr>\n",
       "    <tr>\n",
       "      <th>116</th>\n",
       "      <td>2021-09-01</td>\n",
       "      <td>272.00</td>\n",
       "    </tr>\n",
       "    <tr>\n",
       "      <th>117</th>\n",
       "      <td>2021-10-01</td>\n",
       "      <td>274.77</td>\n",
       "    </tr>\n",
       "    <tr>\n",
       "      <th>118</th>\n",
       "      <td>2021-11-01</td>\n",
       "      <td>277.60</td>\n",
       "    </tr>\n",
       "    <tr>\n",
       "      <th>119</th>\n",
       "      <td>2021-12-01</td>\n",
       "      <td>280.26</td>\n",
       "    </tr>\n",
       "    <tr>\n",
       "      <th>120</th>\n",
       "      <td>2022-01-01</td>\n",
       "      <td>283.18</td>\n",
       "    </tr>\n",
       "    <tr>\n",
       "      <th>121</th>\n",
       "      <td>2022-02-01</td>\n",
       "      <td>286.62</td>\n",
       "    </tr>\n",
       "    <tr>\n",
       "      <th>122</th>\n",
       "      <td>2022-03-01</td>\n",
       "      <td>291.18</td>\n",
       "    </tr>\n",
       "    <tr>\n",
       "      <th>123</th>\n",
       "      <td>2022-04-01</td>\n",
       "      <td>296.61</td>\n",
       "    </tr>\n",
       "    <tr>\n",
       "      <th>124</th>\n",
       "      <td>2022-05-01</td>\n",
       "      <td>301.58</td>\n",
       "    </tr>\n",
       "    <tr>\n",
       "      <th>125</th>\n",
       "      <td>2022-06-01</td>\n",
       "      <td>305.86</td>\n",
       "    </tr>\n",
       "    <tr>\n",
       "      <th>126</th>\n",
       "      <td>2022-07-01</td>\n",
       "      <td>309.07</td>\n",
       "    </tr>\n",
       "  </tbody>\n",
       "</table>\n",
       "</div>"
      ],
      "text/plain": [
       "            ds    yhat\n",
       "114 2021-07-01  265.61\n",
       "115 2021-08-01  269.07\n",
       "116 2021-09-01  272.00\n",
       "117 2021-10-01  274.77\n",
       "118 2021-11-01  277.60\n",
       "119 2021-12-01  280.26\n",
       "120 2022-01-01  283.18\n",
       "121 2022-02-01  286.62\n",
       "122 2022-03-01  291.18\n",
       "123 2022-04-01  296.61\n",
       "124 2022-05-01  301.58\n",
       "125 2022-06-01  305.86\n",
       "126 2022-07-01  309.07"
      ]
     },
     "execution_count": 44,
     "metadata": {},
     "output_type": "execute_result"
    }
   ],
   "source": [
    "pred_hpi_data_2021_7 = forecast_hpi.query(\"ds >= '2021-07-01' and ds <= '2022-07-01'\")\n",
    "pred_hpi_data_2021_7 = pred_hpi_data_2021_7[['ds', 'yhat']].round(2)\n",
    "pred_hpi_data_2021_7"
   ]
  },
  {
   "cell_type": "code",
   "execution_count": 45,
   "id": "880be74d",
   "metadata": {
    "hidden": true
   },
   "outputs": [],
   "source": [
    "pred_hpi_2022 = forecast_hpi[['ds', 'yhat']].tail(12)"
   ]
  },
  {
   "cell_type": "code",
   "execution_count": 46,
   "id": "e795fe5e",
   "metadata": {
    "hidden": true
   },
   "outputs": [
    {
     "data": {
      "text/html": [
       "<div>\n",
       "<style scoped>\n",
       "    .dataframe tbody tr th:only-of-type {\n",
       "        vertical-align: middle;\n",
       "    }\n",
       "\n",
       "    .dataframe tbody tr th {\n",
       "        vertical-align: top;\n",
       "    }\n",
       "\n",
       "    .dataframe thead th {\n",
       "        text-align: right;\n",
       "    }\n",
       "</style>\n",
       "<table border=\"1\" class=\"dataframe\">\n",
       "  <thead>\n",
       "    <tr style=\"text-align: right;\">\n",
       "      <th></th>\n",
       "      <th>ds</th>\n",
       "      <th>yhat</th>\n",
       "    </tr>\n",
       "  </thead>\n",
       "  <tbody>\n",
       "    <tr>\n",
       "      <th>120</th>\n",
       "      <td>2022-01-01</td>\n",
       "      <td>283.178883</td>\n",
       "    </tr>\n",
       "    <tr>\n",
       "      <th>121</th>\n",
       "      <td>2022-02-01</td>\n",
       "      <td>286.615477</td>\n",
       "    </tr>\n",
       "    <tr>\n",
       "      <th>122</th>\n",
       "      <td>2022-03-01</td>\n",
       "      <td>291.176937</td>\n",
       "    </tr>\n",
       "    <tr>\n",
       "      <th>123</th>\n",
       "      <td>2022-04-01</td>\n",
       "      <td>296.612200</td>\n",
       "    </tr>\n",
       "    <tr>\n",
       "      <th>124</th>\n",
       "      <td>2022-05-01</td>\n",
       "      <td>301.583961</td>\n",
       "    </tr>\n",
       "    <tr>\n",
       "      <th>125</th>\n",
       "      <td>2022-06-01</td>\n",
       "      <td>305.859794</td>\n",
       "    </tr>\n",
       "    <tr>\n",
       "      <th>126</th>\n",
       "      <td>2022-07-01</td>\n",
       "      <td>309.067466</td>\n",
       "    </tr>\n",
       "    <tr>\n",
       "      <th>127</th>\n",
       "      <td>2022-08-01</td>\n",
       "      <td>312.537661</td>\n",
       "    </tr>\n",
       "    <tr>\n",
       "      <th>128</th>\n",
       "      <td>2022-09-01</td>\n",
       "      <td>315.336927</td>\n",
       "    </tr>\n",
       "    <tr>\n",
       "      <th>129</th>\n",
       "      <td>2022-10-01</td>\n",
       "      <td>317.987271</td>\n",
       "    </tr>\n",
       "    <tr>\n",
       "      <th>130</th>\n",
       "      <td>2022-11-01</td>\n",
       "      <td>320.786396</td>\n",
       "    </tr>\n",
       "    <tr>\n",
       "      <th>131</th>\n",
       "      <td>2022-12-01</td>\n",
       "      <td>323.565026</td>\n",
       "    </tr>\n",
       "  </tbody>\n",
       "</table>\n",
       "</div>"
      ],
      "text/plain": [
       "            ds        yhat\n",
       "120 2022-01-01  283.178883\n",
       "121 2022-02-01  286.615477\n",
       "122 2022-03-01  291.176937\n",
       "123 2022-04-01  296.612200\n",
       "124 2022-05-01  301.583961\n",
       "125 2022-06-01  305.859794\n",
       "126 2022-07-01  309.067466\n",
       "127 2022-08-01  312.537661\n",
       "128 2022-09-01  315.336927\n",
       "129 2022-10-01  317.987271\n",
       "130 2022-11-01  320.786396\n",
       "131 2022-12-01  323.565026"
      ]
     },
     "execution_count": 46,
     "metadata": {},
     "output_type": "execute_result"
    }
   ],
   "source": [
    "pred_hpi_2022"
   ]
  },
  {
   "cell_type": "code",
   "execution_count": 47,
   "id": "a8385577",
   "metadata": {
    "hidden": true
   },
   "outputs": [
    {
     "data": {
      "text/html": [
       "<div>\n",
       "<style scoped>\n",
       "    .dataframe tbody tr th:only-of-type {\n",
       "        vertical-align: middle;\n",
       "    }\n",
       "\n",
       "    .dataframe tbody tr th {\n",
       "        vertical-align: top;\n",
       "    }\n",
       "\n",
       "    .dataframe thead th {\n",
       "        text-align: right;\n",
       "    }\n",
       "</style>\n",
       "<table border=\"1\" class=\"dataframe\">\n",
       "  <thead>\n",
       "    <tr style=\"text-align: right;\">\n",
       "      <th></th>\n",
       "      <th>ds</th>\n",
       "      <th>y</th>\n",
       "    </tr>\n",
       "  </thead>\n",
       "  <tbody>\n",
       "    <tr>\n",
       "      <th>420</th>\n",
       "      <td>2022-01-01</td>\n",
       "      <td>282.026</td>\n",
       "    </tr>\n",
       "    <tr>\n",
       "      <th>421</th>\n",
       "      <td>2022-02-01</td>\n",
       "      <td>287.279</td>\n",
       "    </tr>\n",
       "    <tr>\n",
       "      <th>422</th>\n",
       "      <td>2022-03-01</td>\n",
       "      <td>295.054</td>\n",
       "    </tr>\n",
       "    <tr>\n",
       "      <th>423</th>\n",
       "      <td>2022-04-01</td>\n",
       "      <td>301.655</td>\n",
       "    </tr>\n",
       "    <tr>\n",
       "      <th>424</th>\n",
       "      <td>2022-05-01</td>\n",
       "      <td>306.639</td>\n",
       "    </tr>\n",
       "    <tr>\n",
       "      <th>425</th>\n",
       "      <td>2022-06-01</td>\n",
       "      <td>308.468</td>\n",
       "    </tr>\n",
       "    <tr>\n",
       "      <th>426</th>\n",
       "      <td>2022-07-01</td>\n",
       "      <td>307.447</td>\n",
       "    </tr>\n",
       "  </tbody>\n",
       "</table>\n",
       "</div>"
      ],
      "text/plain": [
       "            ds        y\n",
       "420 2022-01-01  282.026\n",
       "421 2022-02-01  287.279\n",
       "422 2022-03-01  295.054\n",
       "423 2022-04-01  301.655\n",
       "424 2022-05-01  306.639\n",
       "425 2022-06-01  308.468\n",
       "426 2022-07-01  307.447"
      ]
     },
     "execution_count": 47,
     "metadata": {},
     "output_type": "execute_result"
    }
   ],
   "source": [
    "hpi_data.tail(7)"
   ]
  },
  {
   "cell_type": "markdown",
   "id": "611833fa",
   "metadata": {
    "hidden": true
   },
   "source": [
    "Actual CPI for period:  2021-07-01 - 2022-07-01."
   ]
  },
  {
   "cell_type": "code",
   "execution_count": 48,
   "id": "723b24f4",
   "metadata": {
    "hidden": true
   },
   "outputs": [
    {
     "data": {
      "text/html": [
       "<div>\n",
       "<style scoped>\n",
       "    .dataframe tbody tr th:only-of-type {\n",
       "        vertical-align: middle;\n",
       "    }\n",
       "\n",
       "    .dataframe tbody tr th {\n",
       "        vertical-align: top;\n",
       "    }\n",
       "\n",
       "    .dataframe thead th {\n",
       "        text-align: right;\n",
       "    }\n",
       "</style>\n",
       "<table border=\"1\" class=\"dataframe\">\n",
       "  <thead>\n",
       "    <tr style=\"text-align: right;\">\n",
       "      <th></th>\n",
       "      <th>ds</th>\n",
       "      <th>y</th>\n",
       "    </tr>\n",
       "  </thead>\n",
       "  <tbody>\n",
       "    <tr>\n",
       "      <th>414</th>\n",
       "      <td>2021-07-01</td>\n",
       "      <td>265.574</td>\n",
       "    </tr>\n",
       "    <tr>\n",
       "      <th>415</th>\n",
       "      <td>2021-08-01</td>\n",
       "      <td>268.846</td>\n",
       "    </tr>\n",
       "    <tr>\n",
       "      <th>416</th>\n",
       "      <td>2021-09-01</td>\n",
       "      <td>271.499</td>\n",
       "    </tr>\n",
       "    <tr>\n",
       "      <th>417</th>\n",
       "      <td>2021-10-01</td>\n",
       "      <td>273.710</td>\n",
       "    </tr>\n",
       "    <tr>\n",
       "      <th>418</th>\n",
       "      <td>2021-11-01</td>\n",
       "      <td>276.087</td>\n",
       "    </tr>\n",
       "    <tr>\n",
       "      <th>419</th>\n",
       "      <td>2021-12-01</td>\n",
       "      <td>278.664</td>\n",
       "    </tr>\n",
       "    <tr>\n",
       "      <th>420</th>\n",
       "      <td>2022-01-01</td>\n",
       "      <td>282.026</td>\n",
       "    </tr>\n",
       "    <tr>\n",
       "      <th>421</th>\n",
       "      <td>2022-02-01</td>\n",
       "      <td>287.279</td>\n",
       "    </tr>\n",
       "    <tr>\n",
       "      <th>422</th>\n",
       "      <td>2022-03-01</td>\n",
       "      <td>295.054</td>\n",
       "    </tr>\n",
       "    <tr>\n",
       "      <th>423</th>\n",
       "      <td>2022-04-01</td>\n",
       "      <td>301.655</td>\n",
       "    </tr>\n",
       "    <tr>\n",
       "      <th>424</th>\n",
       "      <td>2022-05-01</td>\n",
       "      <td>306.639</td>\n",
       "    </tr>\n",
       "    <tr>\n",
       "      <th>425</th>\n",
       "      <td>2022-06-01</td>\n",
       "      <td>308.468</td>\n",
       "    </tr>\n",
       "    <tr>\n",
       "      <th>426</th>\n",
       "      <td>2022-07-01</td>\n",
       "      <td>307.447</td>\n",
       "    </tr>\n",
       "  </tbody>\n",
       "</table>\n",
       "</div>"
      ],
      "text/plain": [
       "            ds        y\n",
       "414 2021-07-01  265.574\n",
       "415 2021-08-01  268.846\n",
       "416 2021-09-01  271.499\n",
       "417 2021-10-01  273.710\n",
       "418 2021-11-01  276.087\n",
       "419 2021-12-01  278.664\n",
       "420 2022-01-01  282.026\n",
       "421 2022-02-01  287.279\n",
       "422 2022-03-01  295.054\n",
       "423 2022-04-01  301.655\n",
       "424 2022-05-01  306.639\n",
       "425 2022-06-01  308.468\n",
       "426 2022-07-01  307.447"
      ]
     },
     "execution_count": 48,
     "metadata": {},
     "output_type": "execute_result"
    }
   ],
   "source": [
    "hpi_data_2021_7 = hpi_data.query(\"ds >= '2021-07-01'\")\n",
    "hpi_data_2021_7"
   ]
  },
  {
   "cell_type": "code",
   "execution_count": 49,
   "id": "09065758",
   "metadata": {
    "hidden": true
   },
   "outputs": [
    {
     "data": {
      "text/html": [
       "<div>\n",
       "<style scoped>\n",
       "    .dataframe tbody tr th:only-of-type {\n",
       "        vertical-align: middle;\n",
       "    }\n",
       "\n",
       "    .dataframe tbody tr th {\n",
       "        vertical-align: top;\n",
       "    }\n",
       "\n",
       "    .dataframe thead th {\n",
       "        text-align: right;\n",
       "    }\n",
       "</style>\n",
       "<table border=\"1\" class=\"dataframe\">\n",
       "  <thead>\n",
       "    <tr style=\"text-align: right;\">\n",
       "      <th></th>\n",
       "      <th>ds</th>\n",
       "      <th>y</th>\n",
       "    </tr>\n",
       "  </thead>\n",
       "  <tbody>\n",
       "    <tr>\n",
       "      <th>420</th>\n",
       "      <td>2022-01-01</td>\n",
       "      <td>282.026</td>\n",
       "    </tr>\n",
       "    <tr>\n",
       "      <th>421</th>\n",
       "      <td>2022-02-01</td>\n",
       "      <td>287.279</td>\n",
       "    </tr>\n",
       "    <tr>\n",
       "      <th>422</th>\n",
       "      <td>2022-03-01</td>\n",
       "      <td>295.054</td>\n",
       "    </tr>\n",
       "    <tr>\n",
       "      <th>423</th>\n",
       "      <td>2022-04-01</td>\n",
       "      <td>301.655</td>\n",
       "    </tr>\n",
       "    <tr>\n",
       "      <th>424</th>\n",
       "      <td>2022-05-01</td>\n",
       "      <td>306.639</td>\n",
       "    </tr>\n",
       "    <tr>\n",
       "      <th>425</th>\n",
       "      <td>2022-06-01</td>\n",
       "      <td>308.468</td>\n",
       "    </tr>\n",
       "    <tr>\n",
       "      <th>426</th>\n",
       "      <td>2022-07-01</td>\n",
       "      <td>307.447</td>\n",
       "    </tr>\n",
       "  </tbody>\n",
       "</table>\n",
       "</div>"
      ],
      "text/plain": [
       "            ds        y\n",
       "420 2022-01-01  282.026\n",
       "421 2022-02-01  287.279\n",
       "422 2022-03-01  295.054\n",
       "423 2022-04-01  301.655\n",
       "424 2022-05-01  306.639\n",
       "425 2022-06-01  308.468\n",
       "426 2022-07-01  307.447"
      ]
     },
     "execution_count": 49,
     "metadata": {},
     "output_type": "execute_result"
    }
   ],
   "source": [
    "hpi_hist_data = hpi_data.tail(7)\n",
    "hpi_hist_data"
   ]
  },
  {
   "cell_type": "markdown",
   "id": "01645050",
   "metadata": {
    "hidden": true
   },
   "source": [
    "## HPI Prediction Results"
   ]
  },
  {
   "cell_type": "code",
   "execution_count": 50,
   "id": "99bd3472",
   "metadata": {
    "hidden": true
   },
   "outputs": [
    {
     "data": {
      "image/png": "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\n",
      "text/plain": [
       "<Figure size 720x432 with 1 Axes>"
      ]
     },
     "metadata": {},
     "output_type": "display_data"
    }
   ],
   "source": [
    "fig3 = mh.plot(forecast_hpi)"
   ]
  },
  {
   "cell_type": "markdown",
   "id": "c6a3a88e",
   "metadata": {
    "hidden": true
   },
   "source": [
    "Merging of 2021-07 - 2022-07 actual & predicted HPI data."
   ]
  },
  {
   "cell_type": "code",
   "execution_count": 51,
   "id": "f4df94ae",
   "metadata": {
    "hidden": true
   },
   "outputs": [
    {
     "data": {
      "text/html": [
       "<div>\n",
       "<style scoped>\n",
       "    .dataframe tbody tr th:only-of-type {\n",
       "        vertical-align: middle;\n",
       "    }\n",
       "\n",
       "    .dataframe tbody tr th {\n",
       "        vertical-align: top;\n",
       "    }\n",
       "\n",
       "    .dataframe thead th {\n",
       "        text-align: right;\n",
       "    }\n",
       "</style>\n",
       "<table border=\"1\" class=\"dataframe\">\n",
       "  <thead>\n",
       "    <tr style=\"text-align: right;\">\n",
       "      <th></th>\n",
       "      <th>ds</th>\n",
       "      <th>hpi_actual_data</th>\n",
       "      <th>hpi_prediction</th>\n",
       "    </tr>\n",
       "  </thead>\n",
       "  <tbody>\n",
       "    <tr>\n",
       "      <th>0</th>\n",
       "      <td>2021-07-01</td>\n",
       "      <td>265.574</td>\n",
       "      <td>265.61</td>\n",
       "    </tr>\n",
       "    <tr>\n",
       "      <th>1</th>\n",
       "      <td>2021-08-01</td>\n",
       "      <td>268.846</td>\n",
       "      <td>269.07</td>\n",
       "    </tr>\n",
       "    <tr>\n",
       "      <th>2</th>\n",
       "      <td>2021-09-01</td>\n",
       "      <td>271.499</td>\n",
       "      <td>272.00</td>\n",
       "    </tr>\n",
       "    <tr>\n",
       "      <th>3</th>\n",
       "      <td>2021-10-01</td>\n",
       "      <td>273.710</td>\n",
       "      <td>274.77</td>\n",
       "    </tr>\n",
       "    <tr>\n",
       "      <th>4</th>\n",
       "      <td>2021-11-01</td>\n",
       "      <td>276.087</td>\n",
       "      <td>277.60</td>\n",
       "    </tr>\n",
       "    <tr>\n",
       "      <th>5</th>\n",
       "      <td>2021-12-01</td>\n",
       "      <td>278.664</td>\n",
       "      <td>280.26</td>\n",
       "    </tr>\n",
       "    <tr>\n",
       "      <th>6</th>\n",
       "      <td>2022-01-01</td>\n",
       "      <td>282.026</td>\n",
       "      <td>283.18</td>\n",
       "    </tr>\n",
       "    <tr>\n",
       "      <th>7</th>\n",
       "      <td>2022-02-01</td>\n",
       "      <td>287.279</td>\n",
       "      <td>286.62</td>\n",
       "    </tr>\n",
       "    <tr>\n",
       "      <th>8</th>\n",
       "      <td>2022-03-01</td>\n",
       "      <td>295.054</td>\n",
       "      <td>291.18</td>\n",
       "    </tr>\n",
       "    <tr>\n",
       "      <th>9</th>\n",
       "      <td>2022-04-01</td>\n",
       "      <td>301.655</td>\n",
       "      <td>296.61</td>\n",
       "    </tr>\n",
       "    <tr>\n",
       "      <th>10</th>\n",
       "      <td>2022-05-01</td>\n",
       "      <td>306.639</td>\n",
       "      <td>301.58</td>\n",
       "    </tr>\n",
       "    <tr>\n",
       "      <th>11</th>\n",
       "      <td>2022-06-01</td>\n",
       "      <td>308.468</td>\n",
       "      <td>305.86</td>\n",
       "    </tr>\n",
       "    <tr>\n",
       "      <th>12</th>\n",
       "      <td>2022-07-01</td>\n",
       "      <td>307.447</td>\n",
       "      <td>309.07</td>\n",
       "    </tr>\n",
       "  </tbody>\n",
       "</table>\n",
       "</div>"
      ],
      "text/plain": [
       "           ds  hpi_actual_data  hpi_prediction\n",
       "0  2021-07-01          265.574          265.61\n",
       "1  2021-08-01          268.846          269.07\n",
       "2  2021-09-01          271.499          272.00\n",
       "3  2021-10-01          273.710          274.77\n",
       "4  2021-11-01          276.087          277.60\n",
       "5  2021-12-01          278.664          280.26\n",
       "6  2022-01-01          282.026          283.18\n",
       "7  2022-02-01          287.279          286.62\n",
       "8  2022-03-01          295.054          291.18\n",
       "9  2022-04-01          301.655          296.61\n",
       "10 2022-05-01          306.639          301.58\n",
       "11 2022-06-01          308.468          305.86\n",
       "12 2022-07-01          307.447          309.07"
      ]
     },
     "execution_count": 51,
     "metadata": {},
     "output_type": "execute_result"
    }
   ],
   "source": [
    "hpi_2021_7 = pd.merge(hpi_data_2021_7,pred_hpi_data_2021_7,how = \"right\")\n",
    "hpi_2021_7.rename(columns = {'y':'hpi_actual_data', 'yhat':'hpi_prediction'}, inplace = True)\n",
    "hpi_2021_7"
   ]
  },
  {
   "cell_type": "code",
   "execution_count": 52,
   "id": "8ecc962d",
   "metadata": {
    "hidden": true
   },
   "outputs": [
    {
     "data": {
      "text/plain": [
       "<matplotlib.legend.Legend at 0x7f8c589c0520>"
      ]
     },
     "execution_count": 52,
     "metadata": {},
     "output_type": "execute_result"
    },
    {
     "data": {
      "image/png": "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\n",
      "text/plain": [
       "<Figure size 720x432 with 1 Axes>"
      ]
     },
     "metadata": {
      "needs_background": "light"
     },
     "output_type": "display_data"
    }
   ],
   "source": [
    "plt.figure(figsize=(10,6))\n",
    "plt.plot(hpi_2021_7['hpi_prediction'],label=\"Predicted HPI\")\n",
    "plt.plot(hpi_2021_7['hpi_actual_data'],label=\"Actual HPI\")\n",
    "plt.title(\"HPI: Predicted vs Actual\")\n",
    "plt.legend()"
   ]
  },
  {
   "cell_type": "markdown",
   "id": "a64a67a1",
   "metadata": {
    "hidden": true
   },
   "source": [
    "Merging of 2022 HPI actual & predicted data."
   ]
  },
  {
   "cell_type": "code",
   "execution_count": 53,
   "id": "0fd544d7",
   "metadata": {
    "hidden": true,
    "scrolled": true
   },
   "outputs": [
    {
     "data": {
      "text/html": [
       "<div>\n",
       "<style scoped>\n",
       "    .dataframe tbody tr th:only-of-type {\n",
       "        vertical-align: middle;\n",
       "    }\n",
       "\n",
       "    .dataframe tbody tr th {\n",
       "        vertical-align: top;\n",
       "    }\n",
       "\n",
       "    .dataframe thead th {\n",
       "        text-align: right;\n",
       "    }\n",
       "</style>\n",
       "<table border=\"1\" class=\"dataframe\">\n",
       "  <thead>\n",
       "    <tr style=\"text-align: right;\">\n",
       "      <th></th>\n",
       "      <th>ds</th>\n",
       "      <th>hpi_actual_data</th>\n",
       "      <th>hpi_prediction</th>\n",
       "    </tr>\n",
       "  </thead>\n",
       "  <tbody>\n",
       "    <tr>\n",
       "      <th>0</th>\n",
       "      <td>2022-01-01</td>\n",
       "      <td>282.026</td>\n",
       "      <td>283.178883</td>\n",
       "    </tr>\n",
       "    <tr>\n",
       "      <th>1</th>\n",
       "      <td>2022-02-01</td>\n",
       "      <td>287.279</td>\n",
       "      <td>286.615477</td>\n",
       "    </tr>\n",
       "    <tr>\n",
       "      <th>2</th>\n",
       "      <td>2022-03-01</td>\n",
       "      <td>295.054</td>\n",
       "      <td>291.176937</td>\n",
       "    </tr>\n",
       "    <tr>\n",
       "      <th>3</th>\n",
       "      <td>2022-04-01</td>\n",
       "      <td>301.655</td>\n",
       "      <td>296.612200</td>\n",
       "    </tr>\n",
       "    <tr>\n",
       "      <th>4</th>\n",
       "      <td>2022-05-01</td>\n",
       "      <td>306.639</td>\n",
       "      <td>301.583961</td>\n",
       "    </tr>\n",
       "    <tr>\n",
       "      <th>5</th>\n",
       "      <td>2022-06-01</td>\n",
       "      <td>308.468</td>\n",
       "      <td>305.859794</td>\n",
       "    </tr>\n",
       "    <tr>\n",
       "      <th>6</th>\n",
       "      <td>2022-07-01</td>\n",
       "      <td>307.447</td>\n",
       "      <td>309.067466</td>\n",
       "    </tr>\n",
       "    <tr>\n",
       "      <th>7</th>\n",
       "      <td>2022-08-01</td>\n",
       "      <td>NaN</td>\n",
       "      <td>312.537661</td>\n",
       "    </tr>\n",
       "    <tr>\n",
       "      <th>8</th>\n",
       "      <td>2022-09-01</td>\n",
       "      <td>NaN</td>\n",
       "      <td>315.336927</td>\n",
       "    </tr>\n",
       "    <tr>\n",
       "      <th>9</th>\n",
       "      <td>2022-10-01</td>\n",
       "      <td>NaN</td>\n",
       "      <td>317.987271</td>\n",
       "    </tr>\n",
       "    <tr>\n",
       "      <th>10</th>\n",
       "      <td>2022-11-01</td>\n",
       "      <td>NaN</td>\n",
       "      <td>320.786396</td>\n",
       "    </tr>\n",
       "    <tr>\n",
       "      <th>11</th>\n",
       "      <td>2022-12-01</td>\n",
       "      <td>NaN</td>\n",
       "      <td>323.565026</td>\n",
       "    </tr>\n",
       "  </tbody>\n",
       "</table>\n",
       "</div>"
      ],
      "text/plain": [
       "           ds  hpi_actual_data  hpi_prediction\n",
       "0  2022-01-01          282.026      283.178883\n",
       "1  2022-02-01          287.279      286.615477\n",
       "2  2022-03-01          295.054      291.176937\n",
       "3  2022-04-01          301.655      296.612200\n",
       "4  2022-05-01          306.639      301.583961\n",
       "5  2022-06-01          308.468      305.859794\n",
       "6  2022-07-01          307.447      309.067466\n",
       "7  2022-08-01              NaN      312.537661\n",
       "8  2022-09-01              NaN      315.336927\n",
       "9  2022-10-01              NaN      317.987271\n",
       "10 2022-11-01              NaN      320.786396\n",
       "11 2022-12-01              NaN      323.565026"
      ]
     },
     "execution_count": 53,
     "metadata": {},
     "output_type": "execute_result"
    }
   ],
   "source": [
    "hpi_2022 = pd.merge(hpi_hist_data,pred_hpi_2022,how = \"right\")\n",
    "hpi_2022.rename(columns = {'y':'hpi_actual_data', 'yhat':'hpi_prediction'}, inplace = True)\n",
    "hpi_2022"
   ]
  },
  {
   "cell_type": "code",
   "execution_count": 54,
   "id": "8f3b0fd1",
   "metadata": {
    "hidden": true
   },
   "outputs": [
    {
     "data": {
      "text/plain": [
       "<matplotlib.legend.Legend at 0x7f8c6302c970>"
      ]
     },
     "execution_count": 54,
     "metadata": {},
     "output_type": "execute_result"
    },
    {
     "data": {
      "image/png": "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\n",
      "text/plain": [
       "<Figure size 720x432 with 1 Axes>"
      ]
     },
     "metadata": {
      "needs_background": "light"
     },
     "output_type": "display_data"
    }
   ],
   "source": [
    "plt.figure(figsize=(10,6))\n",
    "plt.plot(hpi_2022['hpi_prediction'],label=\"Predicted HPI: August 2022 - December 2022\")\n",
    "plt.plot(hpi_2022['hpi_actual_data'],label=\"Actual HPI\")\n",
    "plt.title(\"HPI: 5 months Prediction\")\n",
    "plt.legend()"
   ]
  },
  {
   "cell_type": "code",
   "execution_count": 55,
   "id": "a4691b27",
   "metadata": {
    "hidden": true
   },
   "outputs": [],
   "source": [
    "cpi_hpi_2022 = pd.merge(hpi_2022,cpi_2022,how = \"right\")"
   ]
  },
  {
   "cell_type": "code",
   "execution_count": 56,
   "id": "00369f47",
   "metadata": {
    "hidden": true
   },
   "outputs": [],
   "source": [
    "#cpi_hpi_2022['month'] = cpi_hpi_2022['ds'].dt.month"
   ]
  },
  {
   "cell_type": "code",
   "execution_count": 57,
   "id": "d838bc34",
   "metadata": {
    "hidden": true
   },
   "outputs": [],
   "source": [
    "#cpi_hpi_2022 = cpi_hpi_2022.set_index('month')"
   ]
  },
  {
   "cell_type": "code",
   "execution_count": 58,
   "id": "0b72b13c",
   "metadata": {
    "hidden": true
   },
   "outputs": [
    {
     "data": {
      "text/html": [
       "<div>\n",
       "<style scoped>\n",
       "    .dataframe tbody tr th:only-of-type {\n",
       "        vertical-align: middle;\n",
       "    }\n",
       "\n",
       "    .dataframe tbody tr th {\n",
       "        vertical-align: top;\n",
       "    }\n",
       "\n",
       "    .dataframe thead th {\n",
       "        text-align: right;\n",
       "    }\n",
       "</style>\n",
       "<table border=\"1\" class=\"dataframe\">\n",
       "  <thead>\n",
       "    <tr style=\"text-align: right;\">\n",
       "      <th></th>\n",
       "      <th>ds</th>\n",
       "      <th>hpi_actual_data</th>\n",
       "      <th>hpi_prediction</th>\n",
       "      <th>cpi_actual_data</th>\n",
       "      <th>cpi_prediction</th>\n",
       "    </tr>\n",
       "  </thead>\n",
       "  <tbody>\n",
       "    <tr>\n",
       "      <th>0</th>\n",
       "      <td>2022-01-01</td>\n",
       "      <td>282.03</td>\n",
       "      <td>283.18</td>\n",
       "      <td>281.93</td>\n",
       "      <td>282.58</td>\n",
       "    </tr>\n",
       "    <tr>\n",
       "      <th>1</th>\n",
       "      <td>2022-02-01</td>\n",
       "      <td>287.28</td>\n",
       "      <td>286.62</td>\n",
       "      <td>284.18</td>\n",
       "      <td>284.33</td>\n",
       "    </tr>\n",
       "    <tr>\n",
       "      <th>2</th>\n",
       "      <td>2022-03-01</td>\n",
       "      <td>295.05</td>\n",
       "      <td>291.18</td>\n",
       "      <td>287.71</td>\n",
       "      <td>285.74</td>\n",
       "    </tr>\n",
       "    <tr>\n",
       "      <th>3</th>\n",
       "      <td>2022-04-01</td>\n",
       "      <td>301.65</td>\n",
       "      <td>296.61</td>\n",
       "      <td>288.66</td>\n",
       "      <td>287.28</td>\n",
       "    </tr>\n",
       "    <tr>\n",
       "      <th>4</th>\n",
       "      <td>2022-05-01</td>\n",
       "      <td>306.64</td>\n",
       "      <td>301.58</td>\n",
       "      <td>291.47</td>\n",
       "      <td>289.02</td>\n",
       "    </tr>\n",
       "    <tr>\n",
       "      <th>5</th>\n",
       "      <td>2022-06-01</td>\n",
       "      <td>308.47</td>\n",
       "      <td>305.86</td>\n",
       "      <td>295.33</td>\n",
       "      <td>290.96</td>\n",
       "    </tr>\n",
       "    <tr>\n",
       "      <th>6</th>\n",
       "      <td>2022-07-01</td>\n",
       "      <td>307.45</td>\n",
       "      <td>309.07</td>\n",
       "      <td>295.27</td>\n",
       "      <td>292.26</td>\n",
       "    </tr>\n",
       "    <tr>\n",
       "      <th>7</th>\n",
       "      <td>2022-08-01</td>\n",
       "      <td>NaN</td>\n",
       "      <td>312.54</td>\n",
       "      <td>295.62</td>\n",
       "      <td>293.58</td>\n",
       "    </tr>\n",
       "    <tr>\n",
       "      <th>8</th>\n",
       "      <td>2022-09-01</td>\n",
       "      <td>NaN</td>\n",
       "      <td>315.34</td>\n",
       "      <td>NaN</td>\n",
       "      <td>294.68</td>\n",
       "    </tr>\n",
       "    <tr>\n",
       "      <th>9</th>\n",
       "      <td>2022-10-01</td>\n",
       "      <td>NaN</td>\n",
       "      <td>317.99</td>\n",
       "      <td>NaN</td>\n",
       "      <td>296.24</td>\n",
       "    </tr>\n",
       "    <tr>\n",
       "      <th>10</th>\n",
       "      <td>2022-11-01</td>\n",
       "      <td>NaN</td>\n",
       "      <td>320.79</td>\n",
       "      <td>NaN</td>\n",
       "      <td>297.78</td>\n",
       "    </tr>\n",
       "    <tr>\n",
       "      <th>11</th>\n",
       "      <td>2022-12-01</td>\n",
       "      <td>NaN</td>\n",
       "      <td>323.57</td>\n",
       "      <td>NaN</td>\n",
       "      <td>299.16</td>\n",
       "    </tr>\n",
       "  </tbody>\n",
       "</table>\n",
       "</div>"
      ],
      "text/plain": [
       "           ds  hpi_actual_data  hpi_prediction  cpi_actual_data  \\\n",
       "0  2022-01-01           282.03          283.18           281.93   \n",
       "1  2022-02-01           287.28          286.62           284.18   \n",
       "2  2022-03-01           295.05          291.18           287.71   \n",
       "3  2022-04-01           301.65          296.61           288.66   \n",
       "4  2022-05-01           306.64          301.58           291.47   \n",
       "5  2022-06-01           308.47          305.86           295.33   \n",
       "6  2022-07-01           307.45          309.07           295.27   \n",
       "7  2022-08-01              NaN          312.54           295.62   \n",
       "8  2022-09-01              NaN          315.34              NaN   \n",
       "9  2022-10-01              NaN          317.99              NaN   \n",
       "10 2022-11-01              NaN          320.79              NaN   \n",
       "11 2022-12-01              NaN          323.57              NaN   \n",
       "\n",
       "    cpi_prediction  \n",
       "0           282.58  \n",
       "1           284.33  \n",
       "2           285.74  \n",
       "3           287.28  \n",
       "4           289.02  \n",
       "5           290.96  \n",
       "6           292.26  \n",
       "7           293.58  \n",
       "8           294.68  \n",
       "9           296.24  \n",
       "10          297.78  \n",
       "11          299.16  "
      ]
     },
     "execution_count": 58,
     "metadata": {},
     "output_type": "execute_result"
    }
   ],
   "source": [
    "cpi_hpi_2022.round(2)"
   ]
  },
  {
   "cell_type": "code",
   "execution_count": 59,
   "id": "60e59491",
   "metadata": {
    "hidden": true
   },
   "outputs": [
    {
     "data": {
      "text/html": [
       "<div>\n",
       "<style scoped>\n",
       "    .dataframe tbody tr th:only-of-type {\n",
       "        vertical-align: middle;\n",
       "    }\n",
       "\n",
       "    .dataframe tbody tr th {\n",
       "        vertical-align: top;\n",
       "    }\n",
       "\n",
       "    .dataframe thead th {\n",
       "        text-align: right;\n",
       "    }\n",
       "</style>\n",
       "<table border=\"1\" class=\"dataframe\">\n",
       "  <thead>\n",
       "    <tr style=\"text-align: right;\">\n",
       "      <th></th>\n",
       "      <th>ds</th>\n",
       "      <th>hpi_actual_data</th>\n",
       "      <th>hpi_prediction</th>\n",
       "      <th>cpi_actual_data</th>\n",
       "      <th>cpi_prediction</th>\n",
       "    </tr>\n",
       "  </thead>\n",
       "  <tbody>\n",
       "    <tr>\n",
       "      <th>0</th>\n",
       "      <td>2022-01-01</td>\n",
       "      <td>282.026</td>\n",
       "      <td>283.178883</td>\n",
       "      <td>281.933</td>\n",
       "      <td>282.580933</td>\n",
       "    </tr>\n",
       "    <tr>\n",
       "      <th>1</th>\n",
       "      <td>2022-02-01</td>\n",
       "      <td>287.279</td>\n",
       "      <td>286.615477</td>\n",
       "      <td>284.182</td>\n",
       "      <td>284.327328</td>\n",
       "    </tr>\n",
       "    <tr>\n",
       "      <th>2</th>\n",
       "      <td>2022-03-01</td>\n",
       "      <td>295.054</td>\n",
       "      <td>291.176937</td>\n",
       "      <td>287.708</td>\n",
       "      <td>285.742920</td>\n",
       "    </tr>\n",
       "    <tr>\n",
       "      <th>3</th>\n",
       "      <td>2022-04-01</td>\n",
       "      <td>301.655</td>\n",
       "      <td>296.612200</td>\n",
       "      <td>288.663</td>\n",
       "      <td>287.284430</td>\n",
       "    </tr>\n",
       "    <tr>\n",
       "      <th>4</th>\n",
       "      <td>2022-05-01</td>\n",
       "      <td>306.639</td>\n",
       "      <td>301.583961</td>\n",
       "      <td>291.474</td>\n",
       "      <td>289.020531</td>\n",
       "    </tr>\n",
       "  </tbody>\n",
       "</table>\n",
       "</div>"
      ],
      "text/plain": [
       "          ds  hpi_actual_data  hpi_prediction  cpi_actual_data  cpi_prediction\n",
       "0 2022-01-01          282.026      283.178883          281.933      282.580933\n",
       "1 2022-02-01          287.279      286.615477          284.182      284.327328\n",
       "2 2022-03-01          295.054      291.176937          287.708      285.742920\n",
       "3 2022-04-01          301.655      296.612200          288.663      287.284430\n",
       "4 2022-05-01          306.639      301.583961          291.474      289.020531"
      ]
     },
     "execution_count": 59,
     "metadata": {},
     "output_type": "execute_result"
    }
   ],
   "source": [
    "cpi_hpi_2022.head()"
   ]
  },
  {
   "cell_type": "code",
   "execution_count": 60,
   "id": "f92c61aa",
   "metadata": {
    "hidden": true
   },
   "outputs": [],
   "source": [
    "#cpi_hpi_2022 = cpi_hpi_2022.round(2).T\n",
    "#pi_hpi_2022.head()"
   ]
  },
  {
   "cell_type": "code",
   "execution_count": 61,
   "id": "9028d85a",
   "metadata": {
    "hidden": true
   },
   "outputs": [],
   "source": [
    "#cpi_hpi_2022.round(2).to_excel('cpi_hpi_2022_2.xlsx', index=False) "
   ]
  },
  {
   "cell_type": "code",
   "execution_count": 62,
   "id": "a61ba1a9",
   "metadata": {
    "hidden": true
   },
   "outputs": [],
   "source": [
    "cpi_hpi_2022.reset_index(drop=True, inplace=True)"
   ]
  },
  {
   "cell_type": "markdown",
   "id": "efaa00c2",
   "metadata": {},
   "source": [
    "# Data Analysis"
   ]
  },
  {
   "cell_type": "markdown",
   "id": "cdb782c2",
   "metadata": {},
   "source": [
    "## 2022 Table: CPI & HPI"
   ]
  },
  {
   "cell_type": "markdown",
   "id": "9de85fe3",
   "metadata": {},
   "source": [
    "Table of CPI & HPI for 2022, Actual & Predicted."
   ]
  },
  {
   "cell_type": "code",
   "execution_count": 63,
   "id": "c3cb3e03",
   "metadata": {},
   "outputs": [
    {
     "data": {
      "text/html": [
       "<div>\n",
       "<style scoped>\n",
       "    .dataframe tbody tr th:only-of-type {\n",
       "        vertical-align: middle;\n",
       "    }\n",
       "\n",
       "    .dataframe tbody tr th {\n",
       "        vertical-align: top;\n",
       "    }\n",
       "\n",
       "    .dataframe thead th {\n",
       "        text-align: right;\n",
       "    }\n",
       "</style>\n",
       "<table border=\"1\" class=\"dataframe\">\n",
       "  <thead>\n",
       "    <tr style=\"text-align: right;\">\n",
       "      <th></th>\n",
       "      <th>ds</th>\n",
       "      <th>hpi_actual_data</th>\n",
       "      <th>hpi_prediction</th>\n",
       "      <th>cpi_actual_data</th>\n",
       "      <th>cpi_prediction</th>\n",
       "    </tr>\n",
       "  </thead>\n",
       "  <tbody>\n",
       "    <tr>\n",
       "      <th>0</th>\n",
       "      <td>2022-01-01</td>\n",
       "      <td>282.026</td>\n",
       "      <td>283.178883</td>\n",
       "      <td>281.933</td>\n",
       "      <td>282.580933</td>\n",
       "    </tr>\n",
       "    <tr>\n",
       "      <th>1</th>\n",
       "      <td>2022-02-01</td>\n",
       "      <td>287.279</td>\n",
       "      <td>286.615477</td>\n",
       "      <td>284.182</td>\n",
       "      <td>284.327328</td>\n",
       "    </tr>\n",
       "    <tr>\n",
       "      <th>2</th>\n",
       "      <td>2022-03-01</td>\n",
       "      <td>295.054</td>\n",
       "      <td>291.176937</td>\n",
       "      <td>287.708</td>\n",
       "      <td>285.742920</td>\n",
       "    </tr>\n",
       "    <tr>\n",
       "      <th>3</th>\n",
       "      <td>2022-04-01</td>\n",
       "      <td>301.655</td>\n",
       "      <td>296.612200</td>\n",
       "      <td>288.663</td>\n",
       "      <td>287.284430</td>\n",
       "    </tr>\n",
       "    <tr>\n",
       "      <th>4</th>\n",
       "      <td>2022-05-01</td>\n",
       "      <td>306.639</td>\n",
       "      <td>301.583961</td>\n",
       "      <td>291.474</td>\n",
       "      <td>289.020531</td>\n",
       "    </tr>\n",
       "    <tr>\n",
       "      <th>5</th>\n",
       "      <td>2022-06-01</td>\n",
       "      <td>308.468</td>\n",
       "      <td>305.859794</td>\n",
       "      <td>295.328</td>\n",
       "      <td>290.962946</td>\n",
       "    </tr>\n",
       "    <tr>\n",
       "      <th>6</th>\n",
       "      <td>2022-07-01</td>\n",
       "      <td>307.447</td>\n",
       "      <td>309.067466</td>\n",
       "      <td>295.271</td>\n",
       "      <td>292.255947</td>\n",
       "    </tr>\n",
       "    <tr>\n",
       "      <th>7</th>\n",
       "      <td>2022-08-01</td>\n",
       "      <td>NaN</td>\n",
       "      <td>312.537661</td>\n",
       "      <td>295.620</td>\n",
       "      <td>293.584330</td>\n",
       "    </tr>\n",
       "    <tr>\n",
       "      <th>8</th>\n",
       "      <td>2022-09-01</td>\n",
       "      <td>NaN</td>\n",
       "      <td>315.336927</td>\n",
       "      <td>NaN</td>\n",
       "      <td>294.677919</td>\n",
       "    </tr>\n",
       "    <tr>\n",
       "      <th>9</th>\n",
       "      <td>2022-10-01</td>\n",
       "      <td>NaN</td>\n",
       "      <td>317.987271</td>\n",
       "      <td>NaN</td>\n",
       "      <td>296.244891</td>\n",
       "    </tr>\n",
       "    <tr>\n",
       "      <th>10</th>\n",
       "      <td>2022-11-01</td>\n",
       "      <td>NaN</td>\n",
       "      <td>320.786396</td>\n",
       "      <td>NaN</td>\n",
       "      <td>297.780750</td>\n",
       "    </tr>\n",
       "    <tr>\n",
       "      <th>11</th>\n",
       "      <td>2022-12-01</td>\n",
       "      <td>NaN</td>\n",
       "      <td>323.565026</td>\n",
       "      <td>NaN</td>\n",
       "      <td>299.161645</td>\n",
       "    </tr>\n",
       "  </tbody>\n",
       "</table>\n",
       "</div>"
      ],
      "text/plain": [
       "           ds  hpi_actual_data  hpi_prediction  cpi_actual_data  \\\n",
       "0  2022-01-01          282.026      283.178883          281.933   \n",
       "1  2022-02-01          287.279      286.615477          284.182   \n",
       "2  2022-03-01          295.054      291.176937          287.708   \n",
       "3  2022-04-01          301.655      296.612200          288.663   \n",
       "4  2022-05-01          306.639      301.583961          291.474   \n",
       "5  2022-06-01          308.468      305.859794          295.328   \n",
       "6  2022-07-01          307.447      309.067466          295.271   \n",
       "7  2022-08-01              NaN      312.537661          295.620   \n",
       "8  2022-09-01              NaN      315.336927              NaN   \n",
       "9  2022-10-01              NaN      317.987271              NaN   \n",
       "10 2022-11-01              NaN      320.786396              NaN   \n",
       "11 2022-12-01              NaN      323.565026              NaN   \n",
       "\n",
       "    cpi_prediction  \n",
       "0       282.580933  \n",
       "1       284.327328  \n",
       "2       285.742920  \n",
       "3       287.284430  \n",
       "4       289.020531  \n",
       "5       290.962946  \n",
       "6       292.255947  \n",
       "7       293.584330  \n",
       "8       294.677919  \n",
       "9       296.244891  \n",
       "10      297.780750  \n",
       "11      299.161645  "
      ]
     },
     "execution_count": 63,
     "metadata": {},
     "output_type": "execute_result"
    }
   ],
   "source": [
    "cpi_hpi_2022"
   ]
  },
  {
   "cell_type": "code",
   "execution_count": 64,
   "id": "44de3343",
   "metadata": {},
   "outputs": [
    {
     "data": {
      "text/html": [
       "<div>\n",
       "<style scoped>\n",
       "    .dataframe tbody tr th:only-of-type {\n",
       "        vertical-align: middle;\n",
       "    }\n",
       "\n",
       "    .dataframe tbody tr th {\n",
       "        vertical-align: top;\n",
       "    }\n",
       "\n",
       "    .dataframe thead th {\n",
       "        text-align: right;\n",
       "    }\n",
       "</style>\n",
       "<table border=\"1\" class=\"dataframe\">\n",
       "  <thead>\n",
       "    <tr style=\"text-align: right;\">\n",
       "      <th></th>\n",
       "      <th>ds</th>\n",
       "      <th>hpi_actual_data</th>\n",
       "      <th>hpi_prediction</th>\n",
       "      <th>cpi_actual_data</th>\n",
       "      <th>cpi_prediction</th>\n",
       "    </tr>\n",
       "  </thead>\n",
       "  <tbody>\n",
       "    <tr>\n",
       "      <th>count</th>\n",
       "      <td>12</td>\n",
       "      <td>7.000000</td>\n",
       "      <td>12.000000</td>\n",
       "      <td>8.000000</td>\n",
       "      <td>12.000000</td>\n",
       "    </tr>\n",
       "    <tr>\n",
       "      <th>unique</th>\n",
       "      <td>12</td>\n",
       "      <td>NaN</td>\n",
       "      <td>NaN</td>\n",
       "      <td>NaN</td>\n",
       "      <td>NaN</td>\n",
       "    </tr>\n",
       "    <tr>\n",
       "      <th>top</th>\n",
       "      <td>2022-01-01 00:00:00</td>\n",
       "      <td>NaN</td>\n",
       "      <td>NaN</td>\n",
       "      <td>NaN</td>\n",
       "      <td>NaN</td>\n",
       "    </tr>\n",
       "    <tr>\n",
       "      <th>freq</th>\n",
       "      <td>1</td>\n",
       "      <td>NaN</td>\n",
       "      <td>NaN</td>\n",
       "      <td>NaN</td>\n",
       "      <td>NaN</td>\n",
       "    </tr>\n",
       "    <tr>\n",
       "      <th>first</th>\n",
       "      <td>2022-01-01 00:00:00</td>\n",
       "      <td>NaN</td>\n",
       "      <td>NaN</td>\n",
       "      <td>NaN</td>\n",
       "      <td>NaN</td>\n",
       "    </tr>\n",
       "    <tr>\n",
       "      <th>last</th>\n",
       "      <td>2022-12-01 00:00:00</td>\n",
       "      <td>NaN</td>\n",
       "      <td>NaN</td>\n",
       "      <td>NaN</td>\n",
       "      <td>NaN</td>\n",
       "    </tr>\n",
       "    <tr>\n",
       "      <th>mean</th>\n",
       "      <td>NaN</td>\n",
       "      <td>298.366857</td>\n",
       "      <td>305.359000</td>\n",
       "      <td>290.022375</td>\n",
       "      <td>291.135381</td>\n",
       "    </tr>\n",
       "    <tr>\n",
       "      <th>std</th>\n",
       "      <td>NaN</td>\n",
       "      <td>10.525062</td>\n",
       "      <td>13.582069</td>\n",
       "      <td>5.290025</td>\n",
       "      <td>5.414043</td>\n",
       "    </tr>\n",
       "    <tr>\n",
       "      <th>min</th>\n",
       "      <td>NaN</td>\n",
       "      <td>282.026000</td>\n",
       "      <td>283.178883</td>\n",
       "      <td>281.933000</td>\n",
       "      <td>282.580933</td>\n",
       "    </tr>\n",
       "    <tr>\n",
       "      <th>25%</th>\n",
       "      <td>NaN</td>\n",
       "      <td>291.166500</td>\n",
       "      <td>295.253384</td>\n",
       "      <td>286.826500</td>\n",
       "      <td>286.899053</td>\n",
       "    </tr>\n",
       "    <tr>\n",
       "      <th>50%</th>\n",
       "      <td>NaN</td>\n",
       "      <td>301.655000</td>\n",
       "      <td>307.463630</td>\n",
       "      <td>290.068500</td>\n",
       "      <td>291.609447</td>\n",
       "    </tr>\n",
       "    <tr>\n",
       "      <th>75%</th>\n",
       "      <td>NaN</td>\n",
       "      <td>307.043000</td>\n",
       "      <td>315.999513</td>\n",
       "      <td>295.285250</td>\n",
       "      <td>295.069662</td>\n",
       "    </tr>\n",
       "    <tr>\n",
       "      <th>max</th>\n",
       "      <td>NaN</td>\n",
       "      <td>308.468000</td>\n",
       "      <td>323.565026</td>\n",
       "      <td>295.620000</td>\n",
       "      <td>299.161645</td>\n",
       "    </tr>\n",
       "  </tbody>\n",
       "</table>\n",
       "</div>"
      ],
      "text/plain": [
       "                         ds  hpi_actual_data  hpi_prediction  cpi_actual_data  \\\n",
       "count                    12         7.000000       12.000000         8.000000   \n",
       "unique                   12              NaN             NaN              NaN   \n",
       "top     2022-01-01 00:00:00              NaN             NaN              NaN   \n",
       "freq                      1              NaN             NaN              NaN   \n",
       "first   2022-01-01 00:00:00              NaN             NaN              NaN   \n",
       "last    2022-12-01 00:00:00              NaN             NaN              NaN   \n",
       "mean                    NaN       298.366857      305.359000       290.022375   \n",
       "std                     NaN        10.525062       13.582069         5.290025   \n",
       "min                     NaN       282.026000      283.178883       281.933000   \n",
       "25%                     NaN       291.166500      295.253384       286.826500   \n",
       "50%                     NaN       301.655000      307.463630       290.068500   \n",
       "75%                     NaN       307.043000      315.999513       295.285250   \n",
       "max                     NaN       308.468000      323.565026       295.620000   \n",
       "\n",
       "        cpi_prediction  \n",
       "count        12.000000  \n",
       "unique             NaN  \n",
       "top                NaN  \n",
       "freq               NaN  \n",
       "first              NaN  \n",
       "last               NaN  \n",
       "mean        291.135381  \n",
       "std           5.414043  \n",
       "min         282.580933  \n",
       "25%         286.899053  \n",
       "50%         291.609447  \n",
       "75%         295.069662  \n",
       "max         299.161645  "
      ]
     },
     "execution_count": 64,
     "metadata": {},
     "output_type": "execute_result"
    }
   ],
   "source": [
    "cpi_hpi_2022.describe(include='all')"
   ]
  },
  {
   "cell_type": "code",
   "execution_count": 65,
   "id": "b36af791",
   "metadata": {},
   "outputs": [],
   "source": [
    "def current_data(df):\n",
    "    print('**Data Type**')\n",
    "    print(df.info())\n",
    "    print('**5 rows**')\n",
    "    print(df.head())\n",
    "    print('-------------------------------------------------------------------------------------------------------------')\n",
    "    print('**Statistic data**')\n",
    "    print(df.describe(include = 'all'))\n",
    "    print('-------------------------------------------------------------------------------------------------------------')\n",
    "    print('**Number of duplicates**')\n",
    "    print(df.duplicated().sum())\n",
    "    print('-------------------------------------------------------------------------------------------------------------')\n",
    "    print('**Percentage of missing values**')\n",
    "    print((df.isna().sum()/len(df)*100))\n",
    "    print('-------------------------------------------------------------------------------------------------------------')\n",
    "    #print('**Number of unique values**')\n",
    "    #print(df.nunique())\n",
    "    #for column in df.columns:\n",
    "    #    print('\\n', 'Unique values:', column)\n",
    "    #    print(df[column].unique())"
   ]
  },
  {
   "cell_type": "code",
   "execution_count": 66,
   "id": "4c1bb437",
   "metadata": {},
   "outputs": [
    {
     "name": "stdout",
     "output_type": "stream",
     "text": [
      "**Data Type**\n",
      "<class 'pandas.core.frame.DataFrame'>\n",
      "RangeIndex: 12 entries, 0 to 11\n",
      "Data columns (total 5 columns):\n",
      " #   Column           Non-Null Count  Dtype         \n",
      "---  ------           --------------  -----         \n",
      " 0   ds               12 non-null     datetime64[ns]\n",
      " 1   hpi_actual_data  7 non-null      float64       \n",
      " 2   hpi_prediction   12 non-null     float64       \n",
      " 3   cpi_actual_data  8 non-null      float64       \n",
      " 4   cpi_prediction   12 non-null     float64       \n",
      "dtypes: datetime64[ns](1), float64(4)\n",
      "memory usage: 608.0 bytes\n",
      "None\n",
      "**5 rows**\n",
      "          ds  hpi_actual_data  hpi_prediction  cpi_actual_data  cpi_prediction\n",
      "0 2022-01-01          282.026      283.178883          281.933      282.580933\n",
      "1 2022-02-01          287.279      286.615477          284.182      284.327328\n",
      "2 2022-03-01          295.054      291.176937          287.708      285.742920\n",
      "3 2022-04-01          301.655      296.612200          288.663      287.284430\n",
      "4 2022-05-01          306.639      301.583961          291.474      289.020531\n",
      "-------------------------------------------------------------------------------------------------------------\n",
      "**Statistic data**\n",
      "                         ds  hpi_actual_data  hpi_prediction  cpi_actual_data  \\\n",
      "count                    12         7.000000       12.000000         8.000000   \n",
      "unique                   12              NaN             NaN              NaN   \n",
      "top     2022-01-01 00:00:00              NaN             NaN              NaN   \n",
      "freq                      1              NaN             NaN              NaN   \n",
      "first   2022-01-01 00:00:00              NaN             NaN              NaN   \n",
      "last    2022-12-01 00:00:00              NaN             NaN              NaN   \n",
      "mean                    NaN       298.366857      305.359000       290.022375   \n",
      "std                     NaN        10.525062       13.582069         5.290025   \n",
      "min                     NaN       282.026000      283.178883       281.933000   \n",
      "25%                     NaN       291.166500      295.253384       286.826500   \n",
      "50%                     NaN       301.655000      307.463630       290.068500   \n",
      "75%                     NaN       307.043000      315.999513       295.285250   \n",
      "max                     NaN       308.468000      323.565026       295.620000   \n",
      "\n",
      "        cpi_prediction  \n",
      "count        12.000000  \n",
      "unique             NaN  \n",
      "top                NaN  \n",
      "freq               NaN  \n",
      "first              NaN  \n",
      "last               NaN  \n",
      "mean        291.135381  \n",
      "std           5.414043  \n",
      "min         282.580933  \n",
      "25%         286.899053  \n",
      "50%         291.609447  \n",
      "75%         295.069662  \n",
      "max         299.161645  \n",
      "-------------------------------------------------------------------------------------------------------------\n",
      "**Number of duplicates**\n",
      "0\n",
      "-------------------------------------------------------------------------------------------------------------\n",
      "**Percentage of missing values**\n",
      "ds                  0.000000\n",
      "hpi_actual_data    41.666667\n",
      "hpi_prediction      0.000000\n",
      "cpi_actual_data    33.333333\n",
      "cpi_prediction      0.000000\n",
      "dtype: float64\n",
      "-------------------------------------------------------------------------------------------------------------\n",
      "None\n"
     ]
    }
   ],
   "source": [
    "print(current_data(cpi_hpi_2022))"
   ]
  },
  {
   "cell_type": "markdown",
   "id": "3607c68f",
   "metadata": {},
   "source": [
    "## 2022 Graphs: CPI & HPI"
   ]
  },
  {
   "cell_type": "markdown",
   "id": "37d941b1",
   "metadata": {},
   "source": [
    "### Predicted HPI vs Actual HPI"
   ]
  },
  {
   "cell_type": "code",
   "execution_count": 67,
   "id": "ee6b5e07",
   "metadata": {},
   "outputs": [
    {
     "name": "stdout",
     "output_type": "stream",
     "text": [
      "Predicted HPI vs Actual HPI\n"
     ]
    },
    {
     "data": {
      "text/plain": [
       "<matplotlib.legend.Legend at 0x7f8c63e156a0>"
      ]
     },
     "execution_count": 67,
     "metadata": {},
     "output_type": "execute_result"
    },
    {
     "data": {
      "image/png": "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\n",
      "text/plain": [
       "<Figure size 720x432 with 1 Axes>"
      ]
     },
     "metadata": {
      "needs_background": "light"
     },
     "output_type": "display_data"
    }
   ],
   "source": [
    "plt.figure(figsize=(10,6))\n",
    "plt.plot(hpi_2022['hpi_prediction'],label=\"Predicted HPI: August 2022 - December 2022\")\n",
    "plt.plot(hpi_2022['hpi_actual_data'],label=\"Actual HPI\")\n",
    "plt.title(\"Predicted HPI vs Actual HPI\")\n",
    "print('Predicted HPI vs Actual HPI')\n",
    "plt.legend()"
   ]
  },
  {
   "cell_type": "markdown",
   "id": "ccee17ea",
   "metadata": {},
   "source": [
    "**Predicted HPI vs Actual HPI**\n",
    "* The difference between Predicted HPI and Actual HPI has been insignificant until March 2022. \n",
    "* The observed values were significantly higher than the values predicted by the Machine Learning model from March 2022 until June 2022."
   ]
  },
  {
   "cell_type": "markdown",
   "id": "8cc77e10",
   "metadata": {},
   "source": [
    ">Q:\n",
    "Actual HPI was higher than Predicted HPI **February 2022 until June 2022**. Actual CPI had similar perfomance compared to Predicted CPI during the same month. Is that a coincidence or did special events stabilize home prices while pushing inflation up? \n",
    "\n",
    ">A: Monthly US GDP rose 0.2% **in June following declines in five of the seven prior months**. Could the growth in GDP cause inflation?\n",
    ">> Further research is needed."
   ]
  },
  {
   "cell_type": "markdown",
   "id": "e05490c9",
   "metadata": {},
   "source": [
    "### Predicted CPI vs Actual CPI"
   ]
  },
  {
   "cell_type": "code",
   "execution_count": 68,
   "id": "31972cba",
   "metadata": {},
   "outputs": [
    {
     "name": "stdout",
     "output_type": "stream",
     "text": [
      "Predicted CPI vs Actual CPI\n"
     ]
    },
    {
     "data": {
      "text/plain": [
       "<matplotlib.legend.Legend at 0x7f8c6437b940>"
      ]
     },
     "execution_count": 68,
     "metadata": {},
     "output_type": "execute_result"
    },
    {
     "data": {
      "image/png": "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\n",
      "text/plain": [
       "<Figure size 720x432 with 1 Axes>"
      ]
     },
     "metadata": {
      "needs_background": "light"
     },
     "output_type": "display_data"
    }
   ],
   "source": [
    "plt.figure(figsize=(10,6))\n",
    "plt.plot(cpi_2022['cpi_prediction'],label=\"Predicted CPI: September 2022 - December 2022\")\n",
    "plt.plot(cpi_2022['cpi_actual_data'],label=\"Actual CPI\")\n",
    "plt.title(\"Predicted CPI vs Actual CPI\")\n",
    "print('Predicted CPI vs Actual CPI')\n",
    "plt.legend()"
   ]
  },
  {
   "cell_type": "markdown",
   "id": "135252e3",
   "metadata": {},
   "source": [
    "**Predicted CPI vs Actual CPI**\n",
    "\n",
    "* Predicted CPI values corresponded correctly to Actual CPI. \n",
    "* However, in June 2022 the Actual CPI was significantly higher than the Predicted CPI values."
   ]
  },
  {
   "cell_type": "markdown",
   "id": "b2d70be4",
   "metadata": {},
   "source": [
    "### Actual CPI vs Actual HPI"
   ]
  },
  {
   "cell_type": "code",
   "execution_count": 69,
   "id": "5c88767b",
   "metadata": {},
   "outputs": [
    {
     "name": "stdout",
     "output_type": "stream",
     "text": [
      "Actual CPI vs Actual HPI: January 2022 - August 2022\n"
     ]
    },
    {
     "data": {
      "text/plain": [
       "<matplotlib.legend.Legend at 0x7f8c645921c0>"
      ]
     },
     "execution_count": 69,
     "metadata": {},
     "output_type": "execute_result"
    },
    {
     "data": {
      "image/png": "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\n",
      "text/plain": [
       "<Figure size 720x432 with 1 Axes>"
      ]
     },
     "metadata": {
      "needs_background": "light"
     },
     "output_type": "display_data"
    }
   ],
   "source": [
    "plt.figure(figsize=(10,6))\n",
    "plt.plot(cpi_hpi_2022['cpi_actual_data'],label=\"Actual CPI\")\n",
    "plt.plot(cpi_hpi_2022['hpi_actual_data'],label=\"Actual HPI\")\n",
    "plt.title(\"Actual CPI vs Actual HPI: 2022\")\n",
    "print('Actual CPI vs Actual HPI: January 2022 - August 2022')\n",
    "plt.legend()"
   ]
  },
  {
   "cell_type": "markdown",
   "id": "517f74dd",
   "metadata": {},
   "source": [
    "**Actual CPI vs Actual HPI: January 2022 - August 2022**\n",
    "\n",
    "* Q1: Graph shows growth in home prices compared to the trend in consumer prices.\n",
    "* Q2: Home prices grow much faster than inflation.\n",
    "* Q3: The beginning of Q1 shows a slowing trend in both CPI & HPI."
   ]
  },
  {
   "cell_type": "markdown",
   "id": "7719a7cd",
   "metadata": {},
   "source": [
    "### Predicted CPI vs Predicted HPI"
   ]
  },
  {
   "cell_type": "code",
   "execution_count": 70,
   "id": "547956aa",
   "metadata": {},
   "outputs": [
    {
     "name": "stdout",
     "output_type": "stream",
     "text": [
      "Predicted CPI vs Predicted HPI: January 2022 - December 2022\n"
     ]
    },
    {
     "data": {
      "text/plain": [
       "<matplotlib.legend.Legend at 0x7f8c64701370>"
      ]
     },
     "execution_count": 70,
     "metadata": {},
     "output_type": "execute_result"
    },
    {
     "data": {
      "image/png": "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\n",
      "text/plain": [
       "<Figure size 720x432 with 1 Axes>"
      ]
     },
     "metadata": {
      "needs_background": "light"
     },
     "output_type": "display_data"
    }
   ],
   "source": [
    "plt.figure(figsize=(10,6))\n",
    "plt.plot(cpi_2022['cpi_prediction'],label=\"Predicted CPI\")\n",
    "plt.plot(hpi_2022['hpi_prediction'],label=\"Predicted HPI\")\n",
    "plt.title(\"Predicted CPI vs Predicted HPI: 2022\")\n",
    "print('Predicted CPI vs Predicted HPI: January 2022 - December 2022')\n",
    "plt.legend()"
   ]
  },
  {
   "cell_type": "markdown",
   "id": "0b8739be",
   "metadata": {},
   "source": [
    "**Predicted CPI vs Predicted HPI: January 2022 - December 2022**\n",
    "\n",
    "* Q1: Graph shows growth in home prices compared to the trend in consumer prices.\n",
    "* Q2: Home prices grow faster than inflation.\n",
    "* Q3: The difference in performance is increasing further.\n",
    "* Q4: Home prices continue to skyrocket, growing faster than inflation."
   ]
  },
  {
   "cell_type": "markdown",
   "id": "1eced65b",
   "metadata": {},
   "source": [
    "### CPI Forecast: 2012-2022"
   ]
  },
  {
   "cell_type": "code",
   "execution_count": 71,
   "id": "105e4f0b",
   "metadata": {},
   "outputs": [
    {
     "name": "stdout",
     "output_type": "stream",
     "text": [
      "Blue line: Forecast CPI.\n",
      "Black dots: Actual CPI.\n",
      "Period: 2012-2022\n"
     ]
    },
    {
     "data": {
      "image/png": "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\n",
      "text/plain": [
       "<Figure size 720x432 with 1 Axes>"
      ]
     },
     "execution_count": 71,
     "metadata": {},
     "output_type": "execute_result"
    }
   ],
   "source": [
    "print('Blue line: Forecast CPI.')\n",
    "print('Black dots: Actual CPI.')\n",
    "print('Period: 2012-2022')\n",
    "fig1"
   ]
  },
  {
   "cell_type": "markdown",
   "id": "a09a8e73",
   "metadata": {},
   "source": [
    "CPI Machine Learning model has demonstrated great predictive performance."
   ]
  },
  {
   "cell_type": "markdown",
   "id": "c741874f",
   "metadata": {},
   "source": [
    "### HPI Forecast: 2012-2022"
   ]
  },
  {
   "cell_type": "code",
   "execution_count": 72,
   "id": "21cd4add",
   "metadata": {},
   "outputs": [
    {
     "name": "stdout",
     "output_type": "stream",
     "text": [
      "Blue line: Forecast HPI.\n",
      "Black dots: Actual HPI.\n",
      "Period: 2012-2022\n"
     ]
    },
    {
     "data": {
      "image/png": "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\n",
      "text/plain": [
       "<Figure size 720x432 with 1 Axes>"
      ]
     },
     "execution_count": 72,
     "metadata": {},
     "output_type": "execute_result"
    }
   ],
   "source": [
    "print('Blue line: Forecast HPI.')\n",
    "print('Black dots: Actual HPI.')\n",
    "print('Period: 2012-2022')\n",
    "fig3"
   ]
  },
  {
   "cell_type": "markdown",
   "id": "fd769a25",
   "metadata": {},
   "source": [
    "HPI Machine Learning model has demonstrated great predictive performance."
   ]
  },
  {
   "cell_type": "markdown",
   "id": "788b21ba",
   "metadata": {},
   "source": [
    "# Conclusion"
   ]
  },
  {
   "cell_type": "code",
   "execution_count": 73,
   "id": "33e7a362",
   "metadata": {},
   "outputs": [
    {
     "name": "stdout",
     "output_type": "stream",
     "text": [
      "2022: CPI & HPI. Actual & Predicted data combined.\n"
     ]
    },
    {
     "data": {
      "text/plain": [
       "<matplotlib.legend.Legend at 0x7f8c64994b50>"
      ]
     },
     "execution_count": 73,
     "metadata": {},
     "output_type": "execute_result"
    },
    {
     "data": {
      "image/png": "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\n",
      "text/plain": [
       "<Figure size 720x432 with 1 Axes>"
      ]
     },
     "metadata": {
      "needs_background": "light"
     },
     "output_type": "display_data"
    }
   ],
   "source": [
    "plt.figure(figsize=(10,6))\n",
    "plt.plot(cpi_hpi_2022['hpi_prediction'], label=\"Predicted HPI: August 2022 - December 2022\")\n",
    "plt.plot(cpi_hpi_2022['hpi_actual_data'],label=\"Actual HPI: January 2022 - July 2022\")\n",
    "plt.plot(cpi_hpi_2022['cpi_prediction'], label=\"Predicted CPI: September 2022 - December 2022\")\n",
    "plt.plot(cpi_hpi_2022['cpi_actual_data'],label=\"Actual CPI: January 2022 - August 2022\")\n",
    "plt.title(\"2022: CPI & HPI. Actual & Predicted data combined.\")\n",
    "print('2022: CPI & HPI. Actual & Predicted data combined.')\n",
    "plt.legend()"
   ]
  },
  {
   "cell_type": "markdown",
   "id": "901b3c1d",
   "metadata": {},
   "source": [
    "> **The CPI will continue to fall behind the growth of HPI during entire 2022**.\n",
    "\n",
    "Greater growth in home prices compared to the trend in consumer prices is proven by data analysis in this project. \n",
    "* That is, home prices grow faster than inflation.\n",
    "___"
   ]
  },
  {
   "cell_type": "markdown",
   "id": "b99d941b",
   "metadata": {},
   "source": [
    "## Insights"
   ]
  },
  {
   "cell_type": "markdown",
   "id": "64d830d1",
   "metadata": {},
   "source": [
    "Growing HPI trend will most probably continue until the end of the year 2022. That is proven by predicted data:\n",
    "* Predicted values for July 2022: HPI (309.06) vs CPI (292.25)\n",
    "* Predicted values for December 2022: HPI (323.56, 4.69% increase) vs CPI (299.16, 2.36% increase)\n",
    "\n",
    "\n",
    "* The Consumer Price Index has been linearly increasing since 1947.\n",
    "* CPI's peak months: February and October.\n",
    "* The Home Price Index has been linearly increasing since 1987.\n",
    "* HPI's peak months: March, April, May and December."
   ]
  },
  {
   "cell_type": "markdown",
   "id": "10f629fb",
   "metadata": {},
   "source": [
    ">Q: **Why is the HPI skyrocketing?** \n",
    "\n",
    ">A: 1. Covid19: work from home. 2. The low supply of houses for sale in 2022 > Investment purchases 2021-2022. The number of houses for sale = (the number of houses put up for sale - the number of houses sold). Investors are buying the houses for many reasons, including the rise of short-term rentals and  government incentives (tax breaks)."
   ]
  },
  {
   "cell_type": "markdown",
   "id": "c6bed79d",
   "metadata": {},
   "source": [
    "  <tr>\n",
    "    <td> <img src=\"https://raw.githubusercontent.com/GVRQ/US_HPI_vs_CPI_2022/main/Investor%20Market%20Share%20by%20Metro.png\" alt=\"Graph_1\" style=\"width: 500px;\"/> </td>\n",
    "    <td> <img src=\"https://raw.githubusercontent.com/GVRQ/US_HPI_vs_CPI_2022/main/Investor%20Market%20Share%20by%20Metro-2.png\" alt=\"Graph_2\" style=\"width: 500px;\"/> </td>\n",
    "    </tr>"
   ]
  },
  {
   "cell_type": "markdown",
   "id": "b3ebad1c",
   "metadata": {},
   "source": [
    "___\n",
    "<p><img style=\"display: block; margin-left: auto; margin-right: auto;\" src=\"https://avatars.githubusercontent.com/u/99581812?v=4\" alt=\"\" width=\"89\" height=\"89\" /></p>\n",
    "<p style=\"text-align: center;\">Connect with me:</p>\n",
    "<p style=\"text-align: center;\"><a href=\"https://t.me/gavrilov_se\" target=\"blank\"><img src=\"https://www.svgrepo.com/show/349527/telegram.svg\" alt=\"Telegram_Alexander_Gavrilov_Data_Scientist\" width=\"40\" height=\"30\" align=\"center\" /></a></p>\n"
    "<p style=\"text-align: center;\"><a href=\"https://github.com/GVRQ\" target=\"blank\"><img src=\"https://github.githubassets.com/images/modules/logos_page/GitHub-Logo.png\" alt=\"GitHub_Alexander-Gavrilov_Data-Scientist\" width=\"40\" height=\"30\" align=\"center\" /></a></p>\n"
   ]
  }
 ],
 "metadata": {
  "kernelspec": {
   "display_name": "Python 3 (ipykernel)",
   "language": "python",
   "name": "python3"
  },
  "language_info": {
   "codemirror_mode": {
    "name": "ipython",
    "version": 3
   },
   "file_extension": ".py",
   "mimetype": "text/x-python",
   "name": "python",
   "nbconvert_exporter": "python",
   "pygments_lexer": "ipython3",
   "version": "3.9.6"
  },
  "nbTranslate": {
   "displayLangs": [
    "*"
   ],
   "hotkey": "alt-t",
   "langInMainMenu": true,
   "sourceLang": "ru",
   "targetLang": "en",
   "useGoogleTranslate": true
  },
  "toc": {
   "base_numbering": 1,
   "nav_menu": {},
   "number_sections": true,
   "sideBar": true,
   "skip_h1_title": false,
   "title_cell": "Table of Contents",
   "title_sidebar": "Contents",
   "toc_cell": false,
   "toc_position": {},
   "toc_section_display": true,
   "toc_window_display": false
  }
 },
 "nbformat": 4,
 "nbformat_minor": 5
}
